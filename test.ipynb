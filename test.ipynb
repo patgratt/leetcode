{
 "cells": [
  {
   "cell_type": "code",
   "execution_count": null,
   "metadata": {},
   "outputs": [],
   "source": []
  }
 ],
 "metadata": {
  "kernelspec": {
   "display_name": "Python 3.9.12 ('base')",
   "language": "python",
   "name": "python3"
  },
  "language_info": {
   "name": "python",
   "version": "3.9.12"
  },
  "orig_nbformat": 4,
  "vscode": {
   "interpreter": {
    "hash": "40203b3ec892d21f304b904bd7441b754322a8b95cad2515f623282baa87ac4b"
   }
  }
 },
 "nbformat": 4,
 "nbformat_minor": 2
}
