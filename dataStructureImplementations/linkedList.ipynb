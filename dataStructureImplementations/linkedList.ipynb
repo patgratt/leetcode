{
 "cells": [
  {
   "cell_type": "markdown",
   "metadata": {},
   "source": [
    "# Linked List Implementation\n",
    "\n",
    "Ref: https://www.geeksforgeeks.org/reverse-a-linked-list/"
   ]
  },
  {
   "cell_type": "code",
   "execution_count": 39,
   "metadata": {},
   "outputs": [],
   "source": [
    "class ListNode:\n",
    "    def __init__(self, val):\n",
    "        self.val = val\n",
    "        self.next = None\n",
    "\n",
    "\n",
    "class LinkedList:\n",
    "    def __init__(self):\n",
    "        self.head = None\n",
    "\n",
    "    def push(self, val):\n",
    "        # create a new node, with val=val, and create temp pointer pointed at the node\n",
    "        temp = ListNode(val)\n",
    "        # set the pointer of our new node to the head of the current linked list\n",
    "        temp.next = self.head\n",
    "        # change the head pointer to now point at the new first (head) node, the one we just inserted\n",
    "        self.head = temp\n",
    "\n",
    "    def printlist(self):\n",
    "        temp = self.head\n",
    "        output = []\n",
    "        while temp:\n",
    "            output.append(temp.val)\n",
    "            temp = temp.next\n",
    "        return output\n",
    "\n",
    "    def reverseIterative(self):\n",
    "        prev = None\n",
    "        curr = self.head\n",
    "\n",
    "        while curr:\n",
    "            temp = curr.next\n",
    "            curr.next = prev\n",
    "            prev = curr\n",
    "            curr = temp\n",
    "        self.head = prev\n",
    "        return self.head\n",
    "\n",
    "    def reverseRecursive(self, head):\n",
    "        # base case, if head is empty or head is pointed at null (end of list)\n",
    "        if not head or not head.next:\n",
    "            return head\n",
    "\n",
    "        rest = self.reverseRecursive(head.next)\n",
    "\n",
    "        head.next.next = head\n",
    "        head.next = None\n",
    "        return rest"
   ]
  },
  {
   "cell_type": "markdown",
   "metadata": {},
   "source": [
    "### Iterative Reverse Test:"
   ]
  },
  {
   "cell_type": "code",
   "execution_count": 40,
   "metadata": {},
   "outputs": [
    {
     "data": {
      "text/plain": [
       "[1, 2, 3]"
      ]
     },
     "execution_count": 40,
     "metadata": {},
     "output_type": "execute_result"
    }
   ],
   "source": [
    "# initialize linked list and test iterative\n",
    "my_ll = LinkedList()\n",
    "my_ll.push(3)\n",
    "my_ll.push(2)\n",
    "my_ll.push(1)\n",
    "my_ll.printlist()"
   ]
  },
  {
   "cell_type": "code",
   "execution_count": 41,
   "metadata": {},
   "outputs": [
    {
     "data": {
      "text/plain": [
       "<__main__.ListNode at 0x7f940b1b84f0>"
      ]
     },
     "execution_count": 41,
     "metadata": {},
     "output_type": "execute_result"
    }
   ],
   "source": [
    "# this returns the pointer, which gives us the locatiton in memory of the head node\n",
    "my_ll.reverseIterative()"
   ]
  },
  {
   "cell_type": "code",
   "execution_count": 42,
   "metadata": {},
   "outputs": [
    {
     "data": {
      "text/plain": [
       "[3, 2, 1]"
      ]
     },
     "execution_count": 42,
     "metadata": {},
     "output_type": "execute_result"
    }
   ],
   "source": [
    "my_ll.printlist()"
   ]
  },
  {
   "cell_type": "markdown",
   "metadata": {},
   "source": [
    "### Recursive Reverse Test:"
   ]
  },
  {
   "cell_type": "code",
   "execution_count": 49,
   "metadata": {},
   "outputs": [
    {
     "data": {
      "text/plain": [
       "[1, 2, 3]"
      ]
     },
     "execution_count": 49,
     "metadata": {},
     "output_type": "execute_result"
    }
   ],
   "source": [
    "# initialize linked list and test iterative\n",
    "my_ll = LinkedList()\n",
    "my_ll.push(3)\n",
    "my_ll.push(2)\n",
    "my_ll.push(1)\n",
    "my_ll.printlist()"
   ]
  },
  {
   "cell_type": "code",
   "execution_count": 50,
   "metadata": {},
   "outputs": [],
   "source": [
    "my_ll.head = my_ll.reverseRecursive(my_ll.head)"
   ]
  },
  {
   "cell_type": "code",
   "execution_count": 51,
   "metadata": {},
   "outputs": [
    {
     "data": {
      "text/plain": [
       "[3, 2, 1]"
      ]
     },
     "execution_count": 51,
     "metadata": {},
     "output_type": "execute_result"
    }
   ],
   "source": [
    "my_ll.printlist()"
   ]
  }
 ],
 "metadata": {
  "kernelspec": {
   "display_name": "Python 3.9.12 ('base')",
   "language": "python",
   "name": "python3"
  },
  "language_info": {
   "codemirror_mode": {
    "name": "ipython",
    "version": 3
   },
   "file_extension": ".py",
   "mimetype": "text/x-python",
   "name": "python",
   "nbconvert_exporter": "python",
   "pygments_lexer": "ipython3",
   "version": "3.9.12"
  },
  "orig_nbformat": 4,
  "vscode": {
   "interpreter": {
    "hash": "40203b3ec892d21f304b904bd7441b754322a8b95cad2515f623282baa87ac4b"
   }
  }
 },
 "nbformat": 4,
 "nbformat_minor": 2
}
