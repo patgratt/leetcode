{
 "cells": [
  {
   "cell_type": "markdown",
   "metadata": {},
   "source": [
    "# Linked List Implementation"
   ]
  },
  {
   "cell_type": "code",
   "execution_count": 65,
   "metadata": {},
   "outputs": [],
   "source": [
    "# Define node for a singly-linked list\n",
    "\n",
    "class ListNode:\n",
    "    def __init__(self, val):\n",
    "        self.val = val\n",
    "        self.next = None"
   ]
  },
  {
   "cell_type": "code",
   "execution_count": 66,
   "metadata": {},
   "outputs": [
    {
     "name": "stdout",
     "output_type": "stream",
     "text": [
      "99\n",
      "None\n"
     ]
    }
   ],
   "source": [
    "# create a node object\n",
    "my_node = ListNode(99)\n",
    "print(my_node.val)\n",
    "print(my_node.next)"
   ]
  },
  {
   "cell_type": "code",
   "execution_count": 59,
   "metadata": {},
   "outputs": [],
   "source": [
    "# Definition for a singly-linked list\n",
    "\n",
    "class LinkedList:\n",
    "    def __init__(self):\n",
    "        # starts with a head pointer pointed at null, there are no nodes yet\n",
    "        self.head = None\n",
    "\n",
    "\n",
    "    def is_empty(self):\n",
    "        return self.head == None\n",
    "\n",
    "\n",
    "    def addnode(self, val):\n",
    "        # create a new node, with val=val, and create temp pointer pointed at the node\n",
    "        temp = ListNode(val)\n",
    "        # set the pointer of our new node to the head of the current linked list\n",
    "        temp.next = self.head\n",
    "        # change the head pointer to now point at the new first (head) node, the one we just inserted\n",
    "        self.head = temp\n",
    "\n",
    "\n",
    "    # method to get the size of the linked list\n",
    "    def size(self):\n",
    "        current = self.head\n",
    "        count = 0\n",
    "        # use a pointer to iterate thru the list and count the nodes, we know that the last node points to null\n",
    "        while current != None:\n",
    "            count = count + 1\n",
    "            # since we're pointing at a node we can use the get_next node method to move the current pointer over to the next node\n",
    "            current = current.next\n",
    "        return count\n",
    "\n",
    "    # method to search thru list for data and return boolean if the data is present\n",
    "    def search(self, data):\n",
    "        current = self.head\n",
    "        found = False\n",
    "        # break when we've reached end of the list (pointed to null) or found has become true\n",
    "        while current != None and not found:\n",
    "            if current.val == data:\n",
    "                found = True\n",
    "            else:\n",
    "                current = current.next\n",
    "        return found\n",
    "\n",
    "\n",
    "    def remove(self, item):\n",
    "        current = self.head\n",
    "        previous = None\n",
    "        found = False\n",
    "        while not found:\n",
    "            if current.val == item:\n",
    "                found = True\n",
    "            else:\n",
    "                previous = current\n",
    "                current = current.next\n",
    "\n",
    "        if previous == None:\n",
    "            self.head = current.next\n",
    "        else:\n",
    "            previous.next = current.next\n",
    "        \n",
    "\n",
    "    def printlist(self):\n",
    "        # start a pointer at the head\n",
    "        curr = self.head\n",
    "        output = []\n",
    "        # while the curr isn't at the end\n",
    "        while curr != None:\n",
    "            output.append(curr.val)\n",
    "            curr = curr.next\n",
    "        return output"
   ]
  },
  {
   "cell_type": "code",
   "execution_count": 67,
   "metadata": {},
   "outputs": [],
   "source": [
    "# initialize\n",
    "my_ll = LinkedList()\n",
    "my_ll.addnode(3)\n",
    "my_ll.addnode(2)\n",
    "my_ll.addnode(1)"
   ]
  },
  {
   "cell_type": "code",
   "execution_count": 68,
   "metadata": {},
   "outputs": [
    {
     "data": {
      "text/plain": [
       "[1, 2, 3]"
      ]
     },
     "execution_count": 68,
     "metadata": {},
     "output_type": "execute_result"
    }
   ],
   "source": [
    "my_ll.printlist()"
   ]
  },
  {
   "cell_type": "code",
   "execution_count": 69,
   "metadata": {},
   "outputs": [
    {
     "data": {
      "text/plain": [
       "3"
      ]
     },
     "execution_count": 69,
     "metadata": {},
     "output_type": "execute_result"
    }
   ],
   "source": [
    "my_ll.size()"
   ]
  },
  {
   "cell_type": "code",
   "execution_count": 70,
   "metadata": {},
   "outputs": [
    {
     "data": {
      "text/plain": [
       "True"
      ]
     },
     "execution_count": 70,
     "metadata": {},
     "output_type": "execute_result"
    }
   ],
   "source": [
    "my_ll.search(2)"
   ]
  },
  {
   "cell_type": "code",
   "execution_count": 71,
   "metadata": {},
   "outputs": [
    {
     "name": "stdout",
     "output_type": "stream",
     "text": [
      "[1, 3]\n"
     ]
    }
   ],
   "source": [
    "my_ll.remove(2)\n",
    "print(my_ll.printlist())"
   ]
  },
  {
   "cell_type": "code",
   "execution_count": null,
   "metadata": {},
   "outputs": [],
   "source": []
  },
  {
   "cell_type": "code",
   "execution_count": null,
   "metadata": {},
   "outputs": [],
   "source": []
  },
  {
   "cell_type": "code",
   "execution_count": null,
   "metadata": {},
   "outputs": [],
   "source": []
  },
  {
   "cell_type": "code",
   "execution_count": null,
   "metadata": {},
   "outputs": [],
   "source": []
  },
  {
   "cell_type": "code",
   "execution_count": 3,
   "metadata": {},
   "outputs": [],
   "source": [
    "\n",
    "# iterative solution\n",
    "\n",
    "def reverseList(head):\n",
    "    # create two pointers, a which will point at the head \n",
    "    prev, curr = None, head\n",
    "\n",
    "    # at the end of this process curr will point at null so loop while curr is not null\n",
    "    while curr:\n",
    "        # temp variable which takes on next value in the linked list\n",
    "        tmp = curr.next\n",
    "        # take the list node pointer of the node we're looking at and reverse it to the prev node thru the pointer\n",
    "        curr.next = prev\n",
    "        # \n",
    "        prev = curr\n",
    "        curr = tmp\n",
    "    return prev\n",
    "\n",
    "#head1 = [1,2,3,4,5]\n",
    "#reverseList(head1)"
   ]
  },
  {
   "cell_type": "code",
   "execution_count": 30,
   "metadata": {},
   "outputs": [],
   "source": [
    "linked_list1 = LinkedList()\n",
    "linked_list1.add(1)\n",
    "linked_list1.add(2)\n",
    "linked_list1.add(3)"
   ]
  },
  {
   "cell_type": "code",
   "execution_count": 31,
   "metadata": {},
   "outputs": [
    {
     "data": {
      "text/plain": [
       "3"
      ]
     },
     "execution_count": 31,
     "metadata": {},
     "output_type": "execute_result"
    }
   ],
   "source": [
    "linked_list1.size()"
   ]
  },
  {
   "cell_type": "code",
   "execution_count": 34,
   "metadata": {},
   "outputs": [
    {
     "data": {
      "text/plain": [
       "[3, 2, 1]"
      ]
     },
     "execution_count": 34,
     "metadata": {},
     "output_type": "execute_result"
    }
   ],
   "source": [
    "linked_list1.print_list()"
   ]
  },
  {
   "cell_type": "code",
   "execution_count": 35,
   "metadata": {},
   "outputs": [],
   "source": [
    "# recursive solution\n",
    "\n",
    "def reverseList(head):\n",
    "\n",
    "    # base case, if head is pointed at null, this will be the end because the original head is now the end which is pointed at null\n",
    "    if not head:\n",
    "        return None\n",
    "\n",
    "    # need this pointer to keep track if the original end which will become the new head\n",
    "    # initally set to the current head\n",
    "    newHead = head\n",
    "    # if the next node is not pointed at null\n",
    "    if head.next:\n",
    "        newHead = reverseList(head.next)\n",
    "        head.next.next = head\n",
    "    head.next = None\n",
    "\n",
    "    return newHead"
   ]
  },
  {
   "cell_type": "code",
   "execution_count": 36,
   "metadata": {},
   "outputs": [
    {
     "data": {
      "text/plain": [
       "<__main__.Node at 0x7faf7c81a8e0>"
      ]
     },
     "execution_count": 36,
     "metadata": {},
     "output_type": "execute_result"
    }
   ],
   "source": [
    "reverseList(linked_list1.head)"
   ]
  },
  {
   "cell_type": "code",
   "execution_count": 37,
   "metadata": {},
   "outputs": [
    {
     "data": {
      "text/plain": [
       "[3]"
      ]
     },
     "execution_count": 37,
     "metadata": {},
     "output_type": "execute_result"
    }
   ],
   "source": [
    "linked_list1.print_list()"
   ]
  },
  {
   "cell_type": "code",
   "execution_count": null,
   "metadata": {},
   "outputs": [],
   "source": []
  }
 ],
 "metadata": {
  "kernelspec": {
   "display_name": "Python 3.9.12 ('base')",
   "language": "python",
   "name": "python3"
  },
  "language_info": {
   "codemirror_mode": {
    "name": "ipython",
    "version": 3
   },
   "file_extension": ".py",
   "mimetype": "text/x-python",
   "name": "python",
   "nbconvert_exporter": "python",
   "pygments_lexer": "ipython3",
   "version": "3.9.12"
  },
  "orig_nbformat": 4,
  "vscode": {
   "interpreter": {
    "hash": "40203b3ec892d21f304b904bd7441b754322a8b95cad2515f623282baa87ac4b"
   }
  }
 },
 "nbformat": 4,
 "nbformat_minor": 2
}
