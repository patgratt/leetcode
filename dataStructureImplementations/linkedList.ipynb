{
 "cells": [
  {
   "cell_type": "markdown",
   "metadata": {},
   "source": [
    "# Linked List Implementation"
   ]
  },
  {
   "cell_type": "code",
   "execution_count": 1,
   "metadata": {},
   "outputs": [],
   "source": [
    "# Define node for a singly-linked list\n",
    "\n",
    "class ListNode:\n",
    "    def __init__(self, val=0, next=None):\n",
    "        self.val = val\n",
    "        self.next = None"
   ]
  },
  {
   "cell_type": "code",
   "execution_count": 2,
   "metadata": {},
   "outputs": [],
   "source": [
    "# Definition for a singly-linked list\n",
    "\n",
    "class LinkedList:\n",
    "    def __init__(self):\n",
    "        # starts with a head pointer pointed at null, there are no nodes yet\n",
    "        self.head = None\n",
    "\n",
    "\n",
    "    def push(self, val):\n",
    "        # create a new node, with val=val, and create temp pointer pointed at the node\n",
    "        temp = ListNode(val)\n",
    "        # set the pointer of our new no de to the head of the current linked list\n",
    "        temp.next = self.head\n",
    "        # change the head pointer to now point at the new first (head) node, the one we just inserted\n",
    "        self.head = temp\n",
    "\n",
    "\n",
    "    def printlist(self):\n",
    "        # start a pointer at the head\n",
    "        temp = self.head\n",
    "        output = []\n",
    "        # while the curr isn't at the end\n",
    "        while temp:\n",
    "            output.append(temp.val)\n",
    "            temp = temp.next\n",
    "        return output\n",
    "\n",
    "\n",
    "    def is_empty(self):\n",
    "        return self.head == None\n",
    "\n",
    "\n",
    "    def size(self):\n",
    "        current = self.head\n",
    "        count = 0\n",
    "        # use a pointer to iterate thru the list and count the nodes, we know that the last node points to null\n",
    "        while current != None:\n",
    "            count = count + 1\n",
    "            # since we're pointing at a node we can use the get_next node method to move the current pointer over to the next node\n",
    "            current = current.next\n",
    "        return count\n",
    "\n",
    "    # method to search thru list for data and return boolean if the data is present\n",
    "    def search(self, data):\n",
    "        current = self.head\n",
    "        found = False\n",
    "        # break when we've reached end of the list (pointed to null) or found has become true\n",
    "        while current != None and not found:\n",
    "            if current.val == data:\n",
    "                found = True\n",
    "            else:\n",
    "                current = current.next\n",
    "        return found\n",
    "\n",
    "\n",
    "    def remove(self, item):\n",
    "        current = self.head\n",
    "        previous = None\n",
    "        found = False\n",
    "        while not found:\n",
    "            if current.val == item:\n",
    "                found = True\n",
    "            else:\n",
    "                previous = current\n",
    "                current = current.next\n",
    "        if previous == None:\n",
    "            self.head = current.next\n",
    "        else:\n",
    "            previous.next = current.next"
   ]
  },
  {
   "cell_type": "code",
   "execution_count": 3,
   "metadata": {},
   "outputs": [],
   "source": [
    "# initialize\n",
    "my_ll = LinkedList()\n",
    "my_ll.push(3)\n",
    "my_ll.push(2)\n",
    "my_ll.push(1)"
   ]
  },
  {
   "cell_type": "code",
   "execution_count": 4,
   "metadata": {},
   "outputs": [
    {
     "data": {
      "text/plain": [
       "[1, 2, 3]"
      ]
     },
     "execution_count": 4,
     "metadata": {},
     "output_type": "execute_result"
    }
   ],
   "source": [
    "my_ll.printlist()"
   ]
  },
  {
   "cell_type": "code",
   "execution_count": 5,
   "metadata": {},
   "outputs": [
    {
     "data": {
      "text/plain": [
       "3"
      ]
     },
     "execution_count": 5,
     "metadata": {},
     "output_type": "execute_result"
    }
   ],
   "source": [
    "my_ll.size()"
   ]
  },
  {
   "cell_type": "code",
   "execution_count": 6,
   "metadata": {},
   "outputs": [
    {
     "data": {
      "text/plain": [
       "True"
      ]
     },
     "execution_count": 6,
     "metadata": {},
     "output_type": "execute_result"
    }
   ],
   "source": [
    "my_ll.search(2)"
   ]
  },
  {
   "cell_type": "code",
   "execution_count": 7,
   "metadata": {},
   "outputs": [
    {
     "name": "stdout",
     "output_type": "stream",
     "text": [
      "[1, 3]\n"
     ]
    }
   ],
   "source": [
    "my_ll.remove(2)\n",
    "print(my_ll.printlist())"
   ]
  },
  {
   "cell_type": "code",
   "execution_count": null,
   "metadata": {},
   "outputs": [],
   "source": []
  }
 ],
 "metadata": {
  "kernelspec": {
   "display_name": "Python 3.9.12 ('base')",
   "language": "python",
   "name": "python3"
  },
  "language_info": {
   "codemirror_mode": {
    "name": "ipython",
    "version": 3
   },
   "file_extension": ".py",
   "mimetype": "text/x-python",
   "name": "python",
   "nbconvert_exporter": "python",
   "pygments_lexer": "ipython3",
   "version": "3.9.12"
  },
  "orig_nbformat": 4,
  "vscode": {
   "interpreter": {
    "hash": "40203b3ec892d21f304b904bd7441b754322a8b95cad2515f623282baa87ac4b"
   }
  }
 },
 "nbformat": 4,
 "nbformat_minor": 2
}
