{
 "cells": [
  {
   "cell_type": "code",
   "execution_count": 75,
   "metadata": {},
   "outputs": [],
   "source": [
    "# Definition for a binary tree node.\n",
    "class TreeNode:\n",
    "    def __init__(self, val=0, left=None, right=None):\n",
    "        self.val = val\n",
    "        self.left = left\n",
    "        self.right = right\n",
    "\n",
    "# method to recursively print tree\n",
    "def printTree(node, level=0):\n",
    "    if node != None:\n",
    "        printTree(node.left, level + 1)\n",
    "        print(' ' * 4 * level + '-> ' + str(node.val))\n",
    "        printTree(node.right, level + 1)"
   ]
  },
  {
   "cell_type": "code",
   "execution_count": 76,
   "metadata": {},
   "outputs": [],
   "source": [
    "# test tree\n",
    "root = TreeNode(val=4)\n",
    "\n",
    "root.left = TreeNode(val=2)\n",
    "root.right = TreeNode(val=7)\n",
    "\n",
    "root.left.left = TreeNode(val=1)\n",
    "root.left.right = TreeNode(val=3)\n",
    "root.right.left = TreeNode(val=6)\n",
    "root.right.right = TreeNode(val=9)"
   ]
  },
  {
   "cell_type": "code",
   "execution_count": 77,
   "metadata": {},
   "outputs": [
    {
     "name": "stdout",
     "output_type": "stream",
     "text": [
      "        -> 1\n",
      "    -> 2\n",
      "        -> 3\n",
      "-> 4\n",
      "        -> 6\n",
      "    -> 7\n",
      "        -> 9\n"
     ]
    }
   ],
   "source": [
    "printTree(root)"
   ]
  }
 ],
 "metadata": {
  "kernelspec": {
   "display_name": "Python 3.9.12 ('base')",
   "language": "python",
   "name": "python3"
  },
  "language_info": {
   "codemirror_mode": {
    "name": "ipython",
    "version": 3
   },
   "file_extension": ".py",
   "mimetype": "text/x-python",
   "name": "python",
   "nbconvert_exporter": "python",
   "pygments_lexer": "ipython3",
   "version": "3.9.12"
  },
  "orig_nbformat": 4,
  "vscode": {
   "interpreter": {
    "hash": "40203b3ec892d21f304b904bd7441b754322a8b95cad2515f623282baa87ac4b"
   }
  }
 },
 "nbformat": 4,
 "nbformat_minor": 2
}
