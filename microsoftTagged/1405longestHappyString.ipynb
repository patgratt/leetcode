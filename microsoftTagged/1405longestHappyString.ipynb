{
 "cells": [
  {
   "cell_type": "code",
   "execution_count": 9,
   "metadata": {},
   "outputs": [
    {
     "name": "stdout",
     "output_type": "stream",
     "text": [
      "ccbccacc\n",
      "aabaa\n",
      "cbacbacbacbacbacbacba\n"
     ]
    }
   ],
   "source": [
    "def longestDiverseString(a: int, b: int, c: int) -> str:\n",
    "    s = [[a, 'a'], [b, 'b'], [c, 'c']]\n",
    "    ans = []\n",
    "    while True:\n",
    "        s.sort()\n",
    "        i = 1 if len(ans) >= 2 and ans[-2] == ans[-1] == s[2][1] else 2\n",
    "        if s[i][0]:\n",
    "            ans.append(s[i][1])\n",
    "            s[i][0] -= 1\n",
    "        else:\n",
    "            break\n",
    "    return ''.join(ans)\n",
    "\n",
    "\n",
    "\n",
    "print(longestDiverseString(a = 1, b = 1, c = 7)) # ccbccacc\n",
    "print(longestDiverseString(a = 7, b = 1, c = 0)) # aabaa\n",
    "print(longestDiverseString(a = 7, b = 7, c = 7)) # cbacbacbacbacbacbacba\n"
   ]
  }
 ],
 "metadata": {
  "kernelspec": {
   "display_name": "Python 3.9.12 ('base')",
   "language": "python",
   "name": "python3"
  },
  "language_info": {
   "codemirror_mode": {
    "name": "ipython",
    "version": 3
   },
   "file_extension": ".py",
   "mimetype": "text/x-python",
   "name": "python",
   "nbconvert_exporter": "python",
   "pygments_lexer": "ipython3",
   "version": "3.9.12"
  },
  "orig_nbformat": 4,
  "vscode": {
   "interpreter": {
    "hash": "40203b3ec892d21f304b904bd7441b754322a8b95cad2515f623282baa87ac4b"
   }
  }
 },
 "nbformat": 4,
 "nbformat_minor": 2
}
