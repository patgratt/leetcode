{
 "cells": [
  {
   "cell_type": "code",
   "execution_count": 3,
   "metadata": {},
   "outputs": [
    {
     "name": "stdout",
     "output_type": "stream",
     "text": [
      "2\n"
     ]
    }
   ],
   "source": [
    "# method 1 - use stack to cancel bad pairs - TC & SC: O(n)\n",
    "\n",
    "def minimumDeletions(s):\n",
    "    res = 0\n",
    "    stack = []\n",
    "    for c in s:\n",
    "        if stack and stack[-1] == 'b' and c == 'a':\n",
    "            stack.pop()\n",
    "            res += 1\n",
    "        else:\n",
    "            stack.append(c)\n",
    "    return res\n",
    "\n",
    "print(minimumDeletions(\"aababbab\")) # 2"
   ]
  },
  {
   "cell_type": "code",
   "execution_count": 9,
   "metadata": {},
   "outputs": [
    {
     "name": "stdout",
     "output_type": "stream",
     "text": [
      "2\n"
     ]
    }
   ],
   "source": [
    "# this solution works but there's no way in hell i would ever think to do this\n",
    "\n",
    "def minimumDeletions(s):\n",
    "    a = s.count('a')\n",
    "    b = 0\n",
    "    cnt = len(s)\n",
    "\n",
    "    for c in s:\n",
    "        if c == \"b\":\n",
    "            cnt = min(cnt, a + b)\n",
    "            b += 1\n",
    "        else:\n",
    "            a -= 1\n",
    "    return min(cnt, b)\n",
    "\n",
    "print(minimumDeletions(\"aababbab\")) # 2\n"
   ]
  },
  {
   "cell_type": "code",
   "execution_count": 8,
   "metadata": {},
   "outputs": [
    {
     "data": {
      "text/plain": [
       "4"
      ]
     },
     "execution_count": 8,
     "metadata": {},
     "output_type": "execute_result"
    }
   ],
   "source": [
    "# idt i've ever used this .count() method before but pretty self explanatory\n",
    "s = \"aababbab\"\n",
    "s.count(\"a\")"
   ]
  }
 ],
 "metadata": {
  "kernelspec": {
   "display_name": "Python 3.9.12 ('base')",
   "language": "python",
   "name": "python3"
  },
  "language_info": {
   "codemirror_mode": {
    "name": "ipython",
    "version": 3
   },
   "file_extension": ".py",
   "mimetype": "text/x-python",
   "name": "python",
   "nbconvert_exporter": "python",
   "pygments_lexer": "ipython3",
   "version": "3.9.12"
  },
  "orig_nbformat": 4,
  "vscode": {
   "interpreter": {
    "hash": "40203b3ec892d21f304b904bd7441b754322a8b95cad2515f623282baa87ac4b"
   }
  }
 },
 "nbformat": 4,
 "nbformat_minor": 2
}
