{
 "cells": [
  {
   "cell_type": "code",
   "execution_count": 6,
   "id": "34a08a64",
   "metadata": {},
   "outputs": [],
   "source": [
    "def checkTree(root):\n",
    "    return root[0] == (root[1] + root[2])"
   ]
  },
  {
   "cell_type": "code",
   "execution_count": 7,
   "id": "11755998",
   "metadata": {},
   "outputs": [],
   "source": [
    "ex1 = [10,4,6]\n",
    "ex2 = [5,3,1]"
   ]
  },
  {
   "cell_type": "code",
   "execution_count": 8,
   "id": "f28b234c",
   "metadata": {},
   "outputs": [
    {
     "data": {
      "text/plain": [
       "True"
      ]
     },
     "execution_count": 8,
     "metadata": {},
     "output_type": "execute_result"
    }
   ],
   "source": [
    "checkTree(ex1)"
   ]
  },
  {
   "cell_type": "code",
   "execution_count": 10,
   "id": "85fbb860",
   "metadata": {},
   "outputs": [
    {
     "data": {
      "text/plain": [
       "False"
      ]
     },
     "execution_count": 10,
     "metadata": {},
     "output_type": "execute_result"
    }
   ],
   "source": [
    "checkTree(ex2)\n",
    "#leetcode not accepting this solution for some reason\n",
    "#TypeError: 'Treenode' object is not subscriptable - I guess this is some strange object and not a list so idk"
   ]
  },
  {
   "cell_type": "code",
   "execution_count": 11,
   "id": "24a20da0",
   "metadata": {},
   "outputs": [],
   "source": [
    "# apparently this works: return root.val==root.left.val+root.right.val\n",
    "# so yea its not a list it's some unique type of object"
   ]
  },
  {
   "cell_type": "code",
   "execution_count": 12,
   "id": "03fa61ae",
   "metadata": {},
   "outputs": [],
   "source": [
    "#Definition for a binary tree node.\n",
    "class TreeNode:\n",
    "    def __init__(self, val=0, left=None, right=None):\n",
    "        self.val = val\n",
    "        self.left = left\n",
    "        self.right = right"
   ]
  }
 ],
 "metadata": {
  "kernelspec": {
   "display_name": "Python 3 (ipykernel)",
   "language": "python",
   "name": "python3"
  },
  "language_info": {
   "codemirror_mode": {
    "name": "ipython",
    "version": 3
   },
   "file_extension": ".py",
   "mimetype": "text/x-python",
   "name": "python",
   "nbconvert_exporter": "python",
   "pygments_lexer": "ipython3",
   "version": "3.9.7"
  }
 },
 "nbformat": 4,
 "nbformat_minor": 5
}
