{
 "cells": [
  {
   "cell_type": "code",
   "execution_count": 1,
   "id": "9138b693",
   "metadata": {},
   "outputs": [],
   "source": [
    "ex = [0,2,1,5,3,4]"
   ]
  },
  {
   "cell_type": "code",
   "execution_count": 3,
   "id": "ddd17531",
   "metadata": {},
   "outputs": [
    {
     "data": {
      "text/plain": [
       "[0, 2, 1, 5, 3, 4]"
      ]
     },
     "execution_count": 3,
     "metadata": {},
     "output_type": "execute_result"
    }
   ],
   "source": [
    "ex"
   ]
  },
  {
   "cell_type": "code",
   "execution_count": 4,
   "id": "2e554637",
   "metadata": {},
   "outputs": [
    {
     "name": "stdout",
     "output_type": "stream",
     "text": [
      "0 0\n",
      "1 2\n",
      "2 1\n",
      "3 5\n",
      "4 3\n",
      "5 4\n"
     ]
    }
   ],
   "source": [
    "for i, a in enumerate(ex):\n",
    "    print(i, a)"
   ]
  },
  {
   "cell_type": "code",
   "execution_count": 9,
   "id": "56165ad1",
   "metadata": {},
   "outputs": [],
   "source": [
    "new = [a for i, a in enumerate(ex)]"
   ]
  },
  {
   "cell_type": "code",
   "execution_count": 10,
   "id": "91db445a",
   "metadata": {},
   "outputs": [
    {
     "data": {
      "text/plain": [
       "[0, 2, 1, 5, 3, 4]"
      ]
     },
     "execution_count": 10,
     "metadata": {},
     "output_type": "execute_result"
    }
   ],
   "source": [
    "new"
   ]
  },
  {
   "cell_type": "code",
   "execution_count": 13,
   "id": "d32232c0",
   "metadata": {},
   "outputs": [],
   "source": [
    "# gave up here's solution\n",
    "def buildArray(nums):\n",
    "    return [nums[i] for i in nums]"
   ]
  },
  {
   "cell_type": "code",
   "execution_count": 14,
   "id": "abbce0ca",
   "metadata": {},
   "outputs": [
    {
     "data": {
      "text/plain": [
       "[0, 1, 2, 4, 5, 3]"
      ]
     },
     "execution_count": 14,
     "metadata": {},
     "output_type": "execute_result"
    }
   ],
   "source": [
    "buildArray(ex)\n",
    "#wow that was easy"
   ]
  }
 ],
 "metadata": {
  "kernelspec": {
   "display_name": "Python 3 (ipykernel)",
   "language": "python",
   "name": "python3"
  },
  "language_info": {
   "codemirror_mode": {
    "name": "ipython",
    "version": 3
   },
   "file_extension": ".py",
   "mimetype": "text/x-python",
   "name": "python",
   "nbconvert_exporter": "python",
   "pygments_lexer": "ipython3",
   "version": "3.9.7"
  }
 },
 "nbformat": 4,
 "nbformat_minor": 5
}
