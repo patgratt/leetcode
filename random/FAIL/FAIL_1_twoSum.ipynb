{
 "cells": [
  {
   "cell_type": "code",
   "execution_count": 3,
   "metadata": {},
   "outputs": [],
   "source": [
    "ex_arr = [2,7,11,15]\n",
    "ex_tar = 9"
   ]
  },
  {
   "cell_type": "code",
   "execution_count": 11,
   "metadata": {},
   "outputs": [],
   "source": [
    "def twoSum(nums, target):\n",
    "    for i in nums:\n",
    "        for j in range(len(nums+1)):\n",
    "            if nums[i] + nums[j] == target:\n",
    "                return [i,j]"
   ]
  },
  {
   "cell_type": "code",
   "execution_count": 12,
   "metadata": {},
   "outputs": [
    {
     "ename": "TypeError",
     "evalue": "can only concatenate list (not \"int\") to list",
     "output_type": "error",
     "traceback": [
      "\u001b[0;31m---------------------------------------------------------------------------\u001b[0m",
      "\u001b[0;31mTypeError\u001b[0m                                 Traceback (most recent call last)",
      "\u001b[1;32m/Users/patrickburke/repos/leetcode/1_twoSum.ipynb Cell 3'\u001b[0m in \u001b[0;36m<cell line: 1>\u001b[0;34m()\u001b[0m\n\u001b[0;32m----> <a href='vscode-notebook-cell:/Users/patrickburke/repos/leetcode/1_twoSum.ipynb#ch0000002?line=0'>1</a>\u001b[0m twoSum(ex_arr,ex_tar)\n",
      "\u001b[1;32m/Users/patrickburke/repos/leetcode/1_twoSum.ipynb Cell 2'\u001b[0m in \u001b[0;36mtwoSum\u001b[0;34m(nums, target)\u001b[0m\n\u001b[1;32m      <a href='vscode-notebook-cell:/Users/patrickburke/repos/leetcode/1_twoSum.ipynb#ch0000001?line=0'>1</a>\u001b[0m \u001b[39mdef\u001b[39;00m \u001b[39mtwoSum\u001b[39m(nums, target):\n\u001b[1;32m      <a href='vscode-notebook-cell:/Users/patrickburke/repos/leetcode/1_twoSum.ipynb#ch0000001?line=1'>2</a>\u001b[0m     \u001b[39mfor\u001b[39;00m i \u001b[39min\u001b[39;00m nums:\n\u001b[0;32m----> <a href='vscode-notebook-cell:/Users/patrickburke/repos/leetcode/1_twoSum.ipynb#ch0000001?line=2'>3</a>\u001b[0m         \u001b[39mfor\u001b[39;00m j \u001b[39min\u001b[39;00m \u001b[39mrange\u001b[39m(\u001b[39mlen\u001b[39m(nums\u001b[39m+\u001b[39;49m\u001b[39m1\u001b[39;49m)):\n\u001b[1;32m      <a href='vscode-notebook-cell:/Users/patrickburke/repos/leetcode/1_twoSum.ipynb#ch0000001?line=3'>4</a>\u001b[0m             \u001b[39mif\u001b[39;00m nums[i] \u001b[39m+\u001b[39m nums[j] \u001b[39m==\u001b[39m target:\n\u001b[1;32m      <a href='vscode-notebook-cell:/Users/patrickburke/repos/leetcode/1_twoSum.ipynb#ch0000001?line=4'>5</a>\u001b[0m                 \u001b[39mreturn\u001b[39;00m [i,j]\n",
      "\u001b[0;31mTypeError\u001b[0m: can only concatenate list (not \"int\") to list"
     ]
    }
   ],
   "source": [
    "twoSum(ex_arr,ex_tar)"
   ]
  },
  {
   "cell_type": "code",
   "execution_count": null,
   "metadata": {},
   "outputs": [],
   "source": [
    "ex_arr = [2,7,11,15]\n",
    "ex_tar = 9\n",
    "# answer = [0,1]"
   ]
  },
  {
   "cell_type": "code",
   "execution_count": 15,
   "metadata": {},
   "outputs": [],
   "source": [
    "# solution\n",
    "\n",
    "def twoSum(nums, target):\n",
    "    # create empty dictionary\n",
    "    seen = {}\n",
    "    # loop through and get indices and values\n",
    "    for i, value in enumerate(nums):\n",
    "        # for each iteration we set remaing equal to the difference between the target and the index of the iterationi\n",
    "        remaining = target - nums[i]\n",
    "        # will be False the first iteration\n",
    "        # for second iteration, we check if remaining has been seen before, if so we've found a pair that works\n",
    "        if remaining in seen:\n",
    "            return [seen[remaining],i]\n",
    "        # for next iteration, we add the seen value to the dictionary and track its index\n",
    "        else:\n",
    "            seen[value] = i"
   ]
  },
  {
   "cell_type": "code",
   "execution_count": 16,
   "metadata": {},
   "outputs": [
    {
     "data": {
      "text/plain": [
       "[0, 1]"
      ]
     },
     "execution_count": 16,
     "metadata": {},
     "output_type": "execute_result"
    }
   ],
   "source": [
    "twoSum(ex_arr,ex_tar)"
   ]
  }
 ],
 "metadata": {
  "kernelspec": {
   "display_name": "Python 3.9.12 ('base')",
   "language": "python",
   "name": "python3"
  },
  "language_info": {
   "codemirror_mode": {
    "name": "ipython",
    "version": 3
   },
   "file_extension": ".py",
   "mimetype": "text/x-python",
   "name": "python",
   "nbconvert_exporter": "python",
   "pygments_lexer": "ipython3",
   "version": "3.9.12"
  },
  "orig_nbformat": 4,
  "vscode": {
   "interpreter": {
    "hash": "40203b3ec892d21f304b904bd7441b754322a8b95cad2515f623282baa87ac4b"
   }
  }
 },
 "nbformat": 4,
 "nbformat_minor": 2
}
