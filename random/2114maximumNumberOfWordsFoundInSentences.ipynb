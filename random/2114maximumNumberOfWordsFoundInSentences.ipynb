{
 "cells": [
  {
   "cell_type": "code",
   "execution_count": 2,
   "id": "e1ce6df7",
   "metadata": {},
   "outputs": [],
   "source": [
    "ex = [\"alice and bob love leetcode\", \"i think so too\", \"this is great thanks very much\"]"
   ]
  },
  {
   "cell_type": "code",
   "execution_count": 8,
   "id": "59eaa212",
   "metadata": {},
   "outputs": [
    {
     "data": {
      "text/plain": [
       "6"
      ]
     },
     "execution_count": 8,
     "metadata": {},
     "output_type": "execute_result"
    }
   ],
   "source": [
    "def mostWordsFound(sentences):\n",
    "    count_list = []\n",
    "    count = 1\n",
    "    for sen in sentences:\n",
    "        for char in sen:\n",
    "            if char == ' ':\n",
    "                count += 1\n",
    "        count_list.append(count)\n",
    "        count = 1\n",
    "    return max(count_list)\n",
    "\n",
    "# not efficient at all but works\n",
    "mostWordsFound(ex)"
   ]
  },
  {
   "cell_type": "code",
   "execution_count": 12,
   "id": "c2dd7409",
   "metadata": {},
   "outputs": [
    {
     "data": {
      "text/plain": [
       "6"
      ]
     },
     "execution_count": 12,
     "metadata": {},
     "output_type": "execute_result"
    }
   ],
   "source": [
    "# wow this could have been so much easier\n",
    "\n",
    "def mostWordsFound(sentences):\n",
    "    return max(len(word.split()) for word in sentences)\n",
    "\n",
    "mostWordsFound(ex)"
   ]
  },
  {
   "cell_type": "code",
   "execution_count": 14,
   "id": "aa5d615c",
   "metadata": {},
   "outputs": [
    {
     "name": "stdout",
     "output_type": "stream",
     "text": [
      "[['alice', 'and', 'bob', 'love', 'leetcode'], ['i', 'think', 'so', 'too'], ['this', 'is', 'great', 'thanks', 'very', 'much']]\n"
     ]
    }
   ],
   "source": [
    "# this function splits the sentences into an array of words, then just get the max len() of the arrays \n",
    "print([word.split() for word in ex])"
   ]
  }
 ],
 "metadata": {
  "kernelspec": {
   "display_name": "Python 3.9.12 ('base')",
   "language": "python",
   "name": "python3"
  },
  "language_info": {
   "codemirror_mode": {
    "name": "ipython",
    "version": 3
   },
   "file_extension": ".py",
   "mimetype": "text/x-python",
   "name": "python",
   "nbconvert_exporter": "python",
   "pygments_lexer": "ipython3",
   "version": "3.9.12"
  },
  "vscode": {
   "interpreter": {
    "hash": "40203b3ec892d21f304b904bd7441b754322a8b95cad2515f623282baa87ac4b"
   }
  }
 },
 "nbformat": 4,
 "nbformat_minor": 5
}
