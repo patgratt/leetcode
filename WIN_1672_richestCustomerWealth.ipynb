{
 "cells": [
  {
   "cell_type": "code",
   "execution_count": 28,
   "id": "aa110a6d",
   "metadata": {},
   "outputs": [],
   "source": [
    "ex = [[1,2,3],[3,2,1]]\n",
    "ex2 = [[1,5],[7,3],[3,5]]\n",
    "ex3 = [[2,8,7],[7,1,3],[1,9,5]]"
   ]
  },
  {
   "cell_type": "code",
   "execution_count": 39,
   "id": "0feddac5",
   "metadata": {},
   "outputs": [],
   "source": [
    "def maximumWealth(accounts):\n",
    "    total_list = []\n",
    "    for i, a in enumerate(accounts):\n",
    "        total_list.append(sum(a))\n",
    "    return (max(total_list))"
   ]
  },
  {
   "cell_type": "code",
   "execution_count": 40,
   "id": "954c60c5",
   "metadata": {},
   "outputs": [
    {
     "data": {
      "text/plain": [
       "6"
      ]
     },
     "execution_count": 40,
     "metadata": {},
     "output_type": "execute_result"
    }
   ],
   "source": [
    "maximumWealth(ex)"
   ]
  },
  {
   "cell_type": "code",
   "execution_count": 41,
   "id": "c93c6e7d",
   "metadata": {},
   "outputs": [
    {
     "data": {
      "text/plain": [
       "10"
      ]
     },
     "execution_count": 41,
     "metadata": {},
     "output_type": "execute_result"
    }
   ],
   "source": [
    "maximumWealth(ex2)"
   ]
  },
  {
   "cell_type": "code",
   "execution_count": 42,
   "id": "586267f7",
   "metadata": {},
   "outputs": [
    {
     "data": {
      "text/plain": [
       "17"
      ]
     },
     "execution_count": 42,
     "metadata": {},
     "output_type": "execute_result"
    }
   ],
   "source": [
    "maximumWealth(ex3)"
   ]
  },
  {
   "cell_type": "code",
   "execution_count": null,
   "id": "5271bd1e",
   "metadata": {},
   "outputs": [],
   "source": []
  }
 ],
 "metadata": {
  "kernelspec": {
   "display_name": "Python 3 (ipykernel)",
   "language": "python",
   "name": "python3"
  },
  "language_info": {
   "codemirror_mode": {
    "name": "ipython",
    "version": 3
   },
   "file_extension": ".py",
   "mimetype": "text/x-python",
   "name": "python",
   "nbconvert_exporter": "python",
   "pygments_lexer": "ipython3",
   "version": "3.9.7"
  }
 },
 "nbformat": 4,
 "nbformat_minor": 5
}
