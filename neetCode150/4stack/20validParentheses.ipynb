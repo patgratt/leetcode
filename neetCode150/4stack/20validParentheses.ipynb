{
 "cells": [
  {
   "cell_type": "code",
   "execution_count": 4,
   "metadata": {},
   "outputs": [
    {
     "data": {
      "text/plain": [
       "True"
      ]
     },
     "execution_count": 4,
     "metadata": {},
     "output_type": "execute_result"
    }
   ],
   "source": [
    "def isValid(s):\n",
    "\n",
    "    stack = []\n",
    "    # hashmap where keys are closing paren and their corresponding values are their corresponding opening paren\n",
    "    closeToOpen = { \")\" : \"(\", \"]\" : \"[\", \"}\" : \"{\" }\n",
    "\n",
    "    for c in s:\n",
    "        # check if c is a closing paren\n",
    "        if c in closeToOpen:\n",
    "            # if stack checks if the stack is not empty\n",
    "            # next conditionn checks if the top of the stack is the matching open parentheses\n",
    "            if stack and stack[-1] == closeToOpen[c]:\n",
    "                stack.pop()\n",
    "            else:\n",
    "                return False\n",
    "        # if we get open paren\n",
    "        else:\n",
    "            # add it to the stack\n",
    "            stack.append(c)\n",
    "    \n",
    "    # if the stack is empty we have a valid string, else false\n",
    "    return True if not stack else False\n",
    "\n",
    "s1 = \"()[]{}\"\n",
    "isValid(s1)"
   ]
  }
 ],
 "metadata": {
  "kernelspec": {
   "display_name": "Python 3.9.12 ('base')",
   "language": "python",
   "name": "python3"
  },
  "language_info": {
   "codemirror_mode": {
    "name": "ipython",
    "version": 3
   },
   "file_extension": ".py",
   "mimetype": "text/x-python",
   "name": "python",
   "nbconvert_exporter": "python",
   "pygments_lexer": "ipython3",
   "version": "3.9.12"
  },
  "orig_nbformat": 4,
  "vscode": {
   "interpreter": {
    "hash": "40203b3ec892d21f304b904bd7441b754322a8b95cad2515f623282baa87ac4b"
   }
  }
 },
 "nbformat": 4,
 "nbformat_minor": 2
}
