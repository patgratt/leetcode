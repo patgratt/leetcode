{
 "cells": [
  {
   "cell_type": "code",
   "execution_count": 5,
   "metadata": {},
   "outputs": [],
   "source": [
    "ex1 = 3 # [\"((()))\",\"(()())\",\"(())()\",\"()(())\",\"()()()\"]\n",
    "ex2 = 1 # [\"()\"]"
   ]
  },
  {
   "cell_type": "markdown",
   "metadata": {},
   "source": [
    "- A combination is a \"well formed parenthese\" if and only if countOpen == countClosed == n\n",
    "    - Additionally, each closing parentheses must be preceeded by a matching opening parentheses"
   ]
  },
  {
   "cell_type": "markdown",
   "metadata": {},
   "source": [
    "- Conditions to check when building decision tree:\n",
    "    - Can only add open if countOpen < n\n",
    "    - Can only add close is countClose < countOpen AND countClose < n"
   ]
  },
  {
   "cell_type": "code",
   "execution_count": 16,
   "metadata": {},
   "outputs": [],
   "source": [
    "def generateParentheses(n):\n",
    "\n",
    "    # this stack will be used to build up possible combos\n",
    "    stack = []\n",
    "    # res stack that we'll return\n",
    "    res = []\n",
    "\n",
    "    # recursive function\n",
    "    def backtrack(openN, closedN):\n",
    "        # base case, we have a \"well formed parentheses\"\n",
    "        if openN == closedN == n:\n",
    "            res.append(\"\".join(stack))\n",
    "\n",
    "        # we still have room to add an open\n",
    "        if openN < n:\n",
    "            stack.append(\"(\")\n",
    "            backtrack(openN + 1, closedN)\n",
    "            stack.pop()\n",
    "\n",
    "        # we still have room to add closed\n",
    "        if closedN < openN:\n",
    "            stack.append(\")\")\n",
    "            backtrack(openN, closedN + 1)\n",
    "            stack.pop()\n",
    "\n",
    "    backtrack(0,0)\n",
    "    return res\n",
    "\n",
    "generateParentheses(3)"
   ]
  },
  {
   "cell_type": "code",
   "execution_count": 7,
   "metadata": {},
   "outputs": [
    {
     "data": {
      "text/plain": [
       "['()']"
      ]
     },
     "execution_count": 7,
     "metadata": {},
     "output_type": "execute_result"
    }
   ],
   "source": [
    "generateParentheses(1)"
   ]
  },
  {
   "cell_type": "code",
   "execution_count": 8,
   "metadata": {},
   "outputs": [
    {
     "data": {
      "text/plain": [
       "['(())', '()()']"
      ]
     },
     "execution_count": 8,
     "metadata": {},
     "output_type": "execute_result"
    }
   ],
   "source": [
    "generateParentheses(2)"
   ]
  },
  {
   "cell_type": "code",
   "execution_count": 9,
   "metadata": {},
   "outputs": [
    {
     "data": {
      "text/plain": [
       "['((()))', '(()())', '(())()', '()(())', '()()()']"
      ]
     },
     "execution_count": 9,
     "metadata": {},
     "output_type": "execute_result"
    }
   ],
   "source": [
    "generateParentheses(3)"
   ]
  }
 ],
 "metadata": {
  "kernelspec": {
   "display_name": "Python 3.9.12 ('base')",
   "language": "python",
   "name": "python3"
  },
  "language_info": {
   "codemirror_mode": {
    "name": "ipython",
    "version": 3
   },
   "file_extension": ".py",
   "mimetype": "text/x-python",
   "name": "python",
   "nbconvert_exporter": "python",
   "pygments_lexer": "ipython3",
   "version": "3.9.12"
  },
  "orig_nbformat": 4,
  "vscode": {
   "interpreter": {
    "hash": "40203b3ec892d21f304b904bd7441b754322a8b95cad2515f623282baa87ac4b"
   }
  }
 },
 "nbformat": 4,
 "nbformat_minor": 2
}
