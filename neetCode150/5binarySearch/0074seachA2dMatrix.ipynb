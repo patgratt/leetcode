{
 "cells": [
  {
   "cell_type": "code",
   "execution_count": 1,
   "metadata": {},
   "outputs": [],
   "source": [
    "matrix1 = [[1,3,5,7],[10,11,16,20],[23,30,34,60]]\n",
    "target1 = 3"
   ]
  },
  {
   "cell_type": "code",
   "execution_count": 2,
   "metadata": {},
   "outputs": [],
   "source": [
    "def searchMatrix(matrix, target):\n",
    "    ROWS = len(matrix)\n",
    "    COLS = len(matrix[0])\n",
    "\n",
    "    top = 0\n",
    "    bot = ROWS - 1\n",
    "\n",
    "    while top <= bot:\n",
    "        row = (top + bot) // 2\n",
    "\n",
    "        # if the target is greater than the last element of the row we guessed, new top should be next row\n",
    "        if target > matrix[row][-1]:\n",
    "            top = row + 1\n",
    "        # if the target is less than the first element of the row we guessed, new bottom should be previous row\n",
    "        elif target < matrix[row][0]:\n",
    "            bot = row - 1\n",
    "        # else we have the correct row or the target is not present\n",
    "        else:\n",
    "            break\n",
    "    \n",
    "    # if the pointers crossed we know that the target is not present as we've checked all the rows\n",
    "    if not (top <= bot):\n",
    "        return False\n",
    "    \n",
    "    # now run normal binary search on the row we've identified\n",
    "    row = (top + bot) // 2\n",
    "    l = 0\n",
    "    r = COLS - 1\n",
    "\n",
    "    while l <= r:\n",
    "        mid = (l + r) // 2\n",
    "        if target > matrix[row][mid]:\n",
    "            l = mid + 1\n",
    "        elif target < matrix[row][mid]:\n",
    "            r = mid - 1\n",
    "        else:\n",
    "            return  True\n",
    "    return False"
   ]
  },
  {
   "cell_type": "code",
   "execution_count": 3,
   "metadata": {},
   "outputs": [
    {
     "data": {
      "text/plain": [
       "True"
      ]
     },
     "execution_count": 3,
     "metadata": {},
     "output_type": "execute_result"
    }
   ],
   "source": [
    "searchMatrix(matrix1, target1) # true"
   ]
  },
  {
   "cell_type": "code",
   "execution_count": 4,
   "metadata": {},
   "outputs": [
    {
     "data": {
      "text/plain": [
       "False"
      ]
     },
     "execution_count": 4,
     "metadata": {},
     "output_type": "execute_result"
    }
   ],
   "source": [
    "matrix2 = [[1,3,5,7],[10,11,16,20],[23,30,34,60]]\n",
    "target2 = 13\n",
    "\n",
    "searchMatrix(matrix2, target2) # false"
   ]
  }
 ],
 "metadata": {
  "kernelspec": {
   "display_name": "Python 3.9.12 ('base')",
   "language": "python",
   "name": "python3"
  },
  "language_info": {
   "codemirror_mode": {
    "name": "ipython",
    "version": 3
   },
   "file_extension": ".py",
   "mimetype": "text/x-python",
   "name": "python",
   "nbconvert_exporter": "python",
   "pygments_lexer": "ipython3",
   "version": "3.9.12"
  },
  "orig_nbformat": 4,
  "vscode": {
   "interpreter": {
    "hash": "40203b3ec892d21f304b904bd7441b754322a8b95cad2515f623282baa87ac4b"
   }
  }
 },
 "nbformat": 4,
 "nbformat_minor": 2
}
