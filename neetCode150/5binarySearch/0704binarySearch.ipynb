{
 "cells": [
  {
   "cell_type": "markdown",
   "metadata": {},
   "source": [
    "Given an array of integers nums which is sorted in ascending order, and an integer target, write a function to search target in nums. If target exists, then return its index. Otherwise, return -1.\n",
    "\n",
    "You must write an algorithm with O(log n) runtime complexity."
   ]
  },
  {
   "cell_type": "markdown",
   "metadata": {},
   "source": [
    "In this questions, the left and right values that we will use are POINTERS"
   ]
  },
  {
   "cell_type": "code",
   "execution_count": 1,
   "metadata": {},
   "outputs": [],
   "source": [
    "ex_nums = [-1,0,3,5,9,12]\n",
    "ex_tar = 9"
   ]
  },
  {
   "cell_type": "code",
   "execution_count": 2,
   "metadata": {},
   "outputs": [],
   "source": [
    "def search(nums, target):\n",
    "    # left and right pointers keep track of which part of array we're searching in\n",
    "    # array can contain negative numbers but it's pre sorted so we can use index\n",
    "    # left pointer takes index 0 (smallest element)\n",
    "    left = 0\n",
    "    # right pointer takes index the last index  (largest element)\n",
    "    # can't just do -1 to get last bc we need to use the actual index to get the midpoint\n",
    "    right = len(nums) - 1\n",
    "    # loop until we've narrowed it down to one element\n",
    "    # if one pointer crosses the other, it means that we have checked all values and the target is not in the array, thus we'll break the loop and return -1\n",
    "    while left <= right:\n",
    "        # get the index of the midpoint\n",
    "        mid = (left + right) // 2\n",
    "        # set guess equal to the midpoint of the array\n",
    "        guess = nums[mid]\n",
    "        # if guess correct, return the index\n",
    "        if guess == target:\n",
    "            return mid\n",
    "        # if guess is too high, we've now eliminated the right half, keep the left pointer and set the new right to the mid (minus one, we've already checked the original mid)\n",
    "        elif guess > target:\n",
    "            right = mid - 1\n",
    "        #if guess is too low, we've now eliminated the left half, keep the right pointer and set the new left pointer to the mid plus one\n",
    "        elif guess < target:\n",
    "            left = mid + 1\n",
    "    return -1"
   ]
  },
  {
   "cell_type": "code",
   "execution_count": 3,
   "metadata": {},
   "outputs": [
    {
     "data": {
      "text/plain": [
       "4"
      ]
     },
     "execution_count": 3,
     "metadata": {},
     "output_type": "execute_result"
    }
   ],
   "source": [
    "search(ex_nums, ex_tar)"
   ]
  }
 ],
 "metadata": {
  "kernelspec": {
   "display_name": "Python 3.9.12 ('base')",
   "language": "python",
   "name": "python3"
  },
  "language_info": {
   "codemirror_mode": {
    "name": "ipython",
    "version": 3
   },
   "file_extension": ".py",
   "mimetype": "text/x-python",
   "name": "python",
   "nbconvert_exporter": "python",
   "pygments_lexer": "ipython3",
   "version": "3.9.12"
  },
  "orig_nbformat": 4,
  "vscode": {
   "interpreter": {
    "hash": "40203b3ec892d21f304b904bd7441b754322a8b95cad2515f623282baa87ac4b"
   }
  }
 },
 "nbformat": 4,
 "nbformat_minor": 2
}
