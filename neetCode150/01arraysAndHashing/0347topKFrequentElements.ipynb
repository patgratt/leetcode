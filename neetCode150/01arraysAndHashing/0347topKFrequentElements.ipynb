{
 "cells": [
  {
   "cell_type": "code",
   "execution_count": 3,
   "metadata": {},
   "outputs": [
    {
     "name": "stdout",
     "output_type": "stream",
     "text": [
      "[1, 2]\n",
      "[-1, 2]\n"
     ]
    }
   ],
   "source": [
    "class Solution:\n",
    "    def topKFrequent(self, nums, k):\n",
    "        # hashmap to count occurance of each values, key will be freq, value will be the array of values that have that freq\n",
    "        count = {}\n",
    "        # input array, \n",
    "        freq = [[] for i in range(len(nums) + 1)]\n",
    "\n",
    "        # loop through nums, keys are i's\n",
    "        for i in nums:\n",
    "            # increment value\n",
    "            count[i] = 1 + count.get(i,0)\n",
    "        for i, c in count.items():\n",
    "            freq[c].append(i)\n",
    "        \n",
    "        res = []\n",
    "        for i in range(len(freq) - 1, 0, -1):\n",
    "            for n in freq[i]:\n",
    "                res.append(n)\n",
    "                if len(res) == k:\n",
    "                    return res\n",
    "\n",
    "\n",
    "nums1, k1 = [1,1,1,2,2,3], 2 # [1,2]\n",
    "print(Solution().topKFrequent(nums1, k1))\n",
    "nums2, k2 = [4, 1, -1, 2, -1, 2, 3], 2\n",
    "print(Solution().topKFrequent(nums2, k2)) # [-1,2]"
   ]
  }
 ],
 "metadata": {
  "kernelspec": {
   "display_name": "Python 3.9.12 ('base')",
   "language": "python",
   "name": "python3"
  },
  "language_info": {
   "codemirror_mode": {
    "name": "ipython",
    "version": 3
   },
   "file_extension": ".py",
   "mimetype": "text/x-python",
   "name": "python",
   "nbconvert_exporter": "python",
   "pygments_lexer": "ipython3",
   "version": "3.9.12"
  },
  "orig_nbformat": 4,
  "vscode": {
   "interpreter": {
    "hash": "40203b3ec892d21f304b904bd7441b754322a8b95cad2515f623282baa87ac4b"
   }
  }
 },
 "nbformat": 4,
 "nbformat_minor": 2
}
