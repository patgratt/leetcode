{
 "cells": [
  {
   "cell_type": "code",
   "execution_count": 14,
   "metadata": {},
   "outputs": [
    {
     "name": "stdout",
     "output_type": "stream",
     "text": [
      "True\n",
      "False\n"
     ]
    }
   ],
   "source": [
    "# new python built in function i've never seen before\n",
    "\n",
    "test1 = 'g'\n",
    "test2 = '!'\n",
    "print(test1.isalnum())\n",
    "print(test2.isalnum())"
   ]
  },
  {
   "cell_type": "markdown",
   "metadata": {},
   "source": [
    "<h2>\n",
    "Easy kinda cheating solution:"
   ]
  },
  {
   "cell_type": "code",
   "execution_count": 20,
   "metadata": {},
   "outputs": [
    {
     "name": "stdout",
     "output_type": "stream",
     "text": [
      "True\n",
      "False\n"
     ]
    }
   ],
   "source": [
    "def isPalindrome(s):\n",
    "    newStr = \"\"\n",
    "\n",
    "    for c in s:\n",
    "        if c.isalnum():\n",
    "            newStr += c.lower()\n",
    "    return newStr == newStr[::-1]\n",
    "\n",
    "s1 = \"A man, a plan, a canal: Panama\" # true\n",
    "print(validPalindrome(s1))\n",
    "s2 = \"race a car\" # false\n",
    "print(validPalindrome(s2))"
   ]
  },
  {
   "cell_type": "markdown",
   "metadata": {},
   "source": [
    "not great bc it uses extra memory when creating new string and when reversing string, also uses a lot of built in functions"
   ]
  },
  {
   "cell_type": "markdown",
   "metadata": {},
   "source": [
    "<h2> Better solution: </h2>\n",
    "\n",
    "\n",
    "- O(1) memory\n",
    "- O(n) time, have to iterate through string regardless"
   ]
  },
  {
   "cell_type": "code",
   "execution_count": 23,
   "metadata": {},
   "outputs": [
    {
     "name": "stdout",
     "output_type": "stream",
     "text": [
      "True\n",
      "False\n"
     ]
    }
   ],
   "source": [
    "class Solution:\n",
    "    def isPalindrome(self, s: str) -> bool:\n",
    "        # two pointers, same as binary search\n",
    "        l, r = 0, len(s)-1\n",
    "\n",
    "        # while pointers haven't crossed\n",
    "        while l < r:\n",
    "            # increment l before check if not alphanumeric\n",
    "            while l < r and not self.alphaNum(s[l]):\n",
    "                l += 1\n",
    "            # decrement r before check if not alphanumeric\n",
    "            while r > l and not self.alphaNum(s[r]):\n",
    "                r -= 1\n",
    "            # check if character is the same\n",
    "            if s[l].lower() != s[r].lower():\n",
    "                return False\n",
    "            # continue to increment if that check finds they are the same\n",
    "            l, r = l + 1, r - 1\n",
    "\n",
    "        return True\n",
    "\n",
    "    # function to check is a character is an alphanumeric character\n",
    "    def alphaNum(self, c):\n",
    "        return (ord('A') <= ord(c) <= ord ('Z') or\n",
    "                ord('a') <= ord(c) <= ord ('z') or\n",
    "                ord('0') <= ord(c) <= ord ('9'))    \n",
    "\n",
    "s1 = \"A man, a plan, a canal: Panama\" # true\n",
    "print(Solution().isPalindrome(s1))\n",
    "s2 = \"race a car\" # false\n",
    "print(Solution().isPalindrome(s2))"
   ]
  },
  {
   "cell_type": "code",
   "execution_count": null,
   "metadata": {},
   "outputs": [],
   "source": []
  }
 ],
 "metadata": {
  "kernelspec": {
   "display_name": "Python 3.9.12 ('base')",
   "language": "python",
   "name": "python3"
  },
  "language_info": {
   "codemirror_mode": {
    "name": "ipython",
    "version": 3
   },
   "file_extension": ".py",
   "mimetype": "text/x-python",
   "name": "python",
   "nbconvert_exporter": "python",
   "pygments_lexer": "ipython3",
   "version": "3.9.12"
  },
  "orig_nbformat": 4,
  "vscode": {
   "interpreter": {
    "hash": "40203b3ec892d21f304b904bd7441b754322a8b95cad2515f623282baa87ac4b"
   }
  }
 },
 "nbformat": 4,
 "nbformat_minor": 2
}
