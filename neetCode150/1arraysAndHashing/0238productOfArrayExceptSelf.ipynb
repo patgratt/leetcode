{
 "cells": [
  {
   "cell_type": "code",
   "execution_count": null,
   "metadata": {},
   "outputs": [],
   "source": [
    "def productExceptSelf(nums):\n",
    "    output = [1] * len(nums)\n",
    "    \n",
    "    prefix = 1\n",
    "    for i in range(len(nums)):\n",
    "        output[i] = prefix\n",
    "        prefix *= nums[i]\n",
    "\n",
    "    postfix = 1\n",
    "    for i in range(len(nums) - 1, -1, -1):\n",
    "        output[i] *= postfix\n",
    "        postfix *= nums[i]\n",
    "    \n",
    "    return output\n",
    "\n"
   ]
  }
 ],
 "metadata": {
  "kernelspec": {
   "display_name": "Python 3.10.4 ('py3104')",
   "language": "python",
   "name": "python3"
  },
  "language_info": {
   "name": "python",
   "version": "3.10.4"
  },
  "orig_nbformat": 4,
  "vscode": {
   "interpreter": {
    "hash": "0d9b4171f5ebdd1e244dfa72b1e605211d8ec849703e88385b565bef559bf6f9"
   }
  }
 },
 "nbformat": 4,
 "nbformat_minor": 2
}
