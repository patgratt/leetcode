{
 "cells": [
  {
   "cell_type": "code",
   "execution_count": null,
   "metadata": {},
   "outputs": [],
   "source": [
    "import collections\n",
    "\n",
    "def isValidSudoku(board):\n",
    "    cols = collections.defaultdict(set)\n",
    "    rows = collections.defaultdict(set)\n",
    "    squares = collections.defaultdict(set)\n",
    "\n",
    "    for r in range(9):\n",
    "        for c in range(9):"
   ]
  }
 ],
 "metadata": {
  "language_info": {
   "name": "python"
  },
  "orig_nbformat": 4
 },
 "nbformat": 4,
 "nbformat_minor": 2
}
