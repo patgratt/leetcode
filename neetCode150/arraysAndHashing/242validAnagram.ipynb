{
 "cells": [
  {
   "cell_type": "markdown",
   "metadata": {},
   "source": [
    "<h2> Given two strings s and t, return true if t is an anagram of s, and false otherwise. <br>\n",
    "\n",
    "An Anagram is a word or phrase formed by rearranging the letters of a different word or phrase, typically using all the original letters exactly once."
   ]
  },
  {
   "cell_type": "markdown",
   "metadata": {},
   "source": [
    "<h3> understanding dictionaries in python real quick "
   ]
  },
  {
   "cell_type": "code",
   "execution_count": 9,
   "metadata": {},
   "outputs": [
    {
     "name": "stdout",
     "output_type": "stream",
     "text": [
      "one\n"
     ]
    }
   ],
   "source": [
    "my_dict = {1:'one',2:'two'}\n",
    "# indexing one dictionary, use key to call value\n",
    "print(my_dict[1])"
   ]
  },
  {
   "cell_type": "code",
   "execution_count": 10,
   "metadata": {},
   "outputs": [
    {
     "name": "stdout",
     "output_type": "stream",
     "text": [
      "key error\n"
     ]
    }
   ],
   "source": [
    "# this throws a key error\n",
    "try:\n",
    "    print(my_dict['one'])\n",
    "except KeyError:\n",
    "    print('key error')"
   ]
  },
  {
   "cell_type": "code",
   "execution_count": 12,
   "metadata": {},
   "outputs": [
    {
     "name": "stdout",
     "output_type": "stream",
     "text": [
      "{1: 'one', 2: 'two', 3: 'three'}\n"
     ]
    }
   ],
   "source": [
    "# this is how to assign another key:value pair\n",
    "my_dict[3] = 'three'\n",
    "print(my_dict)"
   ]
  },
  {
   "cell_type": "markdown",
   "metadata": {},
   "source": [
    "<h3> Test Cases"
   ]
  },
  {
   "cell_type": "code",
   "execution_count": 17,
   "metadata": {},
   "outputs": [],
   "source": [
    "ex_s, ex_t = \"anagram\", \"nagaram\" # True\n",
    "ex_s2, ex_t2 = \"rat\", \"car\" # False"
   ]
  },
  {
   "cell_type": "markdown",
   "metadata": {},
   "source": [
    "<h1> Solution 1: Create hashmap <br>\n",
    "time: O(s+t) <br>\n",
    "space: O(s+t)"
   ]
  },
  {
   "cell_type": "markdown",
   "metadata": {},
   "source": [
    "- check if length is equal (if not its impossible)\n",
    "- iterate through each string, creating hashmap with key of letter and value of count of the letter\n",
    "- iterate through one of the hashmaps and compare each count\n",
    "- time complexity: O(s+t), iterate through both string once\n",
    "- space complexity: O(s+t), build hashmap of each string"
   ]
  },
  {
   "cell_type": "code",
   "execution_count": 26,
   "metadata": {},
   "outputs": [
    {
     "name": "stdout",
     "output_type": "stream",
     "text": [
      "True\n",
      "False\n"
     ]
    }
   ],
   "source": [
    "def isAnagram(s,t):\n",
    "    # if length is not equal automatically cannot be an anagram\n",
    "    if len(s) != len(t):\n",
    "        return False\n",
    "    # create hashmaps\n",
    "    countS, countT = {}, {}\n",
    "    # iterate through string\n",
    "    for i in range(len(s)):\n",
    "        # on the left, we're assigning the key to be the first letter in the string, and the value to be the current value plus one\n",
    "        # if the key doesn't currently exist it would usually throw a key error, so we use .get(), which gets the current value of the key\n",
    "        # the second paramter of the .get() method specifies what value to pull if the key doesn't exist, we set this to zero\n",
    "        countS[s[i]] = 1 + countS.get(s[i], 0)\n",
    "        countT[t[i]] = 1 + countT.get(t[i], 0)\n",
    "    # iterate through the hashmap, don't just check if they're equal bc then you need to check the entire thing rather than just checking until you find a discrepancy\n",
    "    for c in countS:\n",
    "        # if any of the values don't match up its false\n",
    "        # also need to use .get() again in case there is a letter present in s that is not present in T, this would throw a key error\n",
    "        if countS[c] != countT.get(c, 0):\n",
    "            return False\n",
    "    return True\n",
    "\n",
    "print(isAnagram(ex_s,ex_t)) #true\n",
    "print(isAnagram(ex_s2,ex_t2)) # false"
   ]
  },
  {
   "cell_type": "markdown",
   "metadata": {},
   "source": [
    "<h3> This is an identical solution, kinda cheating and probably won't work in an interview but its technically doing the exact same thing in one line of code"
   ]
  },
  {
   "cell_type": "code",
   "execution_count": 25,
   "metadata": {},
   "outputs": [
    {
     "name": "stdout",
     "output_type": "stream",
     "text": [
      "True\n",
      "False\n"
     ]
    }
   ],
   "source": [
    "from collections import Counter\n",
    "\n",
    "def isAnagram(s,t):\n",
    "    return Counter(s) == Counter(t)\n",
    "\n",
    "print(isAnagram(ex_s,ex_t)) #true\n",
    "print(isAnagram(ex_s2,ex_t2)) # false"
   ]
  },
  {
   "cell_type": "markdown",
   "metadata": {},
   "source": [
    "<h1> Solution 2 - better space complexity"
   ]
  },
  {
   "cell_type": "markdown",
   "metadata": {},
   "source": [
    "- if interviewer asks for algorithm with better space complexity:\n",
    "- sort the anagrams and check if they are equal"
   ]
  },
  {
   "cell_type": "code",
   "execution_count": 28,
   "metadata": {},
   "outputs": [
    {
     "name": "stdout",
     "output_type": "stream",
     "text": [
      "True\n",
      "False\n"
     ]
    }
   ],
   "source": [
    "def isAnagram(s,t):\n",
    "    return sorted(s) == sorted(t)\n",
    "\n",
    "print(isAnagram(ex_s,ex_t)) #true\n",
    "print(isAnagram(ex_s2,ex_t2)) # false"
   ]
  }
 ],
 "metadata": {
  "kernelspec": {
   "display_name": "Python 3.9.12 ('base')",
   "language": "python",
   "name": "python3"
  },
  "language_info": {
   "codemirror_mode": {
    "name": "ipython",
    "version": 3
   },
   "file_extension": ".py",
   "mimetype": "text/x-python",
   "name": "python",
   "nbconvert_exporter": "python",
   "pygments_lexer": "ipython3",
   "version": "3.9.12"
  },
  "orig_nbformat": 4,
  "vscode": {
   "interpreter": {
    "hash": "40203b3ec892d21f304b904bd7441b754322a8b95cad2515f623282baa87ac4b"
   }
  }
 },
 "nbformat": 4,
 "nbformat_minor": 2
}
