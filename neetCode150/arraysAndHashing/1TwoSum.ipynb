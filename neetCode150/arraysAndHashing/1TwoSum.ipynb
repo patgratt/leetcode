{
 "cells": [
  {
   "cell_type": "code",
   "execution_count": 26,
   "metadata": {},
   "outputs": [],
   "source": [
    "# test cases\n",
    "nums1, target1 = [2,7,11,15], 9 # [0,1]\n",
    "nums2, target2 = [3,2,4], 6 # [1,2]"
   ]
  },
  {
   "cell_type": "markdown",
   "metadata": {},
   "source": [
    "honest attempt:"
   ]
  },
  {
   "cell_type": "code",
   "execution_count": 27,
   "metadata": {},
   "outputs": [
    {
     "name": "stdout",
     "output_type": "stream",
     "text": [
      "[0, 2]\n",
      "[0, 3]\n"
     ]
    }
   ],
   "source": [
    "# def twoSum(nums, target):\n",
    "#         #create hashmap\n",
    "#         leftover = {}\n",
    "#         #iterate through nums\n",
    "#         for i, a in enumerate(nums):\n",
    "#             #set key of leftover equal to the nums \n",
    "#             leftover[a] = target - nums[i]\n",
    "#         for i in range(len(nums)):\n",
    "#             missing = target - nums[i]\n",
    "#             if missing in leftover:\n",
    "#                 return [i, leftover[missing]]\n",
    "\n",
    "# print(twoSum(nums1, target1))\n",
    "# print(twoSum(nums2, target2))\n",
    "# fail i was close tho"
   ]
  },
  {
   "cell_type": "markdown",
   "metadata": {},
   "source": [
    "<h2> Optimal Solution:"
   ]
  },
  {
   "cell_type": "markdown",
   "metadata": {},
   "source": [
    "- create hashmap called seen\n",
    "- iterate through array, set remaining equal to difference between that element and the target\n",
    "- check if remaining is in the seen hashmap, if so return that index and the seen value\n",
    "- if not, set the value of seen to the index of the iteration, key to the value in nums"
   ]
  },
  {
   "cell_type": "code",
   "execution_count": 28,
   "metadata": {},
   "outputs": [],
   "source": [
    "# solution\n",
    "\n",
    "def twoSum(nums, target):\n",
    "    # create empty dictionary\n",
    "    seen = {}\n",
    "    # loop through and get indices and values\n",
    "    for i, value in enumerate(nums):\n",
    "        # for each iteration we set remaing equal to the difference between the target and the index of the iterationi\n",
    "        remaining = target - nums[i]\n",
    "        # will be False the first iteration\n",
    "        # for second iteration, we check if remaining has been seen before, if so we've found a pair that works\n",
    "        if remaining in seen:\n",
    "            return [seen[remaining],i]\n",
    "        # for next iteration, we add the seen value to the dictionary and track its index\n",
    "        else:\n",
    "            seen[value] = i"
   ]
  },
  {
   "cell_type": "code",
   "execution_count": null,
   "metadata": {},
   "outputs": [],
   "source": []
  }
 ],
 "metadata": {
  "kernelspec": {
   "display_name": "Python 3.9.12 ('base')",
   "language": "python",
   "name": "python3"
  },
  "language_info": {
   "codemirror_mode": {
    "name": "ipython",
    "version": 3
   },
   "file_extension": ".py",
   "mimetype": "text/x-python",
   "name": "python",
   "nbconvert_exporter": "python",
   "pygments_lexer": "ipython3",
   "version": "3.9.12"
  },
  "orig_nbformat": 4,
  "vscode": {
   "interpreter": {
    "hash": "40203b3ec892d21f304b904bd7441b754322a8b95cad2515f623282baa87ac4b"
   }
  }
 },
 "nbformat": 4,
 "nbformat_minor": 2
}
