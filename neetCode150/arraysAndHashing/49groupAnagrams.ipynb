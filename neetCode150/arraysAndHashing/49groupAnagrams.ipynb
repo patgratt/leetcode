{
 "cells": [
  {
   "cell_type": "code",
   "execution_count": 1,
   "metadata": {},
   "outputs": [],
   "source": [
    "# test cases\n",
    "ex = [\"eat\",\"tea\",\"tan\",\"ate\",\"nat\",\"bat\"] # [[\"bat\"],[\"nat\",\"tan\"],[\"ate\",\"eat\",\"tea\"]]\n"
   ]
  },
  {
   "cell_type": "code",
   "execution_count": 8,
   "metadata": {},
   "outputs": [
    {
     "name": "stdout",
     "output_type": "stream",
     "text": [
      "97\n",
      "48\n",
      "49\n"
     ]
    }
   ],
   "source": [
    "# new python function i'm learning... ord()\n",
    "# takes in a string returns the unicode (ascii) value from a given character\n",
    "print(ord('a'))\n",
    "print(ord('0'))\n",
    "print(ord('1'))"
   ]
  },
  {
   "cell_type": "code",
   "execution_count": 12,
   "metadata": {},
   "outputs": [
    {
     "name": "stdout",
     "output_type": "stream",
     "text": [
      "defaultdict(<class 'list'>, {})\n"
     ]
    }
   ],
   "source": [
    "from collections import defaultdict\n",
    "\n",
    "g = defaultdict(list)\n",
    "print(g)"
   ]
  },
  {
   "cell_type": "markdown",
   "metadata": {},
   "source": [
    "<h1> Solution:"
   ]
  },
  {
   "cell_type": "markdown",
   "metadata": {},
   "source": [
    "- TC: O(m * n) where m is the number of strings we're given, and n is the average number of characters in each string"
   ]
  },
  {
   "cell_type": "code",
   "execution_count": 13,
   "metadata": {},
   "outputs": [
    {
     "data": {
      "text/plain": [
       "dict_values([['eat', 'tea', 'ate'], ['tan', 'nat'], ['bat']])"
      ]
     },
     "execution_count": 13,
     "metadata": {},
     "output_type": "execute_result"
    }
   ],
   "source": [
    "from collections import defaultdict\n",
    "\n",
    "def groupAnagrams(strs):\n",
    "    # create hashmap with a default value type as a list\n",
    "    res = defaultdict(list)\n",
    "    # iterate through the array of strings\n",
    "    for s in strs:\n",
    "        # for each string, create initial count array which has 26 zeros\n",
    "        # we'll use this as our keys in our hashmap\n",
    "        count = [0] * 26\n",
    "        #iterate through each string by characters\n",
    "        for c in s:\n",
    "            #for each character in each string, take the ascii value of that letter and substract from the ascii value of a\n",
    "            #this will set a:0 and b:1 and so on\n",
    "            count[ord(c) - ord('a')] += 1\n",
    "        # use the count array as our keys, and set the string which is an anagram as our values\n",
    "        # in python lists cannot be keys but tuples can so use that instead\n",
    "        res[tuple(count)].append(s)\n",
    "    \n",
    "    return res.values()\n",
    "\n",
    "groupAnagrams(ex)\n"
   ]
  }
 ],
 "metadata": {
  "kernelspec": {
   "display_name": "Python 3.9.12 ('base')",
   "language": "python",
   "name": "python3"
  },
  "language_info": {
   "codemirror_mode": {
    "name": "ipython",
    "version": 3
   },
   "file_extension": ".py",
   "mimetype": "text/x-python",
   "name": "python",
   "nbconvert_exporter": "python",
   "pygments_lexer": "ipython3",
   "version": "3.9.12"
  },
  "orig_nbformat": 4,
  "vscode": {
   "interpreter": {
    "hash": "40203b3ec892d21f304b904bd7441b754322a8b95cad2515f623282baa87ac4b"
   }
  }
 },
 "nbformat": 4,
 "nbformat_minor": 2
}
