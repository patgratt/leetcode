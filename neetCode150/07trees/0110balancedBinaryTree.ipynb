{
 "cells": [
  {
   "cell_type": "code",
   "execution_count": null,
   "metadata": {},
   "outputs": [],
   "source": [
    "# neetcode\n",
    "\n",
    "def isBalanced(root):\n",
    "\n",
    "    def dfs(node):\n",
    "        # base case, null tree is balanced, has height of 0\n",
    "        if not node:\n",
    "            return [True, 0] # [balanced or not, height]\n",
    "\n",
    "        # recursively call on children\n",
    "        left = dfs(node.left)\n",
    "        right = dfs(node.right)\n",
    "\n",
    "        balanced = left[0] and right[0] and ( abs(left[1] - right[1]) <= 1 )\n",
    "\n",
    "        return [balanced, 1 + max(left[1], right[1])]\n",
    "\n",
    "    return dfs(root)\n"
   ]
  }
 ],
 "metadata": {
  "kernelspec": {
   "display_name": "Python 3.10.6 64-bit",
   "language": "python",
   "name": "python3"
  },
  "language_info": {
   "name": "python",
   "version": "3.10.6"
  },
  "orig_nbformat": 4,
  "vscode": {
   "interpreter": {
    "hash": "e7370f93d1d0cde622a1f8e1c04877d8463912d04d973331ad4851f04de6915a"
   }
  }
 },
 "nbformat": 4,
 "nbformat_minor": 2
}
