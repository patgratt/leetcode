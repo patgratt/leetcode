{
 "cells": [
  {
   "cell_type": "code",
   "execution_count": null,
   "metadata": {},
   "outputs": [
    {
     "data": {
      "text/plain": [
       "49"
      ]
     },
     "execution_count": 1,
     "metadata": {},
     "output_type": "execute_result"
    }
   ],
   "source": [
    "height1 = [1, 8, 6, 2, 5, 4, 8, 3, 7] #49\n",
    "\n",
    "# BRUTE FORCE\n",
    "def maxArea(height):\n",
    "    res = 0\n",
    "\n",
    "    # left pointer will go through every position\n",
    "    for l in range(len(height)):\n",
    "        # right pointer always start one over from left\n",
    "        for r in range(l + 1, len(height)):\n",
    "            # area is the min height (limiting factor) * width\n",
    "            area = min(height[l], height[r]) * (r - l)\n",
    "            # update result if area is the greatest we have seen thus far\n",
    "            res = max(res, area)\n",
    "    \n",
    "    return res\n",
    "\n",
    "maxArea(height1)"
   ]
  },
  {
   "cell_type": "code",
   "execution_count": 10,
   "metadata": {},
   "outputs": [
    {
     "data": {
      "text/plain": [
       "49"
      ]
     },
     "execution_count": 10,
     "metadata": {},
     "output_type": "execute_result"
    }
   ],
   "source": [
    "height1 = [1, 8, 6, 2, 5, 4, 8, 3, 7] #49\n",
    "\n",
    "# linear time solution (optimal)\n",
    "def maxArea(height):\n",
    "    # left pointer all the way left\n",
    "    l = 0\n",
    "    # right pointer all the way right\n",
    "    r = (len(height) - 1)\n",
    "    res = 0\n",
    "\n",
    "    # while pointers haven't crossed\n",
    "    while l < r:\n",
    "        # compute area\n",
    "        area = ( min(height[l], height[r]) * (r - l) )\n",
    "        # update max area\n",
    "        res = max(res, area)\n",
    "        if height[l] < height[r]:\n",
    "            l += 1\n",
    "        else:\n",
    "            r -= 1\n",
    "    \n",
    "    return res\n",
    "\n",
    "maxArea(height1)"
   ]
  }
 ],
 "metadata": {
  "kernelspec": {
   "display_name": "Python 3.10.4 ('py3104')",
   "language": "python",
   "name": "python3"
  },
  "language_info": {
   "codemirror_mode": {
    "name": "ipython",
    "version": 3
   },
   "file_extension": ".py",
   "mimetype": "text/x-python",
   "name": "python",
   "nbconvert_exporter": "python",
   "pygments_lexer": "ipython3",
   "version": "3.10.4"
  },
  "orig_nbformat": 4,
  "vscode": {
   "interpreter": {
    "hash": "0d9b4171f5ebdd1e244dfa72b1e605211d8ec849703e88385b565bef559bf6f9"
   }
  }
 },
 "nbformat": 4,
 "nbformat_minor": 2
}
