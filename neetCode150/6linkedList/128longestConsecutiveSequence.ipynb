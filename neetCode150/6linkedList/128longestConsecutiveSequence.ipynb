{
 "cells": [
  {
   "cell_type": "code",
   "execution_count": 2,
   "metadata": {},
   "outputs": [
    {
     "data": {
      "text/plain": [
       "4"
      ]
     },
     "execution_count": 2,
     "metadata": {},
     "output_type": "execute_result"
    }
   ],
   "source": [
    "nums1 = [100, 4, 200, 1, 3, 2] #4\n",
    "\n",
    "\n",
    "def longestConsecutive(nums):\n",
    "    numSet = set(nums)\n",
    "    longest =  0\n",
    "\n",
    "    for x in nums:\n",
    "        # check if its the start of a sequence (x-1 doesn't exist)\n",
    "        if (x-1) not in numSet:\n",
    "            length = 0\n",
    "            # while another consecutive value exists\n",
    "            while (x + length) in numSet:\n",
    "                length += 1\n",
    "            longest = max(length, longest)\n",
    "    return longest\n",
    "\n",
    "longestConsecutive(nums1)\n"
   ]
  }
 ],
 "metadata": {
  "kernelspec": {
   "display_name": "Python 3.9.12 ('base')",
   "language": "python",
   "name": "python3"
  },
  "language_info": {
   "codemirror_mode": {
    "name": "ipython",
    "version": 3
   },
   "file_extension": ".py",
   "mimetype": "text/x-python",
   "name": "python",
   "nbconvert_exporter": "python",
   "pygments_lexer": "ipython3",
   "version": "3.9.12"
  },
  "orig_nbformat": 4,
  "vscode": {
   "interpreter": {
    "hash": "40203b3ec892d21f304b904bd7441b754322a8b95cad2515f623282baa87ac4b"
   }
  }
 },
 "nbformat": 4,
 "nbformat_minor": 2
}
