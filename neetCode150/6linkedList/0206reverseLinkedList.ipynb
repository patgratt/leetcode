{
 "cells": [
  {
   "cell_type": "code",
   "execution_count": 3,
   "metadata": {},
   "outputs": [],
   "source": [
    "class ListNode:\n",
    "    def __init__(self, val=0, next=None):\n",
    "        self.val = val\n",
    "        self.next = next\n",
    "\n",
    "# iterative solution\n",
    "\n",
    "    def reverseList(head):\n",
    "        # create two pointers, a which will point at the head \n",
    "        prev, curr = None, head\n",
    "\n",
    "        # at the end of this process curr will point at null so loop while curr is not null\n",
    "        while curr:\n",
    "            # temp variable which takes on next value in the linked list\n",
    "            tmp = curr.next\n",
    "            # take the list node pointer of the node we're looking at and reverse it to the prev node thru the pointer\n",
    "            curr.next = prev\n",
    "            # \n",
    "            prev = curr\n",
    "            curr = tmp\n",
    "        return prev\n",
    "\n",
    "#head1 = [1,2,3,4,5]\n",
    "#reverseList(head1)"
   ]
  },
  {
   "cell_type": "code",
   "execution_count": null,
   "metadata": {},
   "outputs": [],
   "source": [
    "# recursive solution\n",
    "\n",
    "def reverseList(head):\n",
    "\n",
    "    # base case, if head is null\n",
    "    if not head:\n",
    "        return None\n",
    "\n",
    "    newHead = head\n",
    "    if head.next:\n",
    "        newHead = self.reverseList"
   ]
  }
 ],
 "metadata": {
  "kernelspec": {
   "display_name": "Python 3.9.12 ('base')",
   "language": "python",
   "name": "python3"
  },
  "language_info": {
   "codemirror_mode": {
    "name": "ipython",
    "version": 3
   },
   "file_extension": ".py",
   "mimetype": "text/x-python",
   "name": "python",
   "nbconvert_exporter": "python",
   "pygments_lexer": "ipython3",
   "version": "3.9.12"
  },
  "orig_nbformat": 4,
  "vscode": {
   "interpreter": {
    "hash": "40203b3ec892d21f304b904bd7441b754322a8b95cad2515f623282baa87ac4b"
   }
  }
 },
 "nbformat": 4,
 "nbformat_minor": 2
}
