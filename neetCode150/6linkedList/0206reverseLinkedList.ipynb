{
 "cells": [
  {
   "cell_type": "code",
   "execution_count": 1,
   "metadata": {},
   "outputs": [],
   "source": [
    "class ListNode:\n",
    "    def __init__(self, val=0, next=None):\n",
    "        self.val = val\n",
    "        self.next = next\n",
    "\n",
    "# iterative solution\n",
    "\n",
    "def reverseList(head):\n",
    "    # create two pointers, a which will point at the head \n",
    "    prev, curr = None, head\n",
    "\n",
    "    # at the end of this process curr will point at null so loop while curr is not null\n",
    "    while curr:\n",
    "        # temp variable which takes on next value in the linked list\n",
    "        tmp = curr.next\n",
    "        # take the list node pointer of the node we're looking at and reverse it to the prev node thru the pointer\n",
    "        curr.next = prev\n",
    "        # \n",
    "        prev = curr\n",
    "        curr = tmp\n",
    "    return prev"
   ]
  },
  {
   "cell_type": "code",
   "execution_count": null,
   "metadata": {},
   "outputs": [],
   "source": []
  }
 ],
 "metadata": {
  "kernelspec": {
   "display_name": "Python 3.9.12 ('base')",
   "language": "python",
   "name": "python3"
  },
  "language_info": {
   "name": "python",
   "version": "3.9.12"
  },
  "orig_nbformat": 4,
  "vscode": {
   "interpreter": {
    "hash": "40203b3ec892d21f304b904bd7441b754322a8b95cad2515f623282baa87ac4b"
   }
  }
 },
 "nbformat": 4,
 "nbformat_minor": 2
}
