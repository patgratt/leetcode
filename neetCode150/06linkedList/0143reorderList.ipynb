{
 "cells": [
  {
   "cell_type": "code",
   "execution_count": 1,
   "metadata": {},
   "outputs": [],
   "source": [
    "# my solution\n",
    "\n",
    "# Definition for singly-linked list.\n",
    "class ListNode:\n",
    "    def __init__(self, val=0, next=None):\n",
    "        self.val = val\n",
    "        self.next = next\n",
    "\n",
    "class Solution:\n",
    "    def reorderList(self, head) -> None:\n",
    "        \"\"\"\n",
    "        Do not return anything, modify head in-place instead.\n",
    "        \"\"\"\n",
    "        if not head.next:\n",
    "            return head\n",
    "\n",
    "        # get middle (slow)\n",
    "        fast, slow = head, head\n",
    "        while fast and fast.next:\n",
    "            fast = fast.next.next\n",
    "            slow = slow.next\n",
    "\n",
    "        # reverse second half\n",
    "        curr = slow\n",
    "        prev = None\n",
    "        while curr:\n",
    "            tmp = curr.next\n",
    "            curr.next = prev\n",
    "            prev = curr\n",
    "            curr = tmp\n",
    "        \n",
    "        # reorder list\n",
    "        l, r = head, prev\n",
    "        while r and l and l != r and l != slow and r != slow:\n",
    "            tmp = l.next\n",
    "            l.next = r\n",
    "            l = tmp\n",
    "            tmp = r.next\n",
    "            r.next = l\n",
    "            r = tmp\n",
    "\n",
    "        return head"
   ]
  }
 ],
 "metadata": {
  "kernelspec": {
   "display_name": "Python 3.10.6 64-bit",
   "language": "python",
   "name": "python3"
  },
  "language_info": {
   "codemirror_mode": {
    "name": "ipython",
    "version": 3
   },
   "file_extension": ".py",
   "mimetype": "text/x-python",
   "name": "python",
   "nbconvert_exporter": "python",
   "pygments_lexer": "ipython3",
   "version": "3.10.6"
  },
  "orig_nbformat": 4,
  "vscode": {
   "interpreter": {
    "hash": "e7370f93d1d0cde622a1f8e1c04877d8463912d04d973331ad4851f04de6915a"
   }
  }
 },
 "nbformat": 4,
 "nbformat_minor": 2
}
