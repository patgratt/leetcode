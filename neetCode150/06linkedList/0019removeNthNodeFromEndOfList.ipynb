{
 "cells": [
  {
   "cell_type": "code",
   "execution_count": 3,
   "metadata": {},
   "outputs": [],
   "source": [
    "# my solution\n",
    "\n",
    "from typing import Optional\n",
    "\n",
    "# Definition for singly-linked list.\n",
    "class ListNode:\n",
    "    def __init__(self, val=0, next=None):\n",
    "        self.val = val\n",
    "        self.next = next\n",
    "\n",
    "class Solution:\n",
    "    def removeNthFromEnd(self, head: Optional[ListNode], n: int) -> Optional[ListNode]:\n",
    "        dummy = ListNode(next = head)\n",
    "        p = dummy\n",
    "        length = 0\n",
    "\n",
    "        # get length\n",
    "        while p.next:\n",
    "            length += 1\n",
    "            p = p.next\n",
    "\n",
    "        # edge: if they want to remove the head\n",
    "        if length - n == 0:\n",
    "            head = head.next\n",
    "\n",
    "        # go to one before bad node and skip its pointer over one\n",
    "        p = dummy\n",
    "        for _ in range(length - n):\n",
    "            p = p.next\n",
    "        # set temp 2 ahead\n",
    "        p.next = p.next.next\n",
    "\n",
    "        return head"
   ]
  },
  {
   "cell_type": "code",
   "execution_count": 4,
   "metadata": {},
   "outputs": [],
   "source": [
    "# neetcode \n",
    "\n",
    "class Solution:\n",
    "    def removeNthFromEnd(self, head: ListNode, n: int) -> ListNode:\n",
    "        dummy = ListNode(0, head)\n",
    "        left = dummy\n",
    "        right = head\n",
    "\n",
    "        while n > 0:\n",
    "            right = right.next\n",
    "            n -= 1\n",
    "\n",
    "        while right:\n",
    "            left = left.next\n",
    "            right = right.next\n",
    "\n",
    "        # delete\n",
    "        left.next = left.next.next\n",
    "        return dummy.next"
   ]
  }
 ],
 "metadata": {
  "kernelspec": {
   "display_name": "Python 3.10.6 64-bit",
   "language": "python",
   "name": "python3"
  },
  "language_info": {
   "codemirror_mode": {
    "name": "ipython",
    "version": 3
   },
   "file_extension": ".py",
   "mimetype": "text/x-python",
   "name": "python",
   "nbconvert_exporter": "python",
   "pygments_lexer": "ipython3",
   "version": "3.10.6"
  },
  "orig_nbformat": 4,
  "vscode": {
   "interpreter": {
    "hash": "e7370f93d1d0cde622a1f8e1c04877d8463912d04d973331ad4851f04de6915a"
   }
  }
 },
 "nbformat": 4,
 "nbformat_minor": 2
}
