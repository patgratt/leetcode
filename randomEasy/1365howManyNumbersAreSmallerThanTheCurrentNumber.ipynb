{
 "cells": [
  {
   "cell_type": "markdown",
   "metadata": {},
   "source": [
    "Time: O(NlogN)\n",
    "Space: O(N) for output list"
   ]
  },
  {
   "cell_type": "markdown",
   "metadata": {},
   "source": [
    "for this solution, after sorting, unless there are duplicates the number of elements less than the given element should be equal to the index of the element"
   ]
  },
  {
   "cell_type": "code",
   "execution_count": 3,
   "metadata": {},
   "outputs": [],
   "source": [
    "num2 = [8,1,2,2,3]\n",
    "# after sorting = [1,2,2,3,8]\n",
    "# ans (sorted) = [0,1,1,3,4]\n",
    "# real ans = [4,0,1,1,3[]]"
   ]
  },
  {
   "cell_type": "code",
   "execution_count": 4,
   "metadata": {},
   "outputs": [
    {
     "data": {
      "text/plain": [
       "[0, 0, 0, 0]"
      ]
     },
     "execution_count": 4,
     "metadata": {},
     "output_type": "execute_result"
    }
   ],
   "source": [
    "def smallerNumbersThanCurrent(nums):\n",
    "    # create hashmap\n",
    "    indices = {}\n",
    "    # sort arr so that each number prior to any given e will either be <= e\n",
    "    for i, e in enumerate(sorted(nums)):\n",
    "        # sets the key in the dictionary to the element in nums and the value to i\n",
    "        indices.setdefault(e, i)\n",
    "    # returns the indices of all the values in the array\n",
    "    return [indices[e] for e in nums]\n",
    "\n",
    "nums1 = [7,7,7,7]\n",
    "smallerNumbersThanCurrent(nums1)"
   ]
  }
 ],
 "metadata": {
  "kernelspec": {
   "display_name": "Python 3.9.12 ('base')",
   "language": "python",
   "name": "python3"
  },
  "language_info": {
   "codemirror_mode": {
    "name": "ipython",
    "version": 3
   },
   "file_extension": ".py",
   "mimetype": "text/x-python",
   "name": "python",
   "nbconvert_exporter": "python",
   "pygments_lexer": "ipython3",
   "version": "3.9.12"
  },
  "orig_nbformat": 4,
  "vscode": {
   "interpreter": {
    "hash": "40203b3ec892d21f304b904bd7441b754322a8b95cad2515f623282baa87ac4b"
   }
  }
 },
 "nbformat": 4,
 "nbformat_minor": 2
}
