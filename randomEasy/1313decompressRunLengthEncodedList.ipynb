{
 "cells": [
  {
   "cell_type": "code",
   "execution_count": 2,
   "metadata": {},
   "outputs": [],
   "source": [
    "def decompressRLElist(nums):\n",
    "    a = []\n",
    "    for i in range(1,len(nums),2):\n",
    "        a += [nums[i]] * nums[i-1]\n",
    "    return a"
   ]
  },
  {
   "cell_type": "code",
   "execution_count": 3,
   "metadata": {},
   "outputs": [
    {
     "data": {
      "text/plain": [
       "[2, 4, 4, 4]"
      ]
     },
     "execution_count": 3,
     "metadata": {},
     "output_type": "execute_result"
    }
   ],
   "source": [
    "nums1 = [1,2,3,4]\n",
    "decompressRLElist(nums1)"
   ]
  },
  {
   "cell_type": "markdown",
   "metadata": {},
   "source": [
    "* For some reason, appending doesn't work, yet adding does work, I do not know why"
   ]
  },
  {
   "cell_type": "code",
   "execution_count": 4,
   "metadata": {},
   "outputs": [
    {
     "ename": "IndexError",
     "evalue": "list index out of range",
     "output_type": "error",
     "traceback": [
      "\u001b[0;31m---------------------------------------------------------------------------\u001b[0m",
      "\u001b[0;31mIndexError\u001b[0m                                Traceback (most recent call last)",
      "\u001b[1;32m/Users/patrickburke/repos/leetcode/randomEasy/1313decompressRunLengthEncodedList.ipynb Cell 4'\u001b[0m in \u001b[0;36m<cell line: 7>\u001b[0;34m()\u001b[0m\n\u001b[1;32m      <a href='vscode-notebook-cell:/Users/patrickburke/repos/leetcode/randomEasy/1313decompressRunLengthEncodedList.ipynb#ch0000005?line=3'>4</a>\u001b[0m         res\u001b[39m.\u001b[39mappend(nums[i] \u001b[39m*\u001b[39m nums[i\u001b[39m+\u001b[39m\u001b[39m1\u001b[39m])\n\u001b[1;32m      <a href='vscode-notebook-cell:/Users/patrickburke/repos/leetcode/randomEasy/1313decompressRunLengthEncodedList.ipynb#ch0000005?line=4'>5</a>\u001b[0m     \u001b[39mreturn\u001b[39;00m res\n\u001b[0;32m----> <a href='vscode-notebook-cell:/Users/patrickburke/repos/leetcode/randomEasy/1313decompressRunLengthEncodedList.ipynb#ch0000005?line=6'>7</a>\u001b[0m decompressRLElist(nums1)\n",
      "\u001b[1;32m/Users/patrickburke/repos/leetcode/randomEasy/1313decompressRunLengthEncodedList.ipynb Cell 4'\u001b[0m in \u001b[0;36mdecompressRLElist\u001b[0;34m(nums)\u001b[0m\n\u001b[1;32m      <a href='vscode-notebook-cell:/Users/patrickburke/repos/leetcode/randomEasy/1313decompressRunLengthEncodedList.ipynb#ch0000005?line=1'>2</a>\u001b[0m res \u001b[39m=\u001b[39m []\n\u001b[1;32m      <a href='vscode-notebook-cell:/Users/patrickburke/repos/leetcode/randomEasy/1313decompressRunLengthEncodedList.ipynb#ch0000005?line=2'>3</a>\u001b[0m \u001b[39mfor\u001b[39;00m i \u001b[39min\u001b[39;00m \u001b[39mrange\u001b[39m(\u001b[39m1\u001b[39m,\u001b[39mlen\u001b[39m(nums),\u001b[39m2\u001b[39m):\n\u001b[0;32m----> <a href='vscode-notebook-cell:/Users/patrickburke/repos/leetcode/randomEasy/1313decompressRunLengthEncodedList.ipynb#ch0000005?line=3'>4</a>\u001b[0m     res\u001b[39m.\u001b[39mappend(nums[i] \u001b[39m*\u001b[39m nums[i\u001b[39m+\u001b[39;49m\u001b[39m1\u001b[39;49m])\n\u001b[1;32m      <a href='vscode-notebook-cell:/Users/patrickburke/repos/leetcode/randomEasy/1313decompressRunLengthEncodedList.ipynb#ch0000005?line=4'>5</a>\u001b[0m \u001b[39mreturn\u001b[39;00m res\n",
      "\u001b[0;31mIndexError\u001b[0m: list index out of range"
     ]
    }
   ],
   "source": [
    "def decompressRLElist(nums):\n",
    "    res = []\n",
    "    for i in range(1,len(nums),2):\n",
    "        res.append(nums[i] * nums[i+1])\n",
    "    return res\n",
    "\n",
    "decompressRLElist(nums1)    "
   ]
  }
 ],
 "metadata": {
  "kernelspec": {
   "display_name": "Python 3.9.12 ('base')",
   "language": "python",
   "name": "python3"
  },
  "language_info": {
   "codemirror_mode": {
    "name": "ipython",
    "version": 3
   },
   "file_extension": ".py",
   "mimetype": "text/x-python",
   "name": "python",
   "nbconvert_exporter": "python",
   "pygments_lexer": "ipython3",
   "version": "3.9.12"
  },
  "orig_nbformat": 4,
  "vscode": {
   "interpreter": {
    "hash": "40203b3ec892d21f304b904bd7441b754322a8b95cad2515f623282baa87ac4b"
   }
  }
 },
 "nbformat": 4,
 "nbformat_minor": 2
}
