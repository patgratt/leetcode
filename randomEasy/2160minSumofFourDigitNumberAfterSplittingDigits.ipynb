{
 "cells": [
  {
   "cell_type": "code",
   "execution_count": 6,
   "id": "448c58da",
   "metadata": {},
   "outputs": [],
   "source": [
    "ex = 2932"
   ]
  },
  {
   "cell_type": "code",
   "execution_count": 9,
   "id": "8493d2a4",
   "metadata": {},
   "outputs": [
    {
     "name": "stdout",
     "output_type": "stream",
     "text": [
      "ERROR\n"
     ]
    }
   ],
   "source": [
    "# failed attempt 1\n",
    "def minimumSum(num):\n",
    "    z = (' '.join(str(num))).split(' ')\n",
    "    for i in z:\n",
    "        return (z[i]+z[i+1])\n",
    "\n",
    "try:\n",
    "    minimumSum(ex)\n",
    "except:\n",
    "    print('ERROR')"
   ]
  },
  {
   "cell_type": "code",
   "execution_count": 23,
   "id": "3f2bb25c",
   "metadata": {},
   "outputs": [],
   "source": [
    "def minimumSum(num):\n",
    "    nums, a, b = [], 0, 0\n",
    "    while num > 0:\n",
    "        remainder = num % 10\n",
    "        nums.append(remainder)\n",
    "        num = num//10\n",
    "    return sorted(nums)"
   ]
  },
  {
   "cell_type": "code",
   "execution_count": 24,
   "id": "1e17e062",
   "metadata": {},
   "outputs": [
    {
     "data": {
      "text/plain": [
       "[2, 2, 3, 9]"
      ]
     },
     "execution_count": 24,
     "metadata": {},
     "output_type": "execute_result"
    }
   ],
   "source": [
    "minimumSum(ex_num)\n",
    "#ok so i guess this was his way of getting all of the individual digits, i was able to do that "
   ]
  },
  {
   "cell_type": "code",
   "execution_count": 26,
   "id": "5e1bfe0f",
   "metadata": {},
   "outputs": [],
   "source": [
    "def minimumSum(num):\n",
    "    nums, a, b = [], 0, 0\n",
    "    while num > 0:\n",
    "        remainder = num % 10\n",
    "        nums.append(remainder)\n",
    "        num = num//10\n",
    "    nums.sort()\n",
    "    for i in range(len(nums)):\n",
    "        if i % 2 == 0:\n",
    "            a = a*10 + nums[i]\n",
    "        else:\n",
    "            b = b*10 + nums[i]\n",
    "    return a+b"
   ]
  },
  {
   "cell_type": "code",
   "execution_count": 10,
   "id": "caeed6a1",
   "metadata": {},
   "outputs": [
    {
     "data": {
      "text/plain": [
       "52"
      ]
     },
     "execution_count": 10,
     "metadata": {},
     "output_type": "execute_result"
    }
   ],
   "source": [
    "# this is what I submitted attempt 2 and it actually worked\n",
    "\n",
    "def minimumSum(num):\n",
    "    digits = sorted([int(a) for a in str(num)])\n",
    "    return (digits[0]*10 + digits[2]) + (digits[1]*10 + digits[3])\n",
    "\n",
    "minimumSum(ex)"
   ]
  }
 ],
 "metadata": {
  "kernelspec": {
   "display_name": "Python 3.9.12 ('base')",
   "language": "python",
   "name": "python3"
  },
  "language_info": {
   "codemirror_mode": {
    "name": "ipython",
    "version": 3
   },
   "file_extension": ".py",
   "mimetype": "text/x-python",
   "name": "python",
   "nbconvert_exporter": "python",
   "pygments_lexer": "ipython3",
   "version": "3.9.12"
  },
  "vscode": {
   "interpreter": {
    "hash": "40203b3ec892d21f304b904bd7441b754322a8b95cad2515f623282baa87ac4b"
   }
  }
 },
 "nbformat": 4,
 "nbformat_minor": 5
}
