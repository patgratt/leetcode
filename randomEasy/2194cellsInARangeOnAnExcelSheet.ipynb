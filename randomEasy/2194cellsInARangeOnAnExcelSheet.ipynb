{
 "cells": [
  {
   "cell_type": "code",
   "execution_count": 34,
   "metadata": {},
   "outputs": [],
   "source": [
    "# test case\n",
    "s1 = \"K1:L2\" # [\"K1\",\"K2\",\"L1\",\"L2\"]\n",
    "s2 = \"A1:F1\" # [\"A1\",\"B1\",\"C1\",\"D1\",\"E1\",\"F1\"]"
   ]
  },
  {
   "cell_type": "code",
   "execution_count": 35,
   "metadata": {},
   "outputs": [
    {
     "data": {
      "text/plain": [
       "[0, 1, 2]"
      ]
     },
     "execution_count": 35,
     "metadata": {},
     "output_type": "execute_result"
    }
   ],
   "source": [
    "# honest try\n",
    "\n",
    "import string\n",
    "\n",
    "def cellsInRange(s):\n",
    "\n",
    "    rows = ord(s[3]) - ord(s[0]) + 1\n",
    "    cols = ord(s[4]) - ord(s[1]) + 1\n",
    "\n",
    "    total_cells = rows * cols\n",
    "    res = [''] * total_cells\n",
    "\n",
    "    res = list(range(rows+1))\n",
    "\n",
    "    return res\n",
    "\n",
    "\n",
    "cellsInRange(s1)"
   ]
  },
  {
   "cell_type": "code",
   "execution_count": 37,
   "metadata": {},
   "outputs": [
    {
     "name": "stdout",
     "output_type": "stream",
     "text": [
      "['K1', 'K2', 'L1', 'L2']\n",
      "['A1', 'B1', 'C1', 'D1', 'E1', 'F1']\n"
     ]
    }
   ],
   "source": [
    "def cellsInRange(s):\n",
    "    result = []\n",
    "    for i in range(ord(s[0]), ord(s[3])+1):\n",
    "        rs = ''\n",
    "        for j in range(int(s[1]),int(s[4])+1):\n",
    "            rs = chr(i) + str(j)\n",
    "            result.append(rs)\n",
    "    return result\n",
    "\n",
    "print(cellsInRange(s1))\n",
    "print(cellsInRange(s2))"
   ]
  },
  {
   "cell_type": "code",
   "execution_count": 43,
   "metadata": {},
   "outputs": [
    {
     "name": "stdout",
     "output_type": "stream",
     "text": [
      "97\n"
     ]
    }
   ],
   "source": [
    "print( ord('a') )"
   ]
  },
  {
   "cell_type": "code",
   "execution_count": 44,
   "metadata": {},
   "outputs": [
    {
     "data": {
      "text/plain": [
       "'a'"
      ]
     },
     "execution_count": 44,
     "metadata": {},
     "output_type": "execute_result"
    }
   ],
   "source": [
    "chr(97)\n",
    "# chr is the inverse of ord"
   ]
  },
  {
   "cell_type": "code",
   "execution_count": 2,
   "metadata": {},
   "outputs": [],
   "source": [
    "# my legit solution months later\n",
    "\n",
    "import string\n",
    "\n",
    "class Solution:\n",
    "    def cellsInRange(self, s: str) -> list[str]:\n",
    "\n",
    "        res = []\n",
    "        alphabet = string.ascii_uppercase\n",
    "\n",
    "        width = ord(s[3]) - ord(s[0]) + 1\n",
    "        height = int(s[4]) - int(s[1]) + 1     \n",
    "\n",
    "        start_letter = ord(s[0]) - ord(\"A\")\n",
    "        start_number = int(s[1])\n",
    "\n",
    "        for i in range(width):\n",
    "\n",
    "            for j in range(start_number,start_number+height):\n",
    "                res.append(alphabet[start_letter + i] + str(j))\n",
    "        \n",
    "        return res"
   ]
  }
 ],
 "metadata": {
  "kernelspec": {
   "display_name": "Python 3",
   "language": "python",
   "name": "python3"
  },
  "language_info": {
   "codemirror_mode": {
    "name": "ipython",
    "version": 3
   },
   "file_extension": ".py",
   "mimetype": "text/x-python",
   "name": "python",
   "nbconvert_exporter": "python",
   "pygments_lexer": "ipython3",
   "version": "3.10.6"
  },
  "orig_nbformat": 4,
  "vscode": {
   "interpreter": {
    "hash": "767d51c1340bd893661ea55ea3124f6de3c7a262a8b4abca0554b478b1e2ff90"
   }
  }
 },
 "nbformat": 4,
 "nbformat_minor": 2
}
