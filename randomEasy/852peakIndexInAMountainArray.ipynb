{
 "cells": [
  {
   "cell_type": "markdown",
   "metadata": {},
   "source": [
    "Let's call an array arr a mountain if the following properties hold:\n",
    "\n",
    "arr.length >= 3\n",
    "There exists some i with 0 < i < arr.length - 1 such that:\n",
    "arr[0] < arr[1] < ... arr[i-1] < arr[i]\n",
    "arr[i] > arr[i+1] > ... > arr[arr.length - 1]\n",
    "Given an integer array arr that is guaranteed to be a mountain, return any i such that arr[0] < arr[1] < ... arr[i - 1] < arr[i] > arr[i + 1] > ... > arr[arr.length - 1]"
   ]
  },
  {
   "cell_type": "code",
   "execution_count": 8,
   "metadata": {},
   "outputs": [],
   "source": [
    "# here's an easy bs solution they probably wouldn't allow this\n",
    "# this works and was accepted but def not what they want\n",
    "def peakIndexInMountainArray(arr):\n",
    "    return arr.index(max(arr))"
   ]
  },
  {
   "cell_type": "code",
   "execution_count": 9,
   "metadata": {},
   "outputs": [
    {
     "data": {
      "text/plain": [
       "1"
      ]
     },
     "execution_count": 9,
     "metadata": {},
     "output_type": "execute_result"
    }
   ],
   "source": [
    "ex = [ 0,10,5,2]\n",
    "peakIndexInMountainArray(ex)"
   ]
  },
  {
   "cell_type": "code",
   "execution_count": 12,
   "metadata": {},
   "outputs": [],
   "source": [
    "# this is a good readable solution however time limit exceeded\n",
    "def peakIndexInMountainArray(arr):\n",
    "    l = 0\n",
    "    r = len(arr) - 1\n",
    "    while l <= r:\n",
    "        m = (l + r) // 2\n",
    "        if arr[m-1] < arr[m] > arr[m+1]:\n",
    "            return m\n",
    "        elif arr[m] < arr[m+1] < arr[m+1]:\n",
    "            l = m + 1\n",
    "        elif arr[m-1] > arr[m] > arr[m+1]:\n",
    "            r = m - 1"
   ]
  },
  {
   "cell_type": "code",
   "execution_count": 13,
   "metadata": {},
   "outputs": [
    {
     "data": {
      "text/plain": [
       "1"
      ]
     },
     "execution_count": 13,
     "metadata": {},
     "output_type": "execute_result"
    }
   ],
   "source": [
    "peakIndexInMountainArray(ex)"
   ]
  },
  {
   "cell_type": "code",
   "execution_count": 15,
   "metadata": {},
   "outputs": [],
   "source": [
    "def peakIndexInMountainArray(arr):\n",
    "    l = 0\n",
    "    r = len(arr) - 1\n",
    "    while l <= r:\n",
    "        m = (l + r) // 2\n",
    "        if arr[m-1] < arr[m] > arr[m+1]:\n",
    "            return m\n",
    "            break\n",
    "        elif arr[m-1] < arr[m]:\n",
    "            l = m + 1\n",
    "        # absolute must to set r = m here and not (m-1), since we're using floor division to reset the mid it can sometimes skip over an index\n",
    "        else: r = m\n",
    "    return r"
   ]
  }
 ],
 "metadata": {
  "kernelspec": {
   "display_name": "Python 3.9.12 ('base')",
   "language": "python",
   "name": "python3"
  },
  "language_info": {
   "codemirror_mode": {
    "name": "ipython",
    "version": 3
   },
   "file_extension": ".py",
   "mimetype": "text/x-python",
   "name": "python",
   "nbconvert_exporter": "python",
   "pygments_lexer": "ipython3",
   "version": "3.9.12"
  },
  "orig_nbformat": 4,
  "vscode": {
   "interpreter": {
    "hash": "40203b3ec892d21f304b904bd7441b754322a8b95cad2515f623282baa87ac4b"
   }
  }
 },
 "nbformat": 4,
 "nbformat_minor": 2
}
