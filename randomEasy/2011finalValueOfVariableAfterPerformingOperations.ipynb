{
 "cells": [
  {
   "cell_type": "code",
   "execution_count": 27,
   "id": "24819880",
   "metadata": {},
   "outputs": [],
   "source": [
    "ex = [\"--X\",\"X++\",\"X++\"]\n",
    "ex2 = [\"++X\",\"++X\",\"X++\"]\n",
    "ex3 = [\"X++\",\"++X\",\"--X\",\"X--\"]"
   ]
  },
  {
   "cell_type": "code",
   "execution_count": 43,
   "id": "2f08522c",
   "metadata": {},
   "outputs": [],
   "source": [
    "def finalValueAfterOperations(operations):\n",
    "    x = 0\n",
    "    for i in range(len(operations)):\n",
    "        if operations[i] == '--X':\n",
    "            x -= 1\n",
    "        elif operations[i] == 'X--':\n",
    "            x -= 1\n",
    "        else:\n",
    "            x += 1\n",
    "    return x"
   ]
  },
  {
   "cell_type": "code",
   "execution_count": 44,
   "id": "4d853079",
   "metadata": {},
   "outputs": [
    {
     "data": {
      "text/plain": [
       "1"
      ]
     },
     "execution_count": 44,
     "metadata": {},
     "output_type": "execute_result"
    }
   ],
   "source": [
    "finalValueAfterOperations(ex)"
   ]
  },
  {
   "cell_type": "code",
   "execution_count": 45,
   "id": "44e9d1a5",
   "metadata": {},
   "outputs": [],
   "source": [
    "# passed 18/259 test cases ... wtf"
   ]
  },
  {
   "cell_type": "code",
   "execution_count": 46,
   "id": "13f827e5",
   "metadata": {},
   "outputs": [
    {
     "data": {
      "text/plain": [
       "3"
      ]
     },
     "execution_count": 46,
     "metadata": {},
     "output_type": "execute_result"
    }
   ],
   "source": [
    "finalValueAfterOperations(ex2)"
   ]
  },
  {
   "cell_type": "code",
   "execution_count": 47,
   "id": "385804c8",
   "metadata": {},
   "outputs": [
    {
     "data": {
      "text/plain": [
       "0"
      ]
     },
     "execution_count": 47,
     "metadata": {},
     "output_type": "execute_result"
    }
   ],
   "source": [
    "finalValueAfterOperations(ex3)"
   ]
  },
  {
   "cell_type": "code",
   "execution_count": null,
   "id": "f2f36673",
   "metadata": {},
   "outputs": [],
   "source": [
    "#ok that works, although this is likely a brute force type solution"
   ]
  }
 ],
 "metadata": {
  "kernelspec": {
   "display_name": "Python 3 (ipykernel)",
   "language": "python",
   "name": "python3"
  },
  "language_info": {
   "codemirror_mode": {
    "name": "ipython",
    "version": 3
   },
   "file_extension": ".py",
   "mimetype": "text/x-python",
   "name": "python",
   "nbconvert_exporter": "python",
   "pygments_lexer": "ipython3",
   "version": "3.9.7"
  }
 },
 "nbformat": 4,
 "nbformat_minor": 5
}
