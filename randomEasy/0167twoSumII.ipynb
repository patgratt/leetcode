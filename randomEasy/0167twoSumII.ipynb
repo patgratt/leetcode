{
 "cells": [
  {
   "cell_type": "markdown",
   "metadata": {},
   "source": [
    "<h1> 167. Two Sum II - Input Array Is Sorted THIS ISN\"T OPTIMAL LOOK AT NEETCODE FOR OPTIMAL - theres a better solution that doesn't use extra memory"
   ]
  },
  {
   "cell_type": "markdown",
   "metadata": {},
   "source": [
    "Given a 1-indexed array of integers numbers that is already sorted in non-decreasing order, find two numbers such that they add up to a specific target number. Let these two numbers be numbers[index1] and numbers[index2] where 1 <= index1 < index2 <= numbers.length.\n",
    "\n",
    "Return the indices of the two numbers, index1 and index2, added by one as an integer array [index1, index2] of length 2.\n",
    "\n",
    "The tests are generated such that there is exactly one solution. You may not use the same element twice.\n",
    "\n",
    "Your solution must use only constant extra space."
   ]
  },
  {
   "cell_type": "code",
   "execution_count": 7,
   "metadata": {},
   "outputs": [],
   "source": [
    "ex_nums = [2,7,11,15]\n",
    "ex_tar = 9\n",
    "# answer = [1,2]"
   ]
  },
  {
   "cell_type": "code",
   "execution_count": 22,
   "metadata": {},
   "outputs": [],
   "source": [
    "def twoSum(nums, target):\n",
    "    # create empty dictionary, we'll use to track seen values:indices\n",
    "    seen = {}\n",
    "    # loop through and get indices and values\n",
    "    for i, value in enumerate(nums):\n",
    "        # set remaining equal to diff between target and index of iteration (we'll then try to match another index with this)\n",
    "        remaining = target - nums[i]\n",
    "        # won't happen the first iteration\n",
    "        # if remaining (what we're looking for) has been seen before, then that plus our current index fulfills twoSum\n",
    "        # then we grab the index of remaining and our current index and return them\n",
    "        if remaining in seen:\n",
    "            return [seen[remaining]+1,i+1]\n",
    "        # add the value and index of the iteration to the seen dictionary\n",
    "        else:\n",
    "            seen[value] = i"
   ]
  },
  {
   "cell_type": "code",
   "execution_count": 23,
   "metadata": {},
   "outputs": [
    {
     "data": {
      "text/plain": [
       "[1, 2]"
      ]
     },
     "execution_count": 23,
     "metadata": {},
     "output_type": "execute_result"
    }
   ],
   "source": [
    "twoSum(ex_nums,ex_tar)"
   ]
  },
  {
   "cell_type": "code",
   "execution_count": 24,
   "metadata": {},
   "outputs": [],
   "source": [
    "# i'll count this as a win, even though I literrally just added 1 to the output of the original twosum solution"
   ]
  }
 ],
 "metadata": {
  "kernelspec": {
   "display_name": "Python 3.9.12 ('base')",
   "language": "python",
   "name": "python3"
  },
  "language_info": {
   "codemirror_mode": {
    "name": "ipython",
    "version": 3
   },
   "file_extension": ".py",
   "mimetype": "text/x-python",
   "name": "python",
   "nbconvert_exporter": "python",
   "pygments_lexer": "ipython3",
   "version": "3.9.12"
  },
  "orig_nbformat": 4,
  "vscode": {
   "interpreter": {
    "hash": "40203b3ec892d21f304b904bd7441b754322a8b95cad2515f623282baa87ac4b"
   }
  }
 },
 "nbformat": 4,
 "nbformat_minor": 2
}
