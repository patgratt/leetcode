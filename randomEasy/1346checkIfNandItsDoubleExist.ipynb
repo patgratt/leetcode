{
 "cells": [
  {
   "cell_type": "markdown",
   "metadata": {},
   "source": [
    "<h1> Check if N and Its Double Exist"
   ]
  },
  {
   "cell_type": "markdown",
   "metadata": {},
   "source": [
    "Given an array arr of integers, check if there exists two integers N and M such that N is the double of M ( i.e. N = 2 * M).\n",
    "\n",
    "More formally check if there exists two indices i and j such that :\n",
    "\n",
    "i != j\n",
    "0 <= i, j < arr.length\n",
    "arr[i] == 2 * arr[j]"
   ]
  },
  {
   "cell_type": "code",
   "execution_count": 2,
   "metadata": {},
   "outputs": [],
   "source": [
    "# def checkIfExist(arr):\n",
    "#     # hashtable of seen values, key = i, val = j\n",
    "#     seen = {}\n",
    "#     j = 1\n",
    "#     for i in range(len(arr)):\n",
    "#         if (arr[j] % 2) == 0 and (arr[j] not in seen):\n",
    "#             if arr[i] != 2 * arr[j]:\n",
    "#                 seen[i] = j\n",
    "#                 j += 1\n",
    "#             result = False\n",
    "#         elif arr[i] == 2 * arr[j]:\n",
    "#             result = True"
   ]
  },
  {
   "cell_type": "code",
   "execution_count": 16,
   "metadata": {},
   "outputs": [],
   "source": [
    "# WRONG\n",
    "def checkIfExist(arr):\n",
    "    count = 0\n",
    "    for i in range(len(arr)):\n",
    "        for j in range(len(arr)):\n",
    "            if (arr[i] == 2 * arr[j]) or (arr[j] == 2 * arr[i]):\n",
    "                count += 1\n",
    "    return count > 0            "
   ]
  },
  {
   "cell_type": "code",
   "execution_count": 30,
   "metadata": {},
   "outputs": [
    {
     "name": "stdout",
     "output_type": "stream",
     "text": [
      "True\n",
      "True\n",
      "False\n",
      "False\n"
     ]
    }
   ],
   "source": [
    "ex = [10,2,5,3] # True\n",
    "ex2 = [7,1,14,11] # True\n",
    "ex3 = [3,1,7,11] # False\n",
    "ex4 = [-2,0,10,-19,4,6,-8] # False\n",
    "\n",
    "print(checkIfExist(ex))\n",
    "print(checkIfExist(ex2))\n",
    "print(checkIfExist(ex3))\n",
    "print(checkIfExist(ex4))\n",
    "# leetcode saying my output is true for the last one"
   ]
  },
  {
   "cell_type": "code",
   "execution_count": 27,
   "metadata": {},
   "outputs": [],
   "source": [
    "# WRONG\n",
    "def checkIfExist(arr):\n",
    "    i = 0\n",
    "    count = 0\n",
    "    j = 1\n",
    "    for j in range(1,len(arr)-1):\n",
    "        if (arr[i] == 2 * arr[j]) or (arr[j] == 2 * arr[i]):\n",
    "            count += 1\n",
    "    return count > 0"
   ]
  },
  {
   "cell_type": "code",
   "execution_count": 29,
   "metadata": {},
   "outputs": [
    {
     "name": "stdout",
     "output_type": "stream",
     "text": [
      "True\n",
      "True\n",
      "False\n",
      "False\n"
     ]
    }
   ],
   "source": [
    "ex = [10,2,5,3] # True\n",
    "ex2 = [7,1,14,11] # True\n",
    "ex3 = [3,1,7,11] # False\n",
    "ex4 = [-2,0,10,-19,4,6,-8] # False\n",
    "\n",
    "print(checkIfExist(ex))\n",
    "print(checkIfExist(ex2))\n",
    "print(checkIfExist(ex3))\n",
    "print(checkIfExist(ex4))\n",
    "# leetcode saying my output is true for the last one"
   ]
  },
  {
   "cell_type": "code",
   "execution_count": 3,
   "metadata": {},
   "outputs": [],
   "source": [
    "# CORRECT\n",
    "# counter solution\n",
    "import collections\n",
    "\n",
    "def checkIfExist(arr):\n",
    "    s = collections.Counter(arr)\n",
    "    # check if there are more than one zeros\n",
    "    if s[0] > 1:\n",
    "        # if there are multile zeros in the array the condition will always be true\n",
    "        return True\n",
    "    \n",
    "    for num in arr:\n",
    "        if s[2*num] and num != 0:\n",
    "            return True\n",
    "    return False"
   ]
  },
  {
   "cell_type": "code",
   "execution_count": 6,
   "metadata": {},
   "outputs": [
    {
     "name": "stdout",
     "output_type": "stream",
     "text": [
      "Counter({3: 1, 1: 1, 7: 1, 11: 1})\n"
     ]
    }
   ],
   "source": [
    "s = collections.Counter(ex3)\n",
    "print(s)"
   ]
  },
  {
   "cell_type": "code",
   "execution_count": 13,
   "metadata": {},
   "outputs": [
    {
     "name": "stdout",
     "output_type": "stream",
     "text": [
      "dict_values([1, 1, 1, 1])\n"
     ]
    }
   ],
   "source": [
    "print(s.values())"
   ]
  },
  {
   "cell_type": "code",
   "execution_count": 5,
   "metadata": {},
   "outputs": [
    {
     "name": "stdout",
     "output_type": "stream",
     "text": [
      "True\n",
      "True\n",
      "False\n",
      "False\n"
     ]
    }
   ],
   "source": [
    "ex = [10,2,5,3] # True\n",
    "ex2 = [7,1,14,11] # True\n",
    "ex3 = [3,1,7,11] # False\n",
    "ex4 = [-2,0,10,-19,4,6,-8] # False\n",
    "\n",
    "print(checkIfExist(ex))\n",
    "print(checkIfExist(ex2))\n",
    "print(checkIfExist(ex3))\n",
    "print(checkIfExist(ex4))"
   ]
  },
  {
   "cell_type": "code",
   "execution_count": null,
   "metadata": {},
   "outputs": [],
   "source": []
  }
 ],
 "metadata": {
  "kernelspec": {
   "display_name": "Python 3.9.12 ('base')",
   "language": "python",
   "name": "python3"
  },
  "language_info": {
   "codemirror_mode": {
    "name": "ipython",
    "version": 3
   },
   "file_extension": ".py",
   "mimetype": "text/x-python",
   "name": "python",
   "nbconvert_exporter": "python",
   "pygments_lexer": "ipython3",
   "version": "3.9.12"
  },
  "orig_nbformat": 4,
  "vscode": {
   "interpreter": {
    "hash": "40203b3ec892d21f304b904bd7441b754322a8b95cad2515f623282baa87ac4b"
   }
  }
 },
 "nbformat": 4,
 "nbformat_minor": 2
}
