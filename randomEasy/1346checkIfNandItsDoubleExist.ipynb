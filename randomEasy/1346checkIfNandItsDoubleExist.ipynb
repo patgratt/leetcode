{
 "cells": [
  {
   "cell_type": "markdown",
   "metadata": {},
   "source": [
    "<h1> Check if N and Its Double Exist"
   ]
  },
  {
   "cell_type": "markdown",
   "metadata": {},
   "source": [
    "Given an array arr of integers, check if there exists two integers N and M such that N is the double of M ( i.e. N = 2 * M).\n",
    "\n",
    "More formally check if there exists two indices i and j such that :\n",
    "\n",
    "i != j\n",
    "0 <= i, j < arr.length\n",
    "arr[i] == 2 * arr[j]"
   ]
  },
  {
   "cell_type": "code",
   "execution_count": 3,
   "metadata": {},
   "outputs": [],
   "source": [
    "# counter solution\n",
    "\n",
    "import collections\n",
    "\n",
    "def checkIfExist(arr):\n",
    "    s = collections.Counter(arr)\n",
    "    # check if there are more than one zeros\n",
    "    if s[0] > 1:\n",
    "        # if there are multile zeros in the array the condition will always be true\n",
    "        return True\n",
    "    \n",
    "    for num in arr:\n",
    "        if s[2*num] and num != 0:\n",
    "            return True\n",
    "    return False"
   ]
  },
  {
   "cell_type": "code",
   "execution_count": 1,
   "metadata": {},
   "outputs": [],
   "source": [
    "# hashset solution\n",
    "from typing import List\n",
    "def checkIfExist(self, arr: List[int]) -> bool:\n",
    "    seen = set()\n",
    "\n",
    "    for x in arr:\n",
    "        if x / 2 in seen:\n",
    "            return True\n",
    "        elif x * 2 in seen:\n",
    "            return True\n",
    "        seen.add(x)\n",
    "    \n",
    "    return False"
   ]
  }
 ],
 "metadata": {
  "kernelspec": {
   "display_name": "Python 3.10.6 64-bit",
   "language": "python",
   "name": "python3"
  },
  "language_info": {
   "codemirror_mode": {
    "name": "ipython",
    "version": 3
   },
   "file_extension": ".py",
   "mimetype": "text/x-python",
   "name": "python",
   "nbconvert_exporter": "python",
   "pygments_lexer": "ipython3",
   "version": "3.10.6"
  },
  "orig_nbformat": 4,
  "vscode": {
   "interpreter": {
    "hash": "767d51c1340bd893661ea55ea3124f6de3c7a262a8b4abca0554b478b1e2ff90"
   }
  }
 },
 "nbformat": 4,
 "nbformat_minor": 2
}
