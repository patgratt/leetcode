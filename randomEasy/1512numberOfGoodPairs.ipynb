{
 "cells": [
  {
   "cell_type": "code",
   "execution_count": 3,
   "id": "bfe8ee16",
   "metadata": {},
   "outputs": [
    {
     "name": "stdout",
     "output_type": "stream",
     "text": [
      "4\n"
     ]
    }
   ],
   "source": [
    "# my brute force O(n^2) solution\n",
    "\n",
    "def numIdenticalPairs(nums):\n",
    "    res = 0\n",
    "\n",
    "    for i in range(len(nums)-1):\n",
    "        j = i + 1\n",
    "\n",
    "        while j < len(nums):\n",
    "            if nums[i] == nums[j]:\n",
    "                res += 1\n",
    "            j += 1\n",
    "    return res\n",
    "\n",
    "print(numIdenticalPairs([1,2,3,1,1,3])) # 4"
   ]
  },
  {
   "cell_type": "code",
   "execution_count": 2,
   "id": "58d83030",
   "metadata": {},
   "outputs": [
    {
     "name": "stdout",
     "output_type": "stream",
     "text": [
      "4.0\n"
     ]
    }
   ],
   "source": [
    "# linear solution using formula\n",
    "\n",
    "import collections\n",
    "\n",
    "def numIdenticalPairs(A):\n",
    "    \n",
    "    return sum(k * (k - 1) / 2 for k in collections.Counter(A).values())\n",
    "\n",
    "print(numIdenticalPairs([1,2,3,1,1,3])) # 4"
   ]
  }
 ],
 "metadata": {
  "kernelspec": {
   "display_name": "Python 3.9.12 ('base')",
   "language": "python",
   "name": "python3"
  },
  "language_info": {
   "codemirror_mode": {
    "name": "ipython",
    "version": 3
   },
   "file_extension": ".py",
   "mimetype": "text/x-python",
   "name": "python",
   "nbconvert_exporter": "python",
   "pygments_lexer": "ipython3",
   "version": "3.9.12"
  },
  "vscode": {
   "interpreter": {
    "hash": "40203b3ec892d21f304b904bd7441b754322a8b95cad2515f623282baa87ac4b"
   }
  }
 },
 "nbformat": 4,
 "nbformat_minor": 5
}
