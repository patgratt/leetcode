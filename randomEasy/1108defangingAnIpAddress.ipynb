{
 "cells": [
  {
   "cell_type": "code",
   "execution_count": 1,
   "id": "16f1d1a5",
   "metadata": {},
   "outputs": [],
   "source": [
    "ex = \"1.1.1.1\"\n",
    "ex2 = \"255.100.50.0\""
   ]
  },
  {
   "cell_type": "code",
   "execution_count": 4,
   "id": "f0d38c6f",
   "metadata": {},
   "outputs": [],
   "source": [
    "def defangIPaddr(address):\n",
    "    address = address.replace('.','[.]')\n",
    "    return address"
   ]
  },
  {
   "cell_type": "code",
   "execution_count": 5,
   "id": "9925263e",
   "metadata": {},
   "outputs": [
    {
     "data": {
      "text/plain": [
       "'1[.]1[.]1[.]1'"
      ]
     },
     "execution_count": 5,
     "metadata": {},
     "output_type": "execute_result"
    }
   ],
   "source": [
    "defangIPaddr(ex)"
   ]
  },
  {
   "cell_type": "code",
   "execution_count": null,
   "id": "218ba7ba",
   "metadata": {},
   "outputs": [],
   "source": [
    "# easy money"
   ]
  }
 ],
 "metadata": {
  "kernelspec": {
   "display_name": "Python 3 (ipykernel)",
   "language": "python",
   "name": "python3"
  },
  "language_info": {
   "codemirror_mode": {
    "name": "ipython",
    "version": 3
   },
   "file_extension": ".py",
   "mimetype": "text/x-python",
   "name": "python",
   "nbconvert_exporter": "python",
   "pygments_lexer": "ipython3",
   "version": "3.9.7"
  }
 },
 "nbformat": 4,
 "nbformat_minor": 5
}
