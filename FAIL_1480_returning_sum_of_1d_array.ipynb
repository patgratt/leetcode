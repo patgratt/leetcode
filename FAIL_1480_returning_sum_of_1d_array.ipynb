{
 "cells": [
  {
   "cell_type": "code",
   "execution_count": 1,
   "id": "96167f75",
   "metadata": {},
   "outputs": [],
   "source": [
    "ex = [1,2,3,4]"
   ]
  },
  {
   "cell_type": "code",
   "execution_count": 27,
   "id": "232dea8c",
   "metadata": {},
   "outputs": [],
   "source": [
    "def runningSum(nums):\n",
    "    for i, a in enumerate(nums):\n",
    "        return nums + nums[:i:]"
   ]
  },
  {
   "cell_type": "code",
   "execution_count": 28,
   "id": "643eeb10",
   "metadata": {},
   "outputs": [
    {
     "data": {
      "text/plain": [
       "[1, 2, 3, 4]"
      ]
     },
     "execution_count": 28,
     "metadata": {},
     "output_type": "execute_result"
    }
   ],
   "source": [
    "runningSum(ex)"
   ]
  },
  {
   "cell_type": "code",
   "execution_count": 30,
   "id": "31e958b6",
   "metadata": {},
   "outputs": [],
   "source": [
    "#fail"
   ]
  },
  {
   "cell_type": "code",
   "execution_count": 34,
   "id": "9b94585e",
   "metadata": {},
   "outputs": [],
   "source": [
    "# here's the easy solution\n",
    "from itertools import accumulate\n",
    "def runningSum1(nums):\n",
    "    return list(accumulate(nums))"
   ]
  },
  {
   "cell_type": "code",
   "execution_count": 35,
   "id": "a092e600",
   "metadata": {},
   "outputs": [
    {
     "data": {
      "text/plain": [
       "[1, 3, 6, 10]"
      ]
     },
     "execution_count": 35,
     "metadata": {},
     "output_type": "execute_result"
    }
   ],
   "source": [
    "runningSum1(ex)"
   ]
  },
  {
   "cell_type": "code",
   "execution_count": 36,
   "id": "210b52e5",
   "metadata": {},
   "outputs": [],
   "source": [
    "#here's where I was trying to go\n",
    "def runningSum2(nums):\n",
    "    return [sum(nums[:i+1]) for i in range(len(nums))]"
   ]
  },
  {
   "cell_type": "code",
   "execution_count": 37,
   "id": "7604bad7",
   "metadata": {},
   "outputs": [
    {
     "data": {
      "text/plain": [
       "[1, 3, 6, 10]"
      ]
     },
     "execution_count": 37,
     "metadata": {},
     "output_type": "execute_result"
    }
   ],
   "source": [
    "runningSum2(ex)"
   ]
  },
  {
   "cell_type": "code",
   "execution_count": null,
   "id": "495021a0",
   "metadata": {},
   "outputs": [],
   "source": []
  }
 ],
 "metadata": {
  "kernelspec": {
   "display_name": "Python 3 (ipykernel)",
   "language": "python",
   "name": "python3"
  },
  "language_info": {
   "codemirror_mode": {
    "name": "ipython",
    "version": 3
   },
   "file_extension": ".py",
   "mimetype": "text/x-python",
   "name": "python",
   "nbconvert_exporter": "python",
   "pygments_lexer": "ipython3",
   "version": "3.9.7"
  }
 },
 "nbformat": 4,
 "nbformat_minor": 5
}
