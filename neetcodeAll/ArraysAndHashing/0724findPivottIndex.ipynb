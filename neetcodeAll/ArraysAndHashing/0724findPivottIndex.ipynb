{
 "cells": [
  {
   "cell_type": "code",
   "execution_count": 3,
   "metadata": {},
   "outputs": [],
   "source": [
    "# my solution, linear time, really two passes thru the arr, certainly not exponential\n",
    "\n",
    "def pivotIndex(nums):\n",
    "    \n",
    "    l_sum = 0\n",
    "    # sum of all numbers besides first\n",
    "    r_sum = sum(nums) - nums[0]\n",
    "    \n",
    "    for i in range(len(nums)):\n",
    "        if l_sum == r_sum:\n",
    "            return i\n",
    "        else:\n",
    "            l_sum += nums[i]\n",
    "            # make sure i stays in bounds\n",
    "            if i < len(nums) - 1:\n",
    "                r_sum -= nums[i + 1]\n",
    "    \n",
    "    return -1"
   ]
  }
 ],
 "metadata": {
  "kernelspec": {
   "display_name": "Python 3.9.14 64-bit",
   "language": "python",
   "name": "python3"
  },
  "language_info": {
   "codemirror_mode": {
    "name": "ipython",
    "version": 3
   },
   "file_extension": ".py",
   "mimetype": "text/x-python",
   "name": "python",
   "nbconvert_exporter": "python",
   "pygments_lexer": "ipython3",
   "version": "3.9.14"
  },
  "orig_nbformat": 4,
  "vscode": {
   "interpreter": {
    "hash": "397704579725e15f5c7cb49fe5f0341eb7531c82d19f2c29d197e8b64ab5776b"
   }
  }
 },
 "nbformat": 4,
 "nbformat_minor": 2
}
