{
 "cells": [
  {
   "cell_type": "code",
   "execution_count": null,
   "metadata": {},
   "outputs": [],
   "source": [
    "def lengthOfLastWord(s: str):\n",
    "        \n",
    "        res = 0\n",
    "        i = len(s) - 1\n",
    "\n",
    "        while i > -1:\n",
    "            if s[i] == \" \":\n",
    "                i -= 1\n",
    "                continue\n",
    "            else:\n",
    "                res += 1\n",
    "                if s[i-1] == \" \":\n",
    "                    break\n",
    "                i -= 1\n",
    "        \n",
    "        return res"
   ]
  }
 ],
 "metadata": {
  "language_info": {
   "name": "python"
  },
  "orig_nbformat": 4
 },
 "nbformat": 4,
 "nbformat_minor": 2
}
