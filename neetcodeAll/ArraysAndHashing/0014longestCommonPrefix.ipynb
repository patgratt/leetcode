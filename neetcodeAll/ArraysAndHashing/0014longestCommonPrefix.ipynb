{
 "cells": [
  {
   "cell_type": "code",
   "execution_count": 17,
   "metadata": {},
   "outputs": [
    {
     "name": "stdout",
     "output_type": "stream",
     "text": [
      "\n",
      "a\n",
      "f\n"
     ]
    }
   ],
   "source": [
    "def longestCommonPrefix(strs):\n",
    "    # edge case\n",
    "    if len(strs) == 1:\n",
    "        return strs[0]\n",
    "\n",
    "    res = []\n",
    "    w = 0 # word\n",
    "    l = 0 # letter\n",
    "    # to keep j in bounds, even if there's empty string we check and break before using l to slice\n",
    "    minLen = 1\n",
    "    while w < len(strs) and l < minLen:\n",
    "        minLen = min(minLen, len(strs[w]))\n",
    "        # if at any point we have an empty string there's no common prefix\n",
    "        if strs[w] == \"\":\n",
    "            return \"\"\n",
    "        # if we reach last word and letters were all same\n",
    "        if w == len(strs) - 1:\n",
    "            res.append(strs[w][l])\n",
    "            w = 0\n",
    "            l += 1\n",
    "        # if the condition becomes invalid\n",
    "        if strs[w][l] != strs[w+1][l]:\n",
    "            return \"\".join(res)\n",
    "        w += 1\n",
    "    \n",
    "    return \"\".join(res)\n",
    "\n",
    "strs1 = [\"\"]\n",
    "print(longestCommonPrefix(strs1))\n",
    "strs2 = [\"abc\",\"abd\"]\n",
    "print(longestCommonPrefix(strs2))\n",
    "strs3 = [\"flower\",\"flow\",\"flight\"]\n",
    "print(longestCommonPrefix(strs3))"
   ]
  },
  {
   "cell_type": "code",
   "execution_count": 14,
   "metadata": {},
   "outputs": [
    {
     "data": {
      "text/plain": [
       "''"
      ]
     },
     "execution_count": 14,
     "metadata": {},
     "output_type": "execute_result"
    }
   ],
   "source": [
    "g = [\"\"]\n",
    "g[0]"
   ]
  },
  {
   "cell_type": "code",
   "execution_count": null,
   "metadata": {},
   "outputs": [],
   "source": []
  }
 ],
 "metadata": {
  "kernelspec": {
   "display_name": "Python 3.9.14 64-bit",
   "language": "python",
   "name": "python3"
  },
  "language_info": {
   "codemirror_mode": {
    "name": "ipython",
    "version": 3
   },
   "file_extension": ".py",
   "mimetype": "text/x-python",
   "name": "python",
   "nbconvert_exporter": "python",
   "pygments_lexer": "ipython3",
   "version": "3.9.14"
  },
  "orig_nbformat": 4,
  "vscode": {
   "interpreter": {
    "hash": "397704579725e15f5c7cb49fe5f0341eb7531c82d19f2c29d197e8b64ab5776b"
   }
  }
 },
 "nbformat": 4,
 "nbformat_minor": 2
}
