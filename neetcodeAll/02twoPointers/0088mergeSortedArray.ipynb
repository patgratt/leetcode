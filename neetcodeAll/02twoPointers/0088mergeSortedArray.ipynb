{
 "cells": [
  {
   "cell_type": "code",
   "execution_count": 1,
   "metadata": {},
   "outputs": [],
   "source": [
    "def merge(nums1, nums2, m, n):\n",
    "    # last index nums1\n",
    "    last = m + n - 1\n",
    "\n",
    "    # merge in reverse order\n",
    "    while m > 0 and n > 0:\n",
    "        if nums1[m - 1] > nums2[n - 1]:\n",
    "            nums1[last] = nums1[m]\n",
    "            m -= 1\n",
    "        else:\n",
    "            nums1[last] = nums2[n]\n",
    "            n -= 1\n",
    "        last -= 1\n",
    "\n",
    "    # fill nums1 with leftover nums2 elements\n",
    "    while n > 0:\n",
    "        nums1[last] = nums2[n]\n",
    "        n, last = n - 1, last - 1"
   ]
  }
 ],
 "metadata": {
  "kernelspec": {
   "display_name": "Python 3.10.6 64-bit",
   "language": "python",
   "name": "python3"
  },
  "language_info": {
   "codemirror_mode": {
    "name": "ipython",
    "version": 3
   },
   "file_extension": ".py",
   "mimetype": "text/x-python",
   "name": "python",
   "nbconvert_exporter": "python",
   "pygments_lexer": "ipython3",
   "version": "3.10.6"
  },
  "orig_nbformat": 4,
  "vscode": {
   "interpreter": {
    "hash": "e7370f93d1d0cde622a1f8e1c04877d8463912d04d973331ad4851f04de6915a"
   }
  }
 },
 "nbformat": 4,
 "nbformat_minor": 2
}
