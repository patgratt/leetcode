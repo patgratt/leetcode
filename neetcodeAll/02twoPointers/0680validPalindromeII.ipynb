{
 "cells": [
  {
   "cell_type": "code",
   "execution_count": 1,
   "metadata": {},
   "outputs": [],
   "source": [
    "class Solution:\n",
    "    def validPalindrome(self, s: str) -> bool:\n",
    "        def check_palindrome(s, i, j):\n",
    "            while i < j:\n",
    "                if s[i] != s[j]:\n",
    "                    return False\n",
    "                i += 1\n",
    "                j -= 1\n",
    "            \n",
    "            return True\n",
    "\n",
    "        i = 0\n",
    "        j = len(s) - 1\n",
    "        while i < j:\n",
    "            # Found a mismatched pair - try both deletions\n",
    "            if s[i] != s[j]:\n",
    "                return check_palindrome(s, i, j - 1) or check_palindrome(s, i + 1, j)\n",
    "            i += 1\n",
    "            j -= 1\n",
    "        \n",
    "        return True"
   ]
  },
  {
   "cell_type": "code",
   "execution_count": null,
   "metadata": {},
   "outputs": [],
   "source": [
    "# leetcode\n",
    "\n",
    "class Solution:\n",
    "    def validPalindrome(self, s: str) -> bool:\n",
    "        def check_palindrome(s, i, j):\n",
    "            while i < j:\n",
    "                if s[i] != s[j]:\n",
    "                    return False\n",
    "                i += 1\n",
    "                j -= 1\n",
    "            \n",
    "            return True\n",
    "\n",
    "        i = 0\n",
    "        j = len(s) - 1\n",
    "        while i < j:\n",
    "            # Found a mismatched pair - try both deletions\n",
    "            if s[i] != s[j]:\n",
    "                return check_palindrome(s, i, j - 1) or check_palindrome(s, i + 1, j)\n",
    "            i += 1\n",
    "            j -= 1\n",
    "        \n",
    "        return True"
   ]
  }
 ],
 "metadata": {
  "kernelspec": {
   "display_name": "Python 3.10.6 64-bit",
   "language": "python",
   "name": "python3"
  },
  "language_info": {
   "codemirror_mode": {
    "name": "ipython",
    "version": 3
   },
   "file_extension": ".py",
   "mimetype": "text/x-python",
   "name": "python",
   "nbconvert_exporter": "python",
   "pygments_lexer": "ipython3",
   "version": "3.10.6"
  },
  "orig_nbformat": 4,
  "vscode": {
   "interpreter": {
    "hash": "e7370f93d1d0cde622a1f8e1c04877d8463912d04d973331ad4851f04de6915a"
   }
  }
 },
 "nbformat": 4,
 "nbformat_minor": 2
}
