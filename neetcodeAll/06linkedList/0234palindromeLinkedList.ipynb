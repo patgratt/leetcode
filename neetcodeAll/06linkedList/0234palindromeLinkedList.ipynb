{
 "cells": [
  {
   "cell_type": "code",
   "execution_count": 1,
   "metadata": {},
   "outputs": [],
   "source": [
    "# Define node for a singly-linked list\n",
    "class ListNode:\n",
    "    def __init__(self, val=0, next=None):\n",
    "        self.val = val\n",
    "        self.next = None\n",
    "    \n",
    "    def push(self, val):\n",
    "        newhead = ListNode(val=val)\n",
    "        newhead.next = self\n",
    "        self = newhead\n",
    "        return self\n",
    "\n",
    "    def printlist(self):\n",
    "        temp = self\n",
    "        output = []\n",
    "        while temp:\n",
    "            output.append(temp.val)\n",
    "            temp = temp.next\n",
    "        return output"
   ]
  },
  {
   "cell_type": "code",
   "execution_count": 3,
   "metadata": {},
   "outputs": [],
   "source": [
    "# easy solution, just convert linked list to array then do usual two pointer palindrome solution - TC: O(n) SC: O(n)\n",
    "\n",
    "def isPalidrome(head):\n",
    "\n",
    "    nums = []\n",
    "\n",
    "    while head:\n",
    "        nums.append(head.val)\n",
    "        head = head.next\n",
    "\n",
    "    l, r = 0, len(nums) - 1\n",
    "    while l <= r:\n",
    "        if nums[l] != nums[r]:\n",
    "            return False\n",
    "        l += 1\n",
    "        r -= 1\n",
    "    return True"
   ]
  },
  {
   "cell_type": "code",
   "execution_count": null,
   "metadata": {},
   "outputs": [],
   "source": [
    "# optimal solution\n",
    "\n",
    "def isPalidrome(head):\n",
    "    slow, fast = head\n",
    "\n",
    "    # find middle (slow)\n",
    "    while fast and fast.next:\n",
    "        fast = fast.next.next\n",
    "        slow = slow.next\n",
    "\n",
    "    # reverse pointers on second half\n",
    "    prev = None # set pointer of middle node to null\n",
    "    while slow:\n",
    "        tmp = slow.next # store OG pointer\n",
    "        slow.next = prev # reverse step\n",
    "        prev = slow # store left\n",
    "        slow = tmp # update curr\n",
    "\n",
    "    # check palindrome\n",
    "    left, right = head, prev\n",
    "    while right: # we have middle next pointer set to null\n",
    "        if left.val != right.val:\n",
    "            return False\n",
    "        left = left.next\n",
    "        right = right.next\n",
    "    return True       \n"
   ]
  }
 ],
 "metadata": {
  "kernelspec": {
   "display_name": "Python 3.10.6 64-bit",
   "language": "python",
   "name": "python3"
  },
  "language_info": {
   "codemirror_mode": {
    "name": "ipython",
    "version": 3
   },
   "file_extension": ".py",
   "mimetype": "text/x-python",
   "name": "python",
   "nbconvert_exporter": "python",
   "pygments_lexer": "ipython3",
   "version": "3.10.6"
  },
  "orig_nbformat": 4,
  "vscode": {
   "interpreter": {
    "hash": "e7370f93d1d0cde622a1f8e1c04877d8463912d04d973331ad4851f04de6915a"
   }
  }
 },
 "nbformat": 4,
 "nbformat_minor": 2
}
