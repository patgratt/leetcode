{
 "cells": [
  {
   "cell_type": "code",
   "execution_count": 3,
   "metadata": {},
   "outputs": [],
   "source": [
    "# my first solution with extra memory\n",
    "\n",
    "from typing import Optional\n",
    "# Definition for singly-linked list.\n",
    "class ListNode:\n",
    "    def __init__(self, x):\n",
    "        self.val = x\n",
    "        self.next = None\n",
    "\n",
    "class Solution:\n",
    "    def getIntersectionNode(self, headA: ListNode, headB: ListNode) -> Optional[ListNode]:\n",
    "\n",
    "        seenA = set()\n",
    "        pA = headA\n",
    "        pB = headB\n",
    "\n",
    "        while pA:\n",
    "            seenA.add(pA)\n",
    "            pA = pA.next\n",
    "        \n",
    "        while pB:\n",
    "            if pB in seenA:\n",
    "                return pB\n",
    "                break\n",
    "            else:\n",
    "                pB = pB.next"
   ]
  },
  {
   "cell_type": "code",
   "execution_count": 4,
   "metadata": {},
   "outputs": [],
   "source": [
    "# my optimal big O solution\n",
    "\n",
    "# Definition for singly-linked list.\n",
    "# class ListNode:\n",
    "#     def __init__(self, x):\n",
    "#         self.val = x\n",
    "#         self.next = None\n",
    "\n",
    "class Solution:\n",
    "    def getIntersectionNode(self, headA: ListNode, headB: ListNode) -> Optional[ListNode]:\n",
    "\n",
    "        pA, pB = headA, headB\n",
    "        lenA, lenB = 0, 0\n",
    "\n",
    "        # one full pass thru each list\n",
    "        while pA: # get len of A\n",
    "            lenA += 1\n",
    "            pA = pA.next\n",
    "        while pB: # get len of B\n",
    "            lenB += 1\n",
    "            pB = pB.next\n",
    "        diff = abs(lenA - lenB) # capture diff in length\n",
    "\n",
    "        # reset pointers\n",
    "        pA, pB = headA, headB\n",
    "\n",
    "        # give pointer of longer list headstart equal to difference\n",
    "        if lenA > lenB:\n",
    "            for _ in range(diff):\n",
    "                pA = pA.next\n",
    "        elif lenB > lenA:\n",
    "            for _ in range(diff):\n",
    "                pB = pB.next\n",
    "        \n",
    "        # iterate thru both one at a time checking if reached same node\n",
    "        while pA and pB:\n",
    "            if pA == pB:\n",
    "                return pA\n",
    "                break\n",
    "            else:\n",
    "                pA, pB = pA.next, pB.next"
   ]
  },
  {
   "cell_type": "code",
   "execution_count": 5,
   "metadata": {},
   "outputs": [],
   "source": [
    "# simpler implementation of same optimal algo\n",
    "\n",
    "class Solution:\n",
    "    def getIntersectionNode(self, headA: ListNode, headB: ListNode) -> ListNode:\n",
    "        pA = headA\n",
    "        pB = headB\n",
    "\n",
    "        while pA != pB:\n",
    "            pA = headB if pA is None else pA.next\n",
    "            pB = headA if pB is None else pB.next\n",
    "\n",
    "        return pA\n",
    "        # Note: In the case lists do not intersect, the pointers for A and B\n",
    "        # will still line up in the 2nd iteration, just that here won't be\n",
    "        # a common node down the list and both will reach their respective ends\n",
    "        # at the same time. So pA will be NULL in that case."
   ]
  }
 ],
 "metadata": {
  "kernelspec": {
   "display_name": "Python 3.10.6 64-bit",
   "language": "python",
   "name": "python3"
  },
  "language_info": {
   "codemirror_mode": {
    "name": "ipython",
    "version": 3
   },
   "file_extension": ".py",
   "mimetype": "text/x-python",
   "name": "python",
   "nbconvert_exporter": "python",
   "pygments_lexer": "ipython3",
   "version": "3.10.6"
  },
  "orig_nbformat": 4,
  "vscode": {
   "interpreter": {
    "hash": "e7370f93d1d0cde622a1f8e1c04877d8463912d04d973331ad4851f04de6915a"
   }
  }
 },
 "nbformat": 4,
 "nbformat_minor": 2
}
