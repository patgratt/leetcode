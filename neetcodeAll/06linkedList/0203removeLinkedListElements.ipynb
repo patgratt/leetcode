{
 "cells": [
  {
   "cell_type": "code",
   "execution_count": 4,
   "metadata": {},
   "outputs": [],
   "source": [
    "# MY SOLUTION - optimal TC and SC but could have implemented simpler\n",
    "\n",
    "# Definition for singly-linked list.\n",
    "class ListNode:\n",
    "    def __init__(self, val=0, next=None):\n",
    "        self.val = val\n",
    "        self.next = next\n",
    "from typing import Optional\n",
    "\n",
    "class Solution:\n",
    "    def removeElements(self, head: Optional[ListNode], val: int) -> Optional[ListNode]:\n",
    "        # ensure we don't start on bad val\n",
    "        if head:\n",
    "            while head and head.val == val:\n",
    "                head = head.next\n",
    "\n",
    "        # ensure we have at least 2 nodes\n",
    "        if head and head.next:\n",
    "            a = head.next\n",
    "            b = head\n",
    "        else:\n",
    "             return head\n",
    "\n",
    "        while a:\n",
    "            while a and a.val == val:\n",
    "                a = a.next\n",
    "            b.next = a\n",
    "            b = a\n",
    "            if a:\n",
    "                a = a.next\n",
    "\n",
    "        return head"
   ]
  },
  {
   "cell_type": "code",
   "execution_count": 5,
   "metadata": {},
   "outputs": [],
   "source": [
    "# neetcode\n",
    "\n",
    "class Solution:\n",
    "    def removeElements(self, head: Optional[ListNode], val: int) -> Optional[ListNode]:\n",
    "\n",
    "        dummy = ListNode(next=head)\n",
    "        prev, curr = dummy, head\n",
    "\n",
    "        while curr:\n",
    "            nxt = curr.next\n",
    "\n",
    "            if curr.val == val:\n",
    "                prev.next = nxt\n",
    "            else:\n",
    "                prev = curr\n",
    "\n",
    "            curr = nxt\n",
    "        return dummy.next"
   ]
  },
  {
   "cell_type": "code",
   "execution_count": null,
   "metadata": {},
   "outputs": [],
   "source": []
  }
 ],
 "metadata": {
  "kernelspec": {
   "display_name": "Python 3.10.6 64-bit",
   "language": "python",
   "name": "python3"
  },
  "language_info": {
   "codemirror_mode": {
    "name": "ipython",
    "version": 3
   },
   "file_extension": ".py",
   "mimetype": "text/x-python",
   "name": "python",
   "nbconvert_exporter": "python",
   "pygments_lexer": "ipython3",
   "version": "3.10.6"
  },
  "orig_nbformat": 4,
  "vscode": {
   "interpreter": {
    "hash": "e7370f93d1d0cde622a1f8e1c04877d8463912d04d973331ad4851f04de6915a"
   }
  }
 },
 "nbformat": 4,
 "nbformat_minor": 2
}
