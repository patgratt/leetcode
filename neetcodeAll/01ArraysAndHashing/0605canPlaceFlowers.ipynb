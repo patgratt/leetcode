{
 "cells": [
  {
   "cell_type": "code",
   "execution_count": 2,
   "metadata": {},
   "outputs": [],
   "source": [
    "# first solution, TC: O(n), SC: O(n)\n",
    "\n",
    "def canPlaceFlowers(flowerbed, n):\n",
    "    # assume that there are zeroes on ends\n",
    "    f = [0] + flowerbed + [0]\n",
    "\n",
    "    for i in range(1, len(f) - 1): # skip first and last\n",
    "        # if triple zeroes\n",
    "        if f[i - 1] == 0 and f[i] == 0 and f[i + 1] == 0:\n",
    "            # plant flower\n",
    "            f[i] = 1\n",
    "            n -= 1\n",
    "    \n",
    "    return  n <= 0   "
   ]
  },
  {
   "cell_type": "code",
   "execution_count": 4,
   "metadata": {},
   "outputs": [],
   "source": [
    "# better solution without extra space\n",
    "\n",
    "def canPlaceFlowers(flowerbed, n):\n",
    "    # use this empty variable to track empty spaces until we find filled\n",
    "    empty = 0 if flowerbed[0] else 1 # increment if zero at first space\n",
    "\n",
    "    for f in flowerbed:\n",
    "        if f:\n",
    "            # this calculates how many we can plant give consecutive zeros\n",
    "            n -= int((empty - 1) / 2) # int division, round toward zero\n",
    "            empty = 0\n",
    "        else:\n",
    "            empty += 1\n",
    "\n",
    "    n -= (empty) // 2\n",
    "    return n <= 0"
   ]
  }
 ],
 "metadata": {
  "kernelspec": {
   "display_name": "Python 3.9.14 64-bit",
   "language": "python",
   "name": "python3"
  },
  "language_info": {
   "codemirror_mode": {
    "name": "ipython",
    "version": 3
   },
   "file_extension": ".py",
   "mimetype": "text/x-python",
   "name": "python",
   "nbconvert_exporter": "python",
   "pygments_lexer": "ipython3",
   "version": "3.9.14"
  },
  "orig_nbformat": 4,
  "vscode": {
   "interpreter": {
    "hash": "397704579725e15f5c7cb49fe5f0341eb7531c82d19f2c29d197e8b64ab5776b"
   }
  }
 },
 "nbformat": 4,
 "nbformat_minor": 2
}
