{
 "cells": [
  {
   "cell_type": "code",
   "execution_count": 1,
   "metadata": {},
   "outputs": [],
   "source": [
    "def maxNumberOfBalloons(text):\n",
    "    \n",
    "        # [b, a, l, o, n]\n",
    "        pos = {'b' : 0, 'a' : 1, 'l' : 2, 'o' : 3, 'n' : 4}\n",
    "        oneValid = [1, 1, 2, 2, 1]\n",
    "        textCnt = [0] * 5\n",
    "\n",
    "        for i in range(len(text)):\n",
    "            if text[i] in pos.keys():\n",
    "                textCnt[pos[text[i]]] += 1\n",
    "\n",
    "        return min( [x // y for x, y in zip(textCnt, oneValid)] )"
   ]
  }
 ],
 "metadata": {
  "kernelspec": {
   "display_name": "Python 3.10.6 64-bit",
   "language": "python",
   "name": "python3"
  },
  "language_info": {
   "codemirror_mode": {
    "name": "ipython",
    "version": 3
   },
   "file_extension": ".py",
   "mimetype": "text/x-python",
   "name": "python",
   "nbconvert_exporter": "python",
   "pygments_lexer": "ipython3",
   "version": "3.10.6"
  },
  "orig_nbformat": 4,
  "vscode": {
   "interpreter": {
    "hash": "e7370f93d1d0cde622a1f8e1c04877d8463912d04d973331ad4851f04de6915a"
   }
  }
 },
 "nbformat": 4,
 "nbformat_minor": 2
}
