{
 "cells": [
  {
   "cell_type": "code",
   "execution_count": 1,
   "metadata": {},
   "outputs": [],
   "source": [
    "def wordPattern(pattern, s):\n",
    "    map_char = {}\n",
    "    map_word = {}\n",
    "    \n",
    "    words = s.split(' ')\n",
    "    if len(words) != len(pattern):\n",
    "        return False\n",
    "    \n",
    "    for c, w in zip(pattern, words):\n",
    "        if c not in map_char:\n",
    "            if w in map_word:\n",
    "                return False\n",
    "            else:\n",
    "                map_char[c] = w\n",
    "                map_word[w] = c\n",
    "        else:\n",
    "            if map_char[c] != w:\n",
    "                return False\n",
    "    return True"
   ]
  }
 ],
 "metadata": {
  "kernelspec": {
   "display_name": "Python 3.10.6 64-bit",
   "language": "python",
   "name": "python3"
  },
  "language_info": {
   "codemirror_mode": {
    "name": "ipython",
    "version": 3
   },
   "file_extension": ".py",
   "mimetype": "text/x-python",
   "name": "python",
   "nbconvert_exporter": "python",
   "pygments_lexer": "ipython3",
   "version": "3.10.6"
  },
  "orig_nbformat": 4,
  "vscode": {
   "interpreter": {
    "hash": "e7370f93d1d0cde622a1f8e1c04877d8463912d04d973331ad4851f04de6915a"
   }
  }
 },
 "nbformat": 4,
 "nbformat_minor": 2
}
