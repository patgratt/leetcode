{
 "cells": [
  {
   "cell_type": "code",
   "execution_count": 1,
   "id": "ebd2ab2a",
   "metadata": {},
   "outputs": [],
   "source": [
    "ex_n = \"32\""
   ]
  },
  {
   "cell_type": "code",
   "execution_count": 14,
   "id": "546680d2",
   "metadata": {},
   "outputs": [],
   "source": [
    "def minPartitions(n):\n",
    "        while n % 10 == 0:\n",
    "            return n/10\n",
    "        \n",
    "        x10n = n // 10\n",
    "        x11n = n // 11\n"
   ]
  },
  {
   "cell_type": "code",
   "execution_count": 28,
   "id": "9aac4638",
   "metadata": {},
   "outputs": [],
   "source": [
    "def minPartitions(n):\n",
    "        g = []\n",
    "        for i in range(n):\n",
    "            g.append()\n",
    "        return i"
   ]
  },
  {
   "cell_type": "code",
   "execution_count": 29,
   "id": "8ef8a0c5",
   "metadata": {},
   "outputs": [
    {
     "ename": "TypeError",
     "evalue": "'int' object is not iterable",
     "output_type": "error",
     "traceback": [
      "\u001b[0;31m---------------------------------------------------------------------------\u001b[0m",
      "\u001b[0;31mTypeError\u001b[0m                                 Traceback (most recent call last)",
      "\u001b[0;32m/var/folders/fm/gcl3hqzd4ws6jd6kbrxyt48c0000gn/T/ipykernel_76105/2022264576.py\u001b[0m in \u001b[0;36m<module>\u001b[0;34m\u001b[0m\n\u001b[0;32m----> 1\u001b[0;31m \u001b[0mminPartitions\u001b[0m\u001b[0;34m(\u001b[0m\u001b[0;36m5\u001b[0m\u001b[0;34m)\u001b[0m\u001b[0;34m\u001b[0m\u001b[0;34m\u001b[0m\u001b[0m\n\u001b[0m",
      "\u001b[0;32m/var/folders/fm/gcl3hqzd4ws6jd6kbrxyt48c0000gn/T/ipykernel_76105/3150719002.py\u001b[0m in \u001b[0;36mminPartitions\u001b[0;34m(n)\u001b[0m\n\u001b[1;32m      2\u001b[0m         \u001b[0mg\u001b[0m \u001b[0;34m=\u001b[0m \u001b[0;34m[\u001b[0m\u001b[0;34m]\u001b[0m\u001b[0;34m\u001b[0m\u001b[0;34m\u001b[0m\u001b[0m\n\u001b[1;32m      3\u001b[0m         \u001b[0;32mfor\u001b[0m \u001b[0mi\u001b[0m \u001b[0;32min\u001b[0m \u001b[0mrange\u001b[0m\u001b[0;34m(\u001b[0m\u001b[0mn\u001b[0m\u001b[0;34m)\u001b[0m\u001b[0;34m:\u001b[0m\u001b[0;34m\u001b[0m\u001b[0;34m\u001b[0m\u001b[0m\n\u001b[0;32m----> 4\u001b[0;31m             \u001b[0mg\u001b[0m \u001b[0;34m+=\u001b[0m \u001b[0;36m1\u001b[0m\u001b[0;34m\u001b[0m\u001b[0;34m\u001b[0m\u001b[0m\n\u001b[0m\u001b[1;32m      5\u001b[0m         \u001b[0;32mreturn\u001b[0m \u001b[0mi\u001b[0m\u001b[0;34m\u001b[0m\u001b[0;34m\u001b[0m\u001b[0m\n",
      "\u001b[0;31mTypeError\u001b[0m: 'int' object is not iterable"
     ]
    }
   ],
   "source": [
    "minPartitions(5)"
   ]
  },
  {
   "cell_type": "code",
   "execution_count": 21,
   "id": "5ead66bc",
   "metadata": {},
   "outputs": [
    {
     "data": {
      "text/plain": [
       "range(0, 5)"
      ]
     },
     "execution_count": 21,
     "metadata": {},
     "output_type": "execute_result"
    }
   ],
   "source": [
    "range(0,5)"
   ]
  },
  {
   "cell_type": "code",
   "execution_count": null,
   "id": "6d99aafa",
   "metadata": {},
   "outputs": [],
   "source": []
  }
 ],
 "metadata": {
  "kernelspec": {
   "display_name": "Python 3 (ipykernel)",
   "language": "python",
   "name": "python3"
  },
  "language_info": {
   "codemirror_mode": {
    "name": "ipython",
    "version": 3
   },
   "file_extension": ".py",
   "mimetype": "text/x-python",
   "name": "python",
   "nbconvert_exporter": "python",
   "pygments_lexer": "ipython3",
   "version": "3.9.7"
  }
 },
 "nbformat": 4,
 "nbformat_minor": 5
}
