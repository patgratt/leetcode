{
 "cells": [
  {
   "cell_type": "code",
   "execution_count": 2,
   "id": "448c58da",
   "metadata": {},
   "outputs": [],
   "source": [
    "ex_num = 2932"
   ]
  },
  {
   "cell_type": "code",
   "execution_count": 16,
   "id": "8493d2a4",
   "metadata": {},
   "outputs": [],
   "source": [
    "def minimumSum(num):\n",
    "    z = (' '.join(str(num))).split(' ')\n",
    "    for i in z:\n",
    "        return (z[i]+z[i+1])"
   ]
  },
  {
   "cell_type": "code",
   "execution_count": 12,
   "id": "07b859e5",
   "metadata": {},
   "outputs": [
    {
     "data": {
      "text/plain": [
       "['2', '9', '3', '2']"
      ]
     },
     "execution_count": 12,
     "metadata": {},
     "output_type": "execute_result"
    }
   ],
   "source": [
    "z = (' '.join(str(ex_num))).split(' ')\n",
    "z"
   ]
  },
  {
   "cell_type": "code",
   "execution_count": 14,
   "id": "782ffc79",
   "metadata": {},
   "outputs": [
    {
     "ename": "TypeError",
     "evalue": "list indices must be integers or slices, not str",
     "output_type": "error",
     "traceback": [
      "\u001b[0;31m---------------------------------------------------------------------------\u001b[0m",
      "\u001b[0;31mTypeError\u001b[0m                                 Traceback (most recent call last)",
      "\u001b[0;32m/var/folders/fm/gcl3hqzd4ws6jd6kbrxyt48c0000gn/T/ipykernel_70327/3089712684.py\u001b[0m in \u001b[0;36m<module>\u001b[0;34m\u001b[0m\n\u001b[1;32m      1\u001b[0m \u001b[0;32mfor\u001b[0m \u001b[0mi\u001b[0m \u001b[0;32min\u001b[0m \u001b[0mz\u001b[0m\u001b[0;34m:\u001b[0m\u001b[0;34m\u001b[0m\u001b[0;34m\u001b[0m\u001b[0m\n\u001b[0;32m----> 2\u001b[0;31m     \u001b[0mprint\u001b[0m\u001b[0;34m(\u001b[0m\u001b[0mz\u001b[0m\u001b[0;34m[\u001b[0m\u001b[0mi\u001b[0m\u001b[0;34m]\u001b[0m\u001b[0;34m+\u001b[0m\u001b[0mz\u001b[0m\u001b[0;34m[\u001b[0m\u001b[0mi\u001b[0m\u001b[0;34m+\u001b[0m\u001b[0;36m1\u001b[0m\u001b[0;34m]\u001b[0m\u001b[0;34m)\u001b[0m\u001b[0;34m\u001b[0m\u001b[0;34m\u001b[0m\u001b[0m\n\u001b[0m",
      "\u001b[0;31mTypeError\u001b[0m: list indices must be integers or slices, not str"
     ]
    }
   ],
   "source": [
    "for i in z:\n",
    "    print(z[i]+z[i+1])"
   ]
  },
  {
   "cell_type": "code",
   "execution_count": 18,
   "id": "04f242d3",
   "metadata": {},
   "outputs": [
    {
     "ename": "TypeError",
     "evalue": "list indices must be integers or slices, not str",
     "output_type": "error",
     "traceback": [
      "\u001b[0;31m---------------------------------------------------------------------------\u001b[0m",
      "\u001b[0;31mTypeError\u001b[0m                                 Traceback (most recent call last)",
      "\u001b[0;32m/var/folders/fm/gcl3hqzd4ws6jd6kbrxyt48c0000gn/T/ipykernel_70327/1447156496.py\u001b[0m in \u001b[0;36m<module>\u001b[0;34m\u001b[0m\n\u001b[0;32m----> 1\u001b[0;31m \u001b[0mminimumSum\u001b[0m\u001b[0;34m(\u001b[0m\u001b[0mex_num\u001b[0m\u001b[0;34m)\u001b[0m\u001b[0;34m\u001b[0m\u001b[0;34m\u001b[0m\u001b[0m\n\u001b[0m\u001b[1;32m      2\u001b[0m \u001b[0;31m#fail\u001b[0m\u001b[0;34m\u001b[0m\u001b[0;34m\u001b[0m\u001b[0m\n",
      "\u001b[0;32m/var/folders/fm/gcl3hqzd4ws6jd6kbrxyt48c0000gn/T/ipykernel_70327/1404069012.py\u001b[0m in \u001b[0;36mminimumSum\u001b[0;34m(num)\u001b[0m\n\u001b[1;32m      2\u001b[0m     \u001b[0mz\u001b[0m \u001b[0;34m=\u001b[0m \u001b[0;34m(\u001b[0m\u001b[0;34m' '\u001b[0m\u001b[0;34m.\u001b[0m\u001b[0mjoin\u001b[0m\u001b[0;34m(\u001b[0m\u001b[0mstr\u001b[0m\u001b[0;34m(\u001b[0m\u001b[0mnum\u001b[0m\u001b[0;34m)\u001b[0m\u001b[0;34m)\u001b[0m\u001b[0;34m)\u001b[0m\u001b[0;34m.\u001b[0m\u001b[0msplit\u001b[0m\u001b[0;34m(\u001b[0m\u001b[0;34m' '\u001b[0m\u001b[0;34m)\u001b[0m\u001b[0;34m\u001b[0m\u001b[0;34m\u001b[0m\u001b[0m\n\u001b[1;32m      3\u001b[0m     \u001b[0;32mfor\u001b[0m \u001b[0mi\u001b[0m \u001b[0;32min\u001b[0m \u001b[0mz\u001b[0m\u001b[0;34m:\u001b[0m\u001b[0;34m\u001b[0m\u001b[0;34m\u001b[0m\u001b[0m\n\u001b[0;32m----> 4\u001b[0;31m         \u001b[0;32mreturn\u001b[0m \u001b[0;34m(\u001b[0m\u001b[0mz\u001b[0m\u001b[0;34m[\u001b[0m\u001b[0mi\u001b[0m\u001b[0;34m]\u001b[0m\u001b[0;34m+\u001b[0m\u001b[0mz\u001b[0m\u001b[0;34m[\u001b[0m\u001b[0mi\u001b[0m\u001b[0;34m+\u001b[0m\u001b[0;36m1\u001b[0m\u001b[0;34m]\u001b[0m\u001b[0;34m)\u001b[0m\u001b[0;34m\u001b[0m\u001b[0;34m\u001b[0m\u001b[0m\n\u001b[0m",
      "\u001b[0;31mTypeError\u001b[0m: list indices must be integers or slices, not str"
     ]
    }
   ],
   "source": [
    "minimumSum(ex_num)\n",
    "#fail"
   ]
  },
  {
   "cell_type": "code",
   "execution_count": null,
   "id": "5609f129",
   "metadata": {},
   "outputs": [],
   "source": [
    "ex_num = 2932"
   ]
  },
  {
   "cell_type": "code",
   "execution_count": 23,
   "id": "3f2bb25c",
   "metadata": {},
   "outputs": [],
   "source": [
    "def minimumSum(num):\n",
    "    nums, a, b = [], 0, 0\n",
    "    while num > 0:\n",
    "        remainder = num % 10\n",
    "        nums.append(remainder)\n",
    "        num = num//10\n",
    "    return sorted(nums)"
   ]
  },
  {
   "cell_type": "code",
   "execution_count": 24,
   "id": "1e17e062",
   "metadata": {},
   "outputs": [
    {
     "data": {
      "text/plain": [
       "[2, 2, 3, 9]"
      ]
     },
     "execution_count": 24,
     "metadata": {},
     "output_type": "execute_result"
    }
   ],
   "source": [
    "minimumSum(ex_num)\n",
    "#ok so i guess this was his way of getting all of the individual digits, i was able to do that "
   ]
  },
  {
   "cell_type": "code",
   "execution_count": 26,
   "id": "5e1bfe0f",
   "metadata": {},
   "outputs": [],
   "source": [
    "def minimumSum(num):\n",
    "    nums, a, b = [], 0, 0\n",
    "    while num > 0:\n",
    "        remainder = num % 10\n",
    "        nums.append(remainder)\n",
    "        num = num//10\n",
    "    nums.sort()\n",
    "    for i in range(len(nums)):\n",
    "        if i % 2 == 0:\n",
    "            a = a*10 + nums[i]\n",
    "        else:\n",
    "            b = b*10 + nums[i]\n",
    "    return a+b"
   ]
  },
  {
   "cell_type": "code",
   "execution_count": 28,
   "id": "caeed6a1",
   "metadata": {},
   "outputs": [
    {
     "data": {
      "text/plain": [
       "52"
      ]
     },
     "execution_count": 28,
     "metadata": {},
     "output_type": "execute_result"
    }
   ],
   "source": [
    "minimumSum(ex_num)"
   ]
  },
  {
   "cell_type": "code",
   "execution_count": null,
   "id": "142609aa",
   "metadata": {},
   "outputs": [],
   "source": []
  }
 ],
 "metadata": {
  "kernelspec": {
   "display_name": "Python 3 (ipykernel)",
   "language": "python",
   "name": "python3"
  },
  "language_info": {
   "codemirror_mode": {
    "name": "ipython",
    "version": 3
   },
   "file_extension": ".py",
   "mimetype": "text/x-python",
   "name": "python",
   "nbconvert_exporter": "python",
   "pygments_lexer": "ipython3",
   "version": "3.9.7"
  }
 },
 "nbformat": 4,
 "nbformat_minor": 5
}
