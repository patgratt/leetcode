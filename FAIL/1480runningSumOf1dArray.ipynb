{
 "cells": [
  {
   "cell_type": "code",
   "execution_count": 4,
   "id": "96167f75",
   "metadata": {},
   "outputs": [],
   "source": [
    "ex = [1,2,3,4]"
   ]
  },
  {
   "cell_type": "code",
   "execution_count": 5,
   "id": "232dea8c",
   "metadata": {},
   "outputs": [
    {
     "data": {
      "text/plain": [
       "[1, 2, 3, 4]"
      ]
     },
     "execution_count": 5,
     "metadata": {},
     "output_type": "execute_result"
    }
   ],
   "source": [
    "# failed attempt 1\n",
    "\n",
    "def runningSum(nums):\n",
    "    for i, a in enumerate(nums):\n",
    "        return nums + nums[:i:]\n",
    "\n",
    "runningSum(ex)"
   ]
  },
  {
   "cell_type": "code",
   "execution_count": 2,
   "id": "9b94585e",
   "metadata": {},
   "outputs": [
    {
     "ename": "NameError",
     "evalue": "name 'ex' is not defined",
     "output_type": "error",
     "traceback": [
      "\u001b[0;31m---------------------------------------------------------------------------\u001b[0m",
      "\u001b[0;31mNameError\u001b[0m                                 Traceback (most recent call last)",
      "\u001b[1;32m/Users/patrickburke/repos/leetcode/FAIL/1480runningSumOf1dArray.ipynb Cell 4'\u001b[0m in \u001b[0;36m<cell line: 7>\u001b[0;34m()\u001b[0m\n\u001b[1;32m      <a href='vscode-notebook-cell:/Users/patrickburke/repos/leetcode/FAIL/1480runningSumOf1dArray.ipynb#ch0000004?line=3'>4</a>\u001b[0m \u001b[39mdef\u001b[39;00m \u001b[39mrunningSum1\u001b[39m(nums):\n\u001b[1;32m      <a href='vscode-notebook-cell:/Users/patrickburke/repos/leetcode/FAIL/1480runningSumOf1dArray.ipynb#ch0000004?line=4'>5</a>\u001b[0m     \u001b[39mreturn\u001b[39;00m \u001b[39mlist\u001b[39m(accumulate(nums))\n\u001b[0;32m----> <a href='vscode-notebook-cell:/Users/patrickburke/repos/leetcode/FAIL/1480runningSumOf1dArray.ipynb#ch0000004?line=6'>7</a>\u001b[0m runningSum1(ex)\n",
      "\u001b[0;31mNameError\u001b[0m: name 'ex' is not defined"
     ]
    }
   ],
   "source": [
    "# here's the easy solution\n",
    "\n",
    "from itertools import accumulate\n",
    "\n",
    "def runningSum1(nums):\n",
    "    return list(accumulate(nums))\n",
    "\n",
    "runningSum1(ex)"
   ]
  },
  {
   "cell_type": "code",
   "execution_count": 6,
   "id": "210b52e5",
   "metadata": {},
   "outputs": [
    {
     "data": {
      "text/plain": [
       "[1, 3, 6, 10]"
      ]
     },
     "execution_count": 6,
     "metadata": {},
     "output_type": "execute_result"
    }
   ],
   "source": [
    "#here's where I was trying to go\n",
    "\n",
    "def runningSum2(nums):\n",
    "    return [sum(nums[:i+1]) for i in range(len(nums))]\n",
    "\n",
    "runningSum2(ex)"
   ]
  },
  {
   "cell_type": "code",
   "execution_count": 37,
   "id": "7604bad7",
   "metadata": {},
   "outputs": [
    {
     "data": {
      "text/plain": [
       "[1, 3, 6, 10]"
      ]
     },
     "execution_count": 37,
     "metadata": {},
     "output_type": "execute_result"
    }
   ],
   "source": [
    "# sub optimal but correct solution I used on attempt 2\n",
    "def runningSum(nums):\n",
    "    return [sum(nums[:i]) for i in range(1,len(nums)+1)]"
   ]
  }
 ],
 "metadata": {
  "kernelspec": {
   "display_name": "Python 3.9.12 ('base')",
   "language": "python",
   "name": "python3"
  },
  "language_info": {
   "codemirror_mode": {
    "name": "ipython",
    "version": 3
   },
   "file_extension": ".py",
   "mimetype": "text/x-python",
   "name": "python",
   "nbconvert_exporter": "python",
   "pygments_lexer": "ipython3",
   "version": "3.9.12"
  },
  "vscode": {
   "interpreter": {
    "hash": "40203b3ec892d21f304b904bd7441b754322a8b95cad2515f623282baa87ac4b"
   }
  }
 },
 "nbformat": 4,
 "nbformat_minor": 5
}
