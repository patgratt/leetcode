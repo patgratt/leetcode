{
 "cells": [
  {
   "cell_type": "code",
   "execution_count": 2,
   "id": "5dc8db9d",
   "metadata": {},
   "outputs": [],
   "source": [
    "ex_nums = [2,5,1,3,4,7]\n",
    "ex_n = 3"
   ]
  },
  {
   "cell_type": "code",
   "execution_count": 12,
   "id": "ca9ae91e",
   "metadata": {},
   "outputs": [
    {
     "ename": "SyntaxError",
     "evalue": "invalid syntax (4265129953.py, line 3)",
     "output_type": "error",
     "traceback": [
      "\u001b[0;36m  File \u001b[0;32m\"/var/folders/fm/gcl3hqzd4ws6jd6kbrxyt48c0000gn/T/ipykernel_68945/4265129953.py\"\u001b[0;36m, line \u001b[0;32m3\u001b[0m\n\u001b[0;31m    result.append(nums[i]) for i in range(0,n,2):\u001b[0m\n\u001b[0m                           ^\u001b[0m\n\u001b[0;31mSyntaxError\u001b[0m\u001b[0;31m:\u001b[0m invalid syntax\n"
     ]
    }
   ],
   "source": [
    "def shuffle(nums,n):\n",
    "    result = []\n",
    "    result.append(nums[i]) for i in range(0,n,2):\n",
    "        return result     "
   ]
  },
  {
   "cell_type": "code",
   "execution_count": 11,
   "id": "ee7d9745",
   "metadata": {},
   "outputs": [
    {
     "data": {
      "text/plain": [
       "[[2, 5, 1, 3, 4, 7], [2, 5, 1, 3, 4, 7]]"
      ]
     },
     "execution_count": 11,
     "metadata": {},
     "output_type": "execute_result"
    }
   ],
   "source": [
    "shuffle(ex_nums,ex_n)\n",
    "#FAIL"
   ]
  },
  {
   "cell_type": "code",
   "execution_count": 16,
   "id": "694ac9b9",
   "metadata": {},
   "outputs": [],
   "source": [
    "#here's a cool way of using a while loop\n",
    "def shuffle1(nums,n):\n",
    "    i = 0\n",
    "    j = len(nums)//2\n",
    "    answer = []\n",
    "    while i < len(nums)//2:\n",
    "        answer.append(nums[i])\n",
    "        answer.append(nums[j])\n",
    "        i += 1\n",
    "        j += 1\n",
    "    return answer"
   ]
  },
  {
   "cell_type": "code",
   "execution_count": 17,
   "id": "8bb501bc",
   "metadata": {},
   "outputs": [],
   "source": [
    "#here's what I was trying to do\n",
    "def shuffle2(nums,n):\n",
    "    result= []\n",
    "    for i in range(n):\n",
    "        result.append(nums[i])\n",
    "        result.append(nums[n +i])\n",
    "    return result"
   ]
  },
  {
   "cell_type": "code",
   "execution_count": 18,
   "id": "40d076b3",
   "metadata": {},
   "outputs": [
    {
     "data": {
      "text/plain": [
       "[2, 3, 5, 4, 1, 7]"
      ]
     },
     "execution_count": 18,
     "metadata": {},
     "output_type": "execute_result"
    }
   ],
   "source": [
    "shuffle1(ex_nums,ex_n)"
   ]
  },
  {
   "cell_type": "code",
   "execution_count": 19,
   "id": "dc8775c4",
   "metadata": {},
   "outputs": [
    {
     "data": {
      "text/plain": [
       "[2, 3, 5, 4, 1, 7]"
      ]
     },
     "execution_count": 19,
     "metadata": {},
     "output_type": "execute_result"
    }
   ],
   "source": [
    "shuffle2(ex_nums,ex_n)"
   ]
  }
 ],
 "metadata": {
  "kernelspec": {
   "display_name": "Python 3 (ipykernel)",
   "language": "python",
   "name": "python3"
  },
  "language_info": {
   "codemirror_mode": {
    "name": "ipython",
    "version": 3
   },
   "file_extension": ".py",
   "mimetype": "text/x-python",
   "name": "python",
   "nbconvert_exporter": "python",
   "pygments_lexer": "ipython3",
   "version": "3.9.7"
  }
 },
 "nbformat": 4,
 "nbformat_minor": 5
}
