{
 "cells": [
  {
   "cell_type": "code",
   "execution_count": 1,
   "metadata": {},
   "outputs": [],
   "source": [
    "from typing import List\n",
    "# O(n^2) brute force solution with constant extra space, times out on leetcode\n",
    "\n",
    "def findDuplicate(self, nums: List[int]) -> int:\n",
    "    for x in nums:\n",
    "        cnt = 0\n",
    "        for y in nums:\n",
    "            if y == x:\n",
    "                cnt += 1\n",
    "                if cnt == 2:\n",
    "                    return y"
   ]
  },
  {
   "cell_type": "code",
   "execution_count": null,
   "metadata": {},
   "outputs": [],
   "source": [
    "# neetcode - this is a linked list cycle problem, we use Floyd's Tortoise and Hare Algorithm \n",
    "\n",
    "def findDuplicate(self, nums: List[int]) -> int:\n",
    "    slow, fast = 0, 0\n",
    "    \n",
    "    # find the first position that the two pointers intersect at\n",
    "    while True:\n",
    "        # point slow pointer at i = slow\n",
    "        slow = nums[slow]\n",
    "        # point fast pointer two ahead\n",
    "        fast = nums[nums[fast]]\n",
    "        if slow == fast:\n",
    "            break\n",
    "    \n",
    "    # now that we have that intersect position, start slow2 at head\n",
    "    slow2 = 0\n",
    "    while True:\n",
    "        # move both over one at a time\n",
    "        slow = nums[slow]\n",
    "        slow2 = nums[slow2]\n",
    "        # intersect position will be the node that has two pointers pointed at it (start of cylce) which is the duplicate\n",
    "        if slow == slow2:\n",
    "            return slow\n"
   ]
  }
 ],
 "metadata": {
  "kernelspec": {
   "display_name": "Python 3.10.6 64-bit",
   "language": "python",
   "name": "python3"
  },
  "language_info": {
   "codemirror_mode": {
    "name": "ipython",
    "version": 3
   },
   "file_extension": ".py",
   "mimetype": "text/x-python",
   "name": "python",
   "nbconvert_exporter": "python",
   "pygments_lexer": "ipython3",
   "version": "3.10.6"
  },
  "orig_nbformat": 4,
  "vscode": {
   "interpreter": {
    "hash": "767d51c1340bd893661ea55ea3124f6de3c7a262a8b4abca0554b478b1e2ff90"
   }
  }
 },
 "nbformat": 4,
 "nbformat_minor": 2
}
