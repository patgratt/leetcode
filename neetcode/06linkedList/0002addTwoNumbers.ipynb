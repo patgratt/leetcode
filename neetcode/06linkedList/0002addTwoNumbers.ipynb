{
 "cells": [
  {
   "cell_type": "code",
   "execution_count": 4,
   "metadata": {},
   "outputs": [],
   "source": [
    "# Definition for singly-linked list.\n",
    "class ListNode:\n",
    "    def __init__(self, val=0, next=None):\n",
    "        self.val = val\n",
    "        self.next = next\n",
    "\n",
    "    def push(self, val):\n",
    "        newhead = ListNode(val=val)\n",
    "        newhead.next = self\n",
    "        self = newhead\n",
    "        return self\n",
    "    \n",
    "    def printlist(self):\n",
    "        temp = self\n",
    "        output = []\n",
    "        while temp:\n",
    "            output.append(temp.val)\n",
    "            temp = temp.next\n",
    "        return output\n",
    "\n",
    "from typing import Optional"
   ]
  },
  {
   "cell_type": "code",
   "execution_count": 6,
   "metadata": {},
   "outputs": [
    {
     "name": "stdout",
     "output_type": "stream",
     "text": [
      "[2, 4, 3]\n",
      "[5, 6, 4]\n"
     ]
    }
   ],
   "source": [
    "# testcase\n",
    "l1 = ListNode(3)\n",
    "l1 = l1.push(4)\n",
    "l1 = l1.push(2)\n",
    "\n",
    "l2 = ListNode(4)\n",
    "l2 = l2.push(6)\n",
    "l2 = l2.push(5)\n",
    "\n",
    "print(l1.printlist())\n",
    "print(l2.printlist())"
   ]
  },
  {
   "cell_type": "code",
   "execution_count": 11,
   "metadata": {},
   "outputs": [],
   "source": [
    "# my solution (typecasting to string)\n",
    "\n",
    "def addTwoNumbers(l1: Optional[ListNode], l2: Optional[ListNode]) -> Optional[ListNode]:\n",
    "    num1, num2 = '', ''\n",
    "    a, b = l1, l2\n",
    "\n",
    "    # iterate thru linked lists and records numbers as string\n",
    "    while a or b:\n",
    "        if a:\n",
    "            num1 += str(a.val)\n",
    "            a = a.next\n",
    "        if b:\n",
    "            num2 += str(b.val)\n",
    "            b = b.next\n",
    "    # reverse numbers\n",
    "    num1, num2 = int(num1[::-1]), int(num2[::-1])\n",
    "    # get sum, then reverse back for output\n",
    "    resNum = str(num1 + num2)[::-1]\n",
    "\n",
    "    # create headnode for output list\n",
    "    l3 = ListNode(val=int(resNum[0]))\n",
    "    c = l3 # pointer to build output list\n",
    "    # iterate thru digits of ouput number and build nodes\n",
    "    for digit in resNum[1:]:    \n",
    "        c.next = ListNode(val=int(digit))\n",
    "        c = c.next\n",
    "    return l3"
   ]
  },
  {
   "cell_type": "code",
   "execution_count": 12,
   "metadata": {},
   "outputs": [],
   "source": [
    "# neetcode / leetcode official (elementary math)\n",
    "\n",
    "def addTwoNumbers(l1: Optional[ListNode], l2: Optional[ListNode]) -> Optional[ListNode]:\n",
    "    dummy = ListNode()\n",
    "    cur = dummy\n",
    "\n",
    "    carry = 0\n",
    "    while l1 or l2 or carry:\n",
    "        v1 = l1.val if l1 else 0\n",
    "        v2 = l2.val if l2 else 0\n",
    "\n",
    "        # new digit\n",
    "        val = v1 + v2 + carry\n",
    "        carry = val // 10\n",
    "        val = val % 10\n",
    "        cur.next = ListNode(val)\n",
    "\n",
    "        # update ptrs\n",
    "        cur = cur.next\n",
    "        l1 = l1.next if l1 else None\n",
    "        l2 = l2.next if l2 else None\n",
    "    \n",
    "    return dummy.next"
   ]
  }
 ],
 "metadata": {
  "kernelspec": {
   "display_name": "Python 3.10.6 64-bit",
   "language": "python",
   "name": "python3"
  },
  "language_info": {
   "codemirror_mode": {
    "name": "ipython",
    "version": 3
   },
   "file_extension": ".py",
   "mimetype": "text/x-python",
   "name": "python",
   "nbconvert_exporter": "python",
   "pygments_lexer": "ipython3",
   "version": "3.10.6"
  },
  "orig_nbformat": 4,
  "vscode": {
   "interpreter": {
    "hash": "767d51c1340bd893661ea55ea3124f6de3c7a262a8b4abca0554b478b1e2ff90"
   }
  }
 },
 "nbformat": 4,
 "nbformat_minor": 2
}
