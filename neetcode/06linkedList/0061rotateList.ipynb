{
 "cells": [
  {
   "cell_type": "code",
   "execution_count": 1,
   "metadata": {},
   "outputs": [
    {
     "ename": "NameError",
     "evalue": "name 'Optional' is not defined",
     "output_type": "error",
     "traceback": [
      "\u001b[0;31m---------------------------------------------------------------------------\u001b[0m",
      "\u001b[0;31mNameError\u001b[0m                                 Traceback (most recent call last)",
      "Cell \u001b[0;32mIn [1], line 3\u001b[0m\n\u001b[1;32m      1\u001b[0m \u001b[39m# neetcode\u001b[39;00m\n\u001b[0;32m----> 3\u001b[0m \u001b[39mclass\u001b[39;00m \u001b[39mSolution\u001b[39;00m:\n\u001b[1;32m      4\u001b[0m     \u001b[39mdef\u001b[39;00m \u001b[39mrotateRight\u001b[39m(\u001b[39mself\u001b[39m, head: Optional[ListNode], k: \u001b[39mint\u001b[39m) \u001b[39m-\u001b[39m\u001b[39m>\u001b[39m Optional[ListNode]:\n\u001b[1;32m      5\u001b[0m         \u001b[39mif\u001b[39;00m \u001b[39mnot\u001b[39;00m head \u001b[39mor\u001b[39;00m \u001b[39mnot\u001b[39;00m head\u001b[39m.\u001b[39mnext \u001b[39mor\u001b[39;00m k \u001b[39m==\u001b[39m \u001b[39m0\u001b[39m:\n",
      "Cell \u001b[0;32mIn [1], line 4\u001b[0m, in \u001b[0;36mSolution\u001b[0;34m()\u001b[0m\n\u001b[1;32m      3\u001b[0m \u001b[39mclass\u001b[39;00m \u001b[39mSolution\u001b[39;00m:\n\u001b[0;32m----> 4\u001b[0m     \u001b[39mdef\u001b[39;00m \u001b[39mrotateRight\u001b[39m(\u001b[39mself\u001b[39m, head: Optional[ListNode], k: \u001b[39mint\u001b[39m) \u001b[39m-\u001b[39m\u001b[39m>\u001b[39m Optional[ListNode]:\n\u001b[1;32m      5\u001b[0m         \u001b[39mif\u001b[39;00m \u001b[39mnot\u001b[39;00m head \u001b[39mor\u001b[39;00m \u001b[39mnot\u001b[39;00m head\u001b[39m.\u001b[39mnext \u001b[39mor\u001b[39;00m k \u001b[39m==\u001b[39m \u001b[39m0\u001b[39m:\n\u001b[1;32m      6\u001b[0m             \u001b[39mreturn\u001b[39;00m head\n",
      "\u001b[0;31mNameError\u001b[0m: name 'Optional' is not defined"
     ]
    }
   ],
   "source": [
    "# neetcode\n",
    "\n",
    "class Solution:\n",
    "    def rotateRight(self, head: Optional[ListNode], k: int) -> Optional[ListNode]:\n",
    "        if not head or not head.next or k == 0:\n",
    "            return head\n",
    "\n",
    "        old_head = head\n",
    "\n",
    "        curr, size = head, 0\n",
    "        while curr:\n",
    "            curr, size = curr.next, size + 1\n",
    "\n",
    "        if k % size == 0:\n",
    "            return head\n",
    "\n",
    "        k %= size\n",
    "        slow = fast = head\n",
    "        while fast and fast.next:\n",
    "            if k <= 0:\n",
    "                slow = slow.next\n",
    "            fast = fast.next\n",
    "            k -= 1\n",
    "\n",
    "        new_tail, new_head, old_tail = slow, slow.next, fast\n",
    "        new_tail.next, old_tail.next = None, old_head\n",
    "\n",
    "        return new_head"
   ]
  }
 ],
 "metadata": {
  "kernelspec": {
   "display_name": "Python 3",
   "language": "python",
   "name": "python3"
  },
  "language_info": {
   "codemirror_mode": {
    "name": "ipython",
    "version": 3
   },
   "file_extension": ".py",
   "mimetype": "text/x-python",
   "name": "python",
   "nbconvert_exporter": "python",
   "pygments_lexer": "ipython3",
   "version": "3.10.6"
  },
  "orig_nbformat": 4,
  "vscode": {
   "interpreter": {
    "hash": "767d51c1340bd893661ea55ea3124f6de3c7a262a8b4abca0554b478b1e2ff90"
   }
  }
 },
 "nbformat": 4,
 "nbformat_minor": 2
}
