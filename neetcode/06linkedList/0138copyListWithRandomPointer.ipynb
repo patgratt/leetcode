{
 "cells": [
  {
   "cell_type": "code",
   "execution_count": 1,
   "metadata": {},
   "outputs": [],
   "source": [
    "# Definition for a Node.\n",
    "class Node:\n",
    "    def __init__(self, x: int, next: 'Node' = None, random: 'Node' = None):\n",
    "        self.val = int(x)\n",
    "        self.next = next\n",
    "        self.random = random"
   ]
  },
  {
   "cell_type": "code",
   "execution_count": null,
   "metadata": {},
   "outputs": [],
   "source": [
    "# neetcode\n",
    "\n",
    "def copyRandomList(head):\n",
    "    oldToCopy = { None : None }\n",
    "\n",
    "    # first pass\n",
    "    cur = head\n",
    "    while cur:\n",
    "        copy = Node(cur.val) # create copy nodes\n",
    "        oldToCopy[cur] = copy # map old nodes to new copy nodes\n",
    "        cur = cur.next\n",
    "\n",
    "    cur = head\n",
    "    while cur:\n",
    "        copy = oldToCopy[cur] # get copied node\n",
    "        copy.next = oldToCopy[cur.next] # set next pointer of new node\n",
    "        copy.random = oldToCopy[cur.random] # set rand pointer of new node\n",
    "        cur = cur.next\n",
    "\n",
    "    return oldToCopy[head]"
   ]
  }
 ],
 "metadata": {
  "kernelspec": {
   "display_name": "Python 3.10.6 64-bit",
   "language": "python",
   "name": "python3"
  },
  "language_info": {
   "codemirror_mode": {
    "name": "ipython",
    "version": 3
   },
   "file_extension": ".py",
   "mimetype": "text/x-python",
   "name": "python",
   "nbconvert_exporter": "python",
   "pygments_lexer": "ipython3",
   "version": "3.10.6"
  },
  "orig_nbformat": 4,
  "vscode": {
   "interpreter": {
    "hash": "e7370f93d1d0cde622a1f8e1c04877d8463912d04d973331ad4851f04de6915a"
   }
  }
 },
 "nbformat": 4,
 "nbformat_minor": 2
}
