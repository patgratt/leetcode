{
 "cells": [
  {
   "cell_type": "code",
   "execution_count": 1,
   "metadata": {},
   "outputs": [],
   "source": [
    "# my solution - brute force TC: O(n) SC: O(1)\n",
    "\n",
    "def arrangeCoins(n: int) -> int:\n",
    "        # track row count and row value\n",
    "        row = 0\n",
    "\n",
    "        while row <= n:\n",
    "            n -= row\n",
    "            if row + 1 <= n:\n",
    "                row += 1\n",
    "\n",
    "        return row"
   ]
  },
  {
   "cell_type": "code",
   "execution_count": 2,
   "metadata": {},
   "outputs": [],
   "source": [
    "# gauss's summation - technically O(1) solution by just plugging into this formula\n",
    "\n",
    "def arrangeCoins(n: int) -> int:\n",
    "    return (int)((2 * n + 0.25)**0.5 - 0.5)"
   ]
  },
  {
   "cell_type": "code",
   "execution_count": 3,
   "metadata": {},
   "outputs": [],
   "source": [
    "# binary search solution - also uses gauss's summation without solving for the rows but rather updating a guess about the rows\n",
    "\n",
    "def arrangeCoins(n: int) -> int:\n",
    "    \n",
    "    left, right = 0, n\n",
    "    while left <= right:\n",
    "        k = (right + left) // 2\n",
    "        curr = k * (k + 1) // 2\n",
    "        if curr == n:\n",
    "            return k\n",
    "        if n < curr:\n",
    "            right = k - 1\n",
    "        else:\n",
    "            left = k + 1\n",
    "    return right"
   ]
  }
 ],
 "metadata": {
  "kernelspec": {
   "display_name": "Python 3.10.6 64-bit",
   "language": "python",
   "name": "python3"
  },
  "language_info": {
   "codemirror_mode": {
    "name": "ipython",
    "version": 3
   },
   "file_extension": ".py",
   "mimetype": "text/x-python",
   "name": "python",
   "nbconvert_exporter": "python",
   "pygments_lexer": "ipython3",
   "version": "3.10.6"
  },
  "orig_nbformat": 4,
  "vscode": {
   "interpreter": {
    "hash": "767d51c1340bd893661ea55ea3124f6de3c7a262a8b4abca0554b478b1e2ff90"
   }
  }
 },
 "nbformat": 4,
 "nbformat_minor": 2
}
