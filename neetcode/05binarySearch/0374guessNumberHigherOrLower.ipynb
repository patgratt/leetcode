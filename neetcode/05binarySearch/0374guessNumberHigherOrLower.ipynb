{
 "cells": [
  {
   "cell_type": "code",
   "execution_count": 2,
   "metadata": {},
   "outputs": [],
   "source": [
    "# my solution\n",
    "\n",
    "def guessNumber(self, n: int) -> int:\n",
    "    l = 1\n",
    "    r = n\n",
    "    \n",
    "    while l <= r:\n",
    "        mid = (l + r) // 2\n",
    "        if guess(mid) == -1:\n",
    "            r = mid - 1\n",
    "        elif guess(mid) == 1:\n",
    "            l = mid + 1\n",
    "        else:\n",
    "            return mid"
   ]
  }
 ],
 "metadata": {
  "kernelspec": {
   "display_name": "Python 3.10.6 64-bit",
   "language": "python",
   "name": "python3"
  },
  "language_info": {
   "codemirror_mode": {
    "name": "ipython",
    "version": 3
   },
   "file_extension": ".py",
   "mimetype": "text/x-python",
   "name": "python",
   "nbconvert_exporter": "python",
   "pygments_lexer": "ipython3",
   "version": "3.10.6"
  },
  "orig_nbformat": 4,
  "vscode": {
   "interpreter": {
    "hash": "767d51c1340bd893661ea55ea3124f6de3c7a262a8b4abca0554b478b1e2ff90"
   }
  }
 },
 "nbformat": 4,
 "nbformat_minor": 2
}
