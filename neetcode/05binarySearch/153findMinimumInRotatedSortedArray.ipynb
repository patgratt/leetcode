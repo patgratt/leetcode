{
 "cells": [
  {
   "cell_type": "code",
   "execution_count": 1,
   "metadata": {},
   "outputs": [],
   "source": [
    "def findMin(nums):\n",
    "\n",
    "    l , r = 0, len(nums) - 1\n",
    "    curr_min = float(\"inf\")\n",
    "\n",
    "    while l < r:\n",
    "        \n",
    "        m = (l + r) // 2\n",
    "        curr_min = min(curr_min, nums[m])\n",
    "\n",
    "        # right has min\n",
    "        if nums[m] > nums[r]:\n",
    "            l + m + 1\n",
    "\n",
    "        # left has min\n",
    "        else:\n",
    "            r = m - 1\n",
    "\n",
    "    return min(curr_min, nums[l])"
   ]
  }
 ],
 "metadata": {
  "kernelspec": {
   "display_name": "Python 3",
   "language": "python",
   "name": "python3"
  },
  "language_info": {
   "codemirror_mode": {
    "name": "ipython",
    "version": 3
   },
   "file_extension": ".py",
   "mimetype": "text/x-python",
   "name": "python",
   "nbconvert_exporter": "python",
   "pygments_lexer": "ipython3",
   "version": "3.10.6"
  },
  "orig_nbformat": 4,
  "vscode": {
   "interpreter": {
    "hash": "767d51c1340bd893661ea55ea3124f6de3c7a262a8b4abca0554b478b1e2ff90"
   }
  }
 },
 "nbformat": 4,
 "nbformat_minor": 2
}
