{
 "cells": [
  {
   "cell_type": "code",
   "execution_count": 1,
   "metadata": {},
   "outputs": [],
   "source": [
    "# my solution - random lucky guess \n",
    "\n",
    "def rearrangeArray(self, nums: list[int]) -> list[int]:\n",
    "\n",
    "    nums.sort()\n",
    "\n",
    "    for i in range(1, len(nums), 2):\n",
    "        nums[i], nums[i-1] = nums[i-1], nums[i]\n",
    "    \n",
    "    return nums\n"
   ]
  },
  {
   "cell_type": "code",
   "execution_count": 2,
   "metadata": {},
   "outputs": [],
   "source": [
    "# neetcode\n",
    "\n",
    "def rearrangeArray(self, nums: list[int]) -> list[int]:\n",
    "\n",
    "    nums.sort()\n",
    "    res = []\n",
    "\n",
    "    l, r = 0, len(nums) - 1\n",
    "    while len(res) != len(nums):\n",
    "        res.append(nums[l])\n",
    "        l += 1\n",
    "\n",
    "        if l <= r:\n",
    "            res.append(nums[r])\n",
    "            r -= 1\n",
    "    return res"
   ]
  }
 ],
 "metadata": {
  "kernelspec": {
   "display_name": "Python 3",
   "language": "python",
   "name": "python3"
  },
  "language_info": {
   "codemirror_mode": {
    "name": "ipython",
    "version": 3
   },
   "file_extension": ".py",
   "mimetype": "text/x-python",
   "name": "python",
   "nbconvert_exporter": "python",
   "pygments_lexer": "ipython3",
   "version": "3.10.6"
  },
  "orig_nbformat": 4,
  "vscode": {
   "interpreter": {
    "hash": "767d51c1340bd893661ea55ea3124f6de3c7a262a8b4abca0554b478b1e2ff90"
   }
  }
 },
 "nbformat": 4,
 "nbformat_minor": 2
}
