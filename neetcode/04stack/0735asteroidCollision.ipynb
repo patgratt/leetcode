{
 "cells": [
  {
   "cell_type": "code",
   "execution_count": 1,
   "metadata": {},
   "outputs": [],
   "source": [
    "# neetcode\n",
    "\n",
    "def asteroidCollision(asteroids):\n",
    "    stack = []\n",
    "\n",
    "    for x in asteroids:\n",
    "        # we have asteroids moving right, and x is moving left\n",
    "        while stack and x < 0 and stack[-1] > 0:\n",
    "            diff = x + stack[-1]\n",
    "            if diff < 0: # x destroys top of stack\n",
    "                stack.pop()\n",
    "            elif diff > 0: # x gets destroyed\n",
    "                x = 0\n",
    "            else: # cancel each other out\n",
    "                x = 0\n",
    "                stack.pop()\n",
    "        \n",
    "        if x: # x didn't get destroyed\n",
    "            stack.append(x)\n",
    "    \n",
    "    return stack"
   ]
  }
 ],
 "metadata": {
  "kernelspec": {
   "display_name": "Python 3.10.6 64-bit",
   "language": "python",
   "name": "python3"
  },
  "language_info": {
   "codemirror_mode": {
    "name": "ipython",
    "version": 3
   },
   "file_extension": ".py",
   "mimetype": "text/x-python",
   "name": "python",
   "nbconvert_exporter": "python",
   "pygments_lexer": "ipython3",
   "version": "3.10.6"
  },
  "orig_nbformat": 4,
  "vscode": {
   "interpreter": {
    "hash": "767d51c1340bd893661ea55ea3124f6de3c7a262a8b4abca0554b478b1e2ff90"
   }
  }
 },
 "nbformat": 4,
 "nbformat_minor": 2
}
