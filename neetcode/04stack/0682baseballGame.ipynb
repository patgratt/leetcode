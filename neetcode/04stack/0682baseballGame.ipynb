{
 "cells": [
  {
   "cell_type": "code",
   "execution_count": 1,
   "metadata": {},
   "outputs": [],
   "source": [
    "# my solution\n",
    "from typing import List\n",
    "\n",
    "def calPoints(self, operations: List[str]) -> int:\n",
    "    stack = []\n",
    "\n",
    "    for x in operations:\n",
    "        if x.strip(\"-\").isnumeric():\n",
    "            stack.append(int(x))\n",
    "        elif x == '+':\n",
    "            stack.append(stack[-1] + stack[-2])\n",
    "        elif x == 'C':\n",
    "            stack.pop()\n",
    "        elif x == 'D':\n",
    "            stack.append(stack[-1]*2)\n",
    "\n",
    "    return sum(stack)"
   ]
  }
 ],
 "metadata": {
  "kernelspec": {
   "display_name": "Python 3.10.6 64-bit",
   "language": "python",
   "name": "python3"
  },
  "language_info": {
   "codemirror_mode": {
    "name": "ipython",
    "version": 3
   },
   "file_extension": ".py",
   "mimetype": "text/x-python",
   "name": "python",
   "nbconvert_exporter": "python",
   "pygments_lexer": "ipython3",
   "version": "3.10.6"
  },
  "orig_nbformat": 4,
  "vscode": {
   "interpreter": {
    "hash": "767d51c1340bd893661ea55ea3124f6de3c7a262a8b4abca0554b478b1e2ff90"
   }
  }
 },
 "nbformat": 4,
 "nbformat_minor": 2
}
