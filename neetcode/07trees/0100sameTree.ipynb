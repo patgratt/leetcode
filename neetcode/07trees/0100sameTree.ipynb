{
 "cells": [
  {
   "cell_type": "code",
   "execution_count": null,
   "metadata": {},
   "outputs": [],
   "source": [
    "def sameTree(self, p, q):\n",
    "        if not p and not q:\n",
    "            return False\n",
    "        if p and q and p.val == q.val:\n",
    "            return self.sameTree(p.left, q.left) and self.sameTree(p.right, q.right)\n",
    "        else:\n",
    "            return False"
   ]
  }
 ],
 "metadata": {
  "kernelspec": {
   "display_name": "Python 3.10.8 64-bit ('3.10.8')",
   "language": "python",
   "name": "python3"
  },
  "language_info": {
   "name": "python",
   "version": "3.10.8"
  },
  "orig_nbformat": 4,
  "vscode": {
   "interpreter": {
    "hash": "4108d1c23bc857d072854f790b5c68e148f6ec3cedfc6ce1a10a4896d19a268a"
   }
  }
 },
 "nbformat": 4,
 "nbformat_minor": 2
}
