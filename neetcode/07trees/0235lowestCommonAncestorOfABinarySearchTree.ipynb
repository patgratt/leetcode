{
 "cells": [
  {
   "cell_type": "code",
   "execution_count": null,
   "metadata": {},
   "outputs": [],
   "source": [
    "# Definition for a binary tree node.\n",
    "class TreeNode:\n",
    "    def __init__(self, x):\n",
    "        self.val = x\n",
    "        self.left = None\n",
    "        self.right = None"
   ]
  },
  {
   "cell_type": "code",
   "execution_count": null,
   "metadata": {},
   "outputs": [],
   "source": [
    "# recursive\n",
    "\n",
    "class Solution:\n",
    "    def lowestCommonAncestor(self, root: 'TreeNode', p: 'TreeNode', q: 'TreeNode') -> 'TreeNode':\n",
    "\n",
    "        cur = root.val\n",
    "        p_val = p.val\n",
    "        q_val = q.val\n",
    "        \n",
    "        # if both p and q are greater than cur, traverse right\n",
    "        if p_val > cur and q_val > cur:\n",
    "            return self.lowestCommonAncestor(root.right, p, q)\n",
    "        # if both p and q are greater than cur, traverse left\n",
    "        if p_val < cur and q_val < cur:\n",
    "            return self.lowestCommonAncestor(root.left, p, q)\n",
    "        # else, cur is in between and thus is LCA\n",
    "        else:\n",
    "            return root"
   ]
  },
  {
   "cell_type": "code",
   "execution_count": null,
   "metadata": {},
   "outputs": [],
   "source": [
    "# iterative\n",
    "\n",
    "class Solution:\n",
    "    def lowestCommonAncestor(\n",
    "        self, root: \"TreeNode\", p: \"TreeNode\", q: \"TreeNode\") -> \"TreeNode\":\n",
    "        cur = root\n",
    "        while cur:\n",
    "            if p.val > cur.val and q.val > cur.val:\n",
    "                cur = cur.right\n",
    "            elif p.val < cur.val and q.val < cur.val:\n",
    "                cur = cur.left\n",
    "            else:\n",
    "                return cur"
   ]
  }
 ],
 "metadata": {
  "language_info": {
   "name": "python"
  },
  "orig_nbformat": 4
 },
 "nbformat": 4,
 "nbformat_minor": 2
}
