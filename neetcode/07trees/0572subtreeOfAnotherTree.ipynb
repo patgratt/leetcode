{
 "cells": [
  {
   "cell_type": "code",
   "execution_count": 3,
   "metadata": {},
   "outputs": [],
   "source": [
    "# neetcode\n",
    "\n",
    "# Definition for a binary tree node.\n",
    "class TreeNode:\n",
    "    def __init__(self, val=0, left=None, right=None):\n",
    "        self.val = val\n",
    "        self.left = left\n",
    "        self.right = right\n",
    "from typing import Optional\n",
    "\n",
    "class Solution:\n",
    "    def isSubtree(self, root: Optional[TreeNode], subRoot: Optional[TreeNode]) -> bool:\n",
    "        # if subtree is empty, then the maintree will always contain this subtree\n",
    "        if not subRoot:\n",
    "            return True\n",
    "        # we already checked if subtree was empty, if it's not empty but the main tree is empty then auto return false\n",
    "        if not root:\n",
    "            return False    \n",
    "        # run helper function\n",
    "        if self.sameTree(root, subRoot):\n",
    "            return True\n",
    "        # recursively call main function while traversing down tree, compare each subtree of main tree to the given subtree\n",
    "        return self.isSubtree(root.left, subRoot) or self.isSubtree(root.right, subRoot)\n",
    "\n",
    "    # helper function from previous problem\n",
    "    def sameTree(self, p, q):\n",
    "        if not p and not q:\n",
    "            return False\n",
    "        if p and q and p.val == q.val:\n",
    "            return self.sameTree(p.left, q.left) and self.sameTree(p.right, q.right)\n",
    "        else:\n",
    "            return False\n"
   ]
  }
 ],
 "metadata": {
  "kernelspec": {
   "display_name": "Python 3.10.8 64-bit ('3.10.8')",
   "language": "python",
   "name": "python3"
  },
  "language_info": {
   "codemirror_mode": {
    "name": "ipython",
    "version": 3
   },
   "file_extension": ".py",
   "mimetype": "text/x-python",
   "name": "python",
   "nbconvert_exporter": "python",
   "pygments_lexer": "ipython3",
   "version": "3.10.8"
  },
  "orig_nbformat": 4,
  "vscode": {
   "interpreter": {
    "hash": "4108d1c23bc857d072854f790b5c68e148f6ec3cedfc6ce1a10a4896d19a268a"
   }
  }
 },
 "nbformat": 4,
 "nbformat_minor": 2
}
