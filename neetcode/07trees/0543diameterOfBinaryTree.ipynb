{
 "cells": [
  {
   "cell_type": "code",
   "execution_count": 4,
   "metadata": {},
   "outputs": [
    {
     "name": "stdout",
     "output_type": "stream",
     "text": [
      "            -> 5\n",
      "        -> 3\n",
      "    -> 2\n",
      "        -> 4\n",
      "            -> 6\n",
      "-> 1\n"
     ]
    }
   ],
   "source": [
    "# Definition for a binary tree node.\n",
    "class TreeNode:\n",
    "    def __init__(self, val=0, left=None, right=None):\n",
    "        self.val = val\n",
    "        self.left = left\n",
    "        self.right = right\n",
    "\n",
    "# function to recursively print tree\n",
    "def printTree(node, level=0):\n",
    "    if node != None:\n",
    "        printTree(node.left, level + 1)\n",
    "        print(' ' * 4 * level + '-> ' + str(node.val))\n",
    "        printTree(node.right, level + 1)\n",
    "\n",
    "\n",
    "# build test case input tree\n",
    "testcase = TreeNode(val=1)\n",
    "\n",
    "testcase.left = TreeNode(val=2)\n",
    "\n",
    "testcase.left.left = TreeNode(val=3)\n",
    "testcase.left.right = TreeNode(val=4)\n",
    "\n",
    "testcase.left.left.left = TreeNode(val=5)\n",
    "testcase.left.right.right = TreeNode(val=6)\n",
    "\n",
    "printTree(testcase)"
   ]
  },
  {
   "cell_type": "code",
   "execution_count": 5,
   "metadata": {},
   "outputs": [
    {
     "data": {
      "text/plain": [
       "4"
      ]
     },
     "execution_count": 5,
     "metadata": {},
     "output_type": "execute_result"
    }
   ],
   "source": [
    "# neetcode video, I don't like this solution at all\n",
    "\n",
    "def diameterOfBinaryTree(root):\n",
    "    res = [0]\n",
    "\n",
    "    def dfs(root):\n",
    "        if not root:\n",
    "            return -1 # height of a null tree = -1, height of single node with no children would be 0\n",
    "        left = dfs(root.left)\n",
    "        right = dfs(root.right)\n",
    "        res[0] = max(res[0], 2 + left + right)\n",
    "\n",
    "        return 1 +  max(left, right)\n",
    "\n",
    "    dfs(root)\n",
    "    return res[0]\n",
    "\n",
    "diameterOfBinaryTree(testcase)"
   ]
  },
  {
   "cell_type": "code",
   "execution_count": 10,
   "metadata": {},
   "outputs": [],
   "source": [
    "# leetcode official solution, much better\n",
    "\n",
    "def diameterOfBinaryTree(root):\n",
    "    diameter = 0\n",
    "\n",
    "    def longest_path(node):\n",
    "        if not node:\n",
    "            return 0\n",
    "        nonlocal diameter\n",
    "        # recursively find the longest path in\n",
    "        # both left child and right child\n",
    "        left_path = longest_path(node.left)\n",
    "        right_path = longest_path(node.right)\n",
    "\n",
    "        # update the diameter if left_path plus right_path is larger\n",
    "        diameter = max(diameter, left_path + right_path)\n",
    "\n",
    "        # return the longest one between left_path and right_path;\n",
    "        # remember to add 1 for the path connecting the node and its parent\n",
    "        return max(left_path, right_path) + 1\n",
    "\n",
    "    longest_path(root)\n",
    "    return diameter"
   ]
  },
  {
   "cell_type": "code",
   "execution_count": 9,
   "metadata": {},
   "outputs": [
    {
     "ename": "UnboundLocalError",
     "evalue": "local variable 'diameter' referenced before assignment",
     "output_type": "error",
     "traceback": [
      "\u001b[0;31m---------------------------------------------------------------------------\u001b[0m",
      "\u001b[0;31mUnboundLocalError\u001b[0m                         Traceback (most recent call last)",
      "Cell \u001b[0;32mIn [9], line 1\u001b[0m\n\u001b[0;32m----> 1\u001b[0m diameterOfBinaryTree(testcase)\n",
      "Cell \u001b[0;32mIn [8], line 22\u001b[0m, in \u001b[0;36mdiameterOfBinaryTree\u001b[0;34m(root)\u001b[0m\n\u001b[1;32m     18\u001b[0m     \u001b[39m# return the longest one between left_path and right_path;\u001b[39;00m\n\u001b[1;32m     19\u001b[0m     \u001b[39m# remember to add 1 for the path connecting the node and its parent\u001b[39;00m\n\u001b[1;32m     20\u001b[0m     \u001b[39mreturn\u001b[39;00m \u001b[39mmax\u001b[39m(left_path, right_path) \u001b[39m+\u001b[39m \u001b[39m1\u001b[39m\n\u001b[0;32m---> 22\u001b[0m longest_path(root)\n\u001b[1;32m     23\u001b[0m \u001b[39mreturn\u001b[39;00m diameter\n",
      "Cell \u001b[0;32mIn [8], line 12\u001b[0m, in \u001b[0;36mdiameterOfBinaryTree.<locals>.longest_path\u001b[0;34m(node)\u001b[0m\n\u001b[1;32m      8\u001b[0m     \u001b[39mreturn\u001b[39;00m \u001b[39m0\u001b[39m\n\u001b[1;32m      9\u001b[0m \u001b[39m# nonlocal diameter\u001b[39;00m\n\u001b[1;32m     10\u001b[0m \u001b[39m# recursively find the longest path in\u001b[39;00m\n\u001b[1;32m     11\u001b[0m \u001b[39m# both left child and right child\u001b[39;00m\n\u001b[0;32m---> 12\u001b[0m left_path \u001b[39m=\u001b[39m longest_path(node\u001b[39m.\u001b[39;49mleft)\n\u001b[1;32m     13\u001b[0m right_path \u001b[39m=\u001b[39m longest_path(node\u001b[39m.\u001b[39mright)\n\u001b[1;32m     15\u001b[0m \u001b[39m# update the diameter if left_path plus right_path is larger\u001b[39;00m\n",
      "Cell \u001b[0;32mIn [8], line 12\u001b[0m, in \u001b[0;36mdiameterOfBinaryTree.<locals>.longest_path\u001b[0;34m(node)\u001b[0m\n\u001b[1;32m      8\u001b[0m     \u001b[39mreturn\u001b[39;00m \u001b[39m0\u001b[39m\n\u001b[1;32m      9\u001b[0m \u001b[39m# nonlocal diameter\u001b[39;00m\n\u001b[1;32m     10\u001b[0m \u001b[39m# recursively find the longest path in\u001b[39;00m\n\u001b[1;32m     11\u001b[0m \u001b[39m# both left child and right child\u001b[39;00m\n\u001b[0;32m---> 12\u001b[0m left_path \u001b[39m=\u001b[39m longest_path(node\u001b[39m.\u001b[39;49mleft)\n\u001b[1;32m     13\u001b[0m right_path \u001b[39m=\u001b[39m longest_path(node\u001b[39m.\u001b[39mright)\n\u001b[1;32m     15\u001b[0m \u001b[39m# update the diameter if left_path plus right_path is larger\u001b[39;00m\n",
      "Cell \u001b[0;32mIn [8], line 12\u001b[0m, in \u001b[0;36mdiameterOfBinaryTree.<locals>.longest_path\u001b[0;34m(node)\u001b[0m\n\u001b[1;32m      8\u001b[0m     \u001b[39mreturn\u001b[39;00m \u001b[39m0\u001b[39m\n\u001b[1;32m      9\u001b[0m \u001b[39m# nonlocal diameter\u001b[39;00m\n\u001b[1;32m     10\u001b[0m \u001b[39m# recursively find the longest path in\u001b[39;00m\n\u001b[1;32m     11\u001b[0m \u001b[39m# both left child and right child\u001b[39;00m\n\u001b[0;32m---> 12\u001b[0m left_path \u001b[39m=\u001b[39m longest_path(node\u001b[39m.\u001b[39;49mleft)\n\u001b[1;32m     13\u001b[0m right_path \u001b[39m=\u001b[39m longest_path(node\u001b[39m.\u001b[39mright)\n\u001b[1;32m     15\u001b[0m \u001b[39m# update the diameter if left_path plus right_path is larger\u001b[39;00m\n",
      "Cell \u001b[0;32mIn [8], line 16\u001b[0m, in \u001b[0;36mdiameterOfBinaryTree.<locals>.longest_path\u001b[0;34m(node)\u001b[0m\n\u001b[1;32m     13\u001b[0m right_path \u001b[39m=\u001b[39m longest_path(node\u001b[39m.\u001b[39mright)\n\u001b[1;32m     15\u001b[0m \u001b[39m# update the diameter if left_path plus right_path is larger\u001b[39;00m\n\u001b[0;32m---> 16\u001b[0m diameter \u001b[39m=\u001b[39m \u001b[39mmax\u001b[39m(diameter, left_path \u001b[39m+\u001b[39m right_path)\n\u001b[1;32m     18\u001b[0m \u001b[39m# return the longest one between left_path and right_path;\u001b[39;00m\n\u001b[1;32m     19\u001b[0m \u001b[39m# remember to add 1 for the path connecting the node and its parent\u001b[39;00m\n\u001b[1;32m     20\u001b[0m \u001b[39mreturn\u001b[39;00m \u001b[39mmax\u001b[39m(left_path, right_path) \u001b[39m+\u001b[39m \u001b[39m1\u001b[39m\n",
      "\u001b[0;31mUnboundLocalError\u001b[0m: local variable 'diameter' referenced before assignment"
     ]
    }
   ],
   "source": [
    "diameterOfBinaryTree(testcase)"
   ]
  },
  {
   "cell_type": "code",
   "execution_count": null,
   "metadata": {},
   "outputs": [],
   "source": []
  }
 ],
 "metadata": {
  "kernelspec": {
   "display_name": "Python 3.10.6 64-bit",
   "language": "python",
   "name": "python3"
  },
  "language_info": {
   "codemirror_mode": {
    "name": "ipython",
    "version": 3
   },
   "file_extension": ".py",
   "mimetype": "text/x-python",
   "name": "python",
   "nbconvert_exporter": "python",
   "pygments_lexer": "ipython3",
   "version": "3.10.6"
  },
  "orig_nbformat": 4,
  "vscode": {
   "interpreter": {
    "hash": "e7370f93d1d0cde622a1f8e1c04877d8463912d04d973331ad4851f04de6915a"
   }
  }
 },
 "nbformat": 4,
 "nbformat_minor": 2
}
