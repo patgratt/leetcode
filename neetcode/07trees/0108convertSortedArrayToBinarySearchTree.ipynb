{
 "cells": [
  {
   "cell_type": "code",
   "execution_count": 2,
   "metadata": {},
   "outputs": [],
   "source": [
    "# Definition for a binary tree node.\n",
    "class TreeNode:\n",
    "    def __init__(self, val=0, left=None, right=None):\n",
    "        self.val = val\n",
    "        self.left = left\n",
    "        self.right = right\n",
    "\n",
    "# Binary Search Tree - for each node, the left child must be lesser, the right child must be greater\n",
    "# Height Balanced - For each root, its sibling will either also be a root or its children will be roots\n",
    "from typing import List, Optional"
   ]
  },
  {
   "cell_type": "code",
   "execution_count": null,
   "metadata": {},
   "outputs": [],
   "source": [
    "# neetcode\n",
    "\n",
    "def sortedArrayToBST(self, nums: List[int]) -> Optional[TreeNode]:\n",
    "    \n",
    "    def helper(l, r):\n",
    "        # base case, pointers have crossed and so we have ran out of values to build with and this subtree is finished\n",
    "        if l > r:\n",
    "            return None\n",
    "\n",
    "        m = (l + r) // 2\n",
    "        root = TreeNode(nums[m])\n",
    "        root.left = helper(l, m - 1) # recursively build left child with values lesser than parent\n",
    "        root.right = helper(m + 1, r) # recursively build right child with values greater than parent\n",
    "        return root\n",
    "    \n",
    "    return helper(0, len(nums) - 1)"
   ]
  }
 ],
 "metadata": {
  "kernelspec": {
   "display_name": "Python 3.10.6 64-bit",
   "language": "python",
   "name": "python3"
  },
  "language_info": {
   "codemirror_mode": {
    "name": "ipython",
    "version": 3
   },
   "file_extension": ".py",
   "mimetype": "text/x-python",
   "name": "python",
   "nbconvert_exporter": "python",
   "pygments_lexer": "ipython3",
   "version": "3.10.6"
  },
  "orig_nbformat": 4,
  "vscode": {
   "interpreter": {
    "hash": "767d51c1340bd893661ea55ea3124f6de3c7a262a8b4abca0554b478b1e2ff90"
   }
  }
 },
 "nbformat": 4,
 "nbformat_minor": 2
}
