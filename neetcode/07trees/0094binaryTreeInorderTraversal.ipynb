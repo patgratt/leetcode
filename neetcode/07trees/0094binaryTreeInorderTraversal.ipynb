{
 "cells": [
  {
   "cell_type": "code",
   "execution_count": 1,
   "metadata": {},
   "outputs": [],
   "source": [
    "# Definition for a binary tree node.\n",
    "class TreeNode:\n",
    "    def __init__(self, val=0, left=None, right=None):\n",
    "        self.val = val\n",
    "        self.left = left\n",
    "        self.right = right\n",
    "\n",
    "# inorder traveral -\n",
    "# - so traverse whole left subtree\n",
    "#       - starts from left leaf (left bottom terminal node) and works its way up to the root while going back down to get the whole left subtree along the way\n",
    "# - then makes it up to root\n",
    "# - then goes thru the whole right subtree\n",
    "\n",
    "# neetcode - RECURSIVE\n",
    "\n",
    "def inorderTraversal(root):\n",
    "    res = []\n",
    "\n",
    "    def traverse(node):\n",
    "        # base case\n",
    "        if not node:\n",
    "            return\n",
    "        traverse(node.left)\n",
    "        res.append(root.val)\n",
    "        traverse(node.right)\n",
    "    \n",
    "    traverse(root)\n",
    "    return res"
   ]
  },
  {
   "cell_type": "code",
   "execution_count": null,
   "metadata": {},
   "outputs": [],
   "source": [
    "# neetcode - ITERATIVE\n",
    "\n",
    "def inorderTraversal(root):\n",
    "    res = []\n",
    "    stack = []\n",
    "    cur = root\n",
    "    while cur or stack:\n",
    "        while cur:\n",
    "            stack.append(cur)\n",
    "            cur = cur.left\n",
    "        cur = stack.pop\n",
    "        res.append(cur.val)\n",
    "        cur = cur.right\n",
    "    return res"
   ]
  }
 ],
 "metadata": {
  "kernelspec": {
   "display_name": "Python 3.10.8 64-bit ('3.10.8')",
   "language": "python",
   "name": "python3"
  },
  "language_info": {
   "codemirror_mode": {
    "name": "ipython",
    "version": 3
   },
   "file_extension": ".py",
   "mimetype": "text/x-python",
   "name": "python",
   "nbconvert_exporter": "python",
   "pygments_lexer": "ipython3",
   "version": "3.10.8"
  },
  "orig_nbformat": 4,
  "vscode": {
   "interpreter": {
    "hash": "4108d1c23bc857d072854f790b5c68e148f6ec3cedfc6ce1a10a4896d19a268a"
   }
  }
 },
 "nbformat": 4,
 "nbformat_minor": 2
}
