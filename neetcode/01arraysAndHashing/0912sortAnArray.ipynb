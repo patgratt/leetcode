{
 "cells": [
  {
   "cell_type": "code",
   "execution_count": null,
   "metadata": {},
   "outputs": [],
   "source": [
    "# merge sort\n",
    "\n",
    "def sortArray(self, nums: list[int]) -> list[int]:\n",
    "\n",
    "    def merge(arr, L, M, R):\n",
    "        left, right = arr[L:M+1], arr[M+1:R+1]\n",
    "        i, j, k = L, 0, 0\n",
    "        while j < len(left) and k < len(right):\n",
    "            if left[j] <= right[k]:\n",
    "                arr[i] = left[j]\n",
    "                j += 1\n",
    "            else:\n",
    "                arr[i] = right[k]\n",
    "                k += 1\n",
    "            i += 1\n",
    "        while j < len(left):\n",
    "            nums[i] = left[j]\n",
    "            j += 1\n",
    "            i += 1\n",
    "        while k < len(right):\n",
    "            nums[i] = right[k]\n",
    "            k += 1\n",
    "            i += 1\n",
    "\n",
    "\n",
    "    def mergeSort(arr, l, r):\n",
    "        # base case, arr is size 1\n",
    "        if l == r:\n",
    "            return arr\n",
    "        \n",
    "        m = (l + r) // 2 # get middle index\n",
    "        mergeSort(arr, l, m) # recursive call on left half\n",
    "        mergeSort(arr, m + 1, r) # recursive call on right half\n",
    "        merge(arr ,l, m, r)\n",
    "        return arr\n",
    "    \n",
    "    return mergeSort(nums, 0, len(nums) - 1)\n"
   ]
  }
 ],
 "metadata": {
  "language_info": {
   "name": "python"
  },
  "orig_nbformat": 4
 },
 "nbformat": 4,
 "nbformat_minor": 2
}
