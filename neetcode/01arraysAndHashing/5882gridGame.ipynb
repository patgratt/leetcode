{
 "cells": [
  {
   "cell_type": "code",
   "execution_count": null,
   "metadata": {},
   "outputs": [],
   "source": [
    "# neetcode\n",
    "# Time: O(n) Space: O(1)\n",
    "\n",
    "class Solution(object):\n",
    "    def gridGame(self, grid):\n",
    "        result = float(\"inf\")\n",
    "        left, right = 0, sum(grid[0])\n",
    "\n",
    "        for a, b in zip(grid[0], grid[1]):\n",
    "            right -= a\n",
    "            result = min(result, max(left, right))\n",
    "            left += b\n",
    "        return result"
   ]
  }
 ],
 "metadata": {
  "language_info": {
   "name": "python"
  },
  "orig_nbformat": 4
 },
 "nbformat": 4,
 "nbformat_minor": 2
}
