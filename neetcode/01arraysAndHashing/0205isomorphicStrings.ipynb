{
 "cells": [
  {
   "cell_type": "code",
   "execution_count": 12,
   "metadata": {},
   "outputs": [],
   "source": [
    "s1 = 'badc'\n",
    "t1 = 'baba'"
   ]
  },
  {
   "cell_type": "code",
   "execution_count": 13,
   "metadata": {},
   "outputs": [],
   "source": [
    "def isIsomorphic(self, s: str, t: str) -> bool:\n",
    "    # map them both ways\n",
    "    mapST, mapTS = {}, {}\n",
    "    \n",
    "    for i in range(len(s)):\n",
    "        c1, c2 = s[i], t[i]\n",
    "\n",
    "        if ((c1 in mapST and mapST[c1] != c2)) or (c2 in mapTS and mapTS[c2] != mapTS[c1]):\n",
    "            return False\n",
    "\n",
    "        mapST[c1] = c2\n",
    "        mapTS[c2] = c1\n",
    "    return True"
   ]
  }
 ],
 "metadata": {
  "kernelspec": {
   "display_name": "Python 3.9.14 64-bit",
   "language": "python",
   "name": "python3"
  },
  "language_info": {
   "codemirror_mode": {
    "name": "ipython",
    "version": 3
   },
   "file_extension": ".py",
   "mimetype": "text/x-python",
   "name": "python",
   "nbconvert_exporter": "python",
   "pygments_lexer": "ipython3",
   "version": "3.9.14"
  },
  "orig_nbformat": 4,
  "vscode": {
   "interpreter": {
    "hash": "397704579725e15f5c7cb49fe5f0341eb7531c82d19f2c29d197e8b64ab5776b"
   }
  }
 },
 "nbformat": 4,
 "nbformat_minor": 2
}
