{
 "cells": [
  {
   "cell_type": "code",
   "execution_count": 4,
   "metadata": {},
   "outputs": [
    {
     "data": {
      "text/plain": [
       "[5, 6]"
      ]
     },
     "execution_count": 4,
     "metadata": {},
     "output_type": "execute_result"
    }
   ],
   "source": [
    "# what i was trying to do, should have used a set rather than a list and I would have been good\n",
    "# this is suboptimal still bc it uses extra space\n",
    "\n",
    "def findDisappearedNumbers(nums):\n",
    "\n",
    "    correct = set(range(1,len(nums) + 1))\n",
    "\n",
    "    for x in nums:\n",
    "        if x in correct:\n",
    "            correct.remove(x)\n",
    "        \n",
    "    return list(correct)\n",
    "\n",
    "findDisappearedNumbers([4,3,2,7,8,2,3,1]) # [5, 6]"
   ]
  },
  {
   "cell_type": "code",
   "execution_count": 7,
   "metadata": {},
   "outputs": [
    {
     "data": {
      "text/plain": [
       "[5, 6]"
      ]
     },
     "execution_count": 7,
     "metadata": {},
     "output_type": "execute_result"
    }
   ],
   "source": [
    "# optimal - neetcode - TC: O(n) SC: O(1)\n",
    "\n",
    "nums1 = [4,3,2,7,8,2,3,1]\n",
    "\n",
    "def findDisappearedNumbers(nums):\n",
    "    res = []\n",
    "\n",
    "    # scan thru and mark index position where numbers are present\n",
    "    for x in nums:\n",
    "        # create an i that is 1-indexed, make sure to do abs in case we've already marked\n",
    "        i = abs(x) - 1\n",
    "        # mark it with neg\n",
    "        nums[i] = -1 * abs(nums[i])\n",
    "\n",
    "    for i, x in enumerate(nums):\n",
    "        if x > 0: res.append(i + 1)\n",
    "\n",
    "    return res\n",
    "\n",
    "findDisappearedNumbers(nums1)"
   ]
  }
 ],
 "metadata": {
  "kernelspec": {
   "display_name": "Python 3.10.6 64-bit",
   "language": "python",
   "name": "python3"
  },
  "language_info": {
   "codemirror_mode": {
    "name": "ipython",
    "version": 3
   },
   "file_extension": ".py",
   "mimetype": "text/x-python",
   "name": "python",
   "nbconvert_exporter": "python",
   "pygments_lexer": "ipython3",
   "version": "3.10.6"
  },
  "orig_nbformat": 4,
  "vscode": {
   "interpreter": {
    "hash": "e7370f93d1d0cde622a1f8e1c04877d8463912d04d973331ad4851f04de6915a"
   }
  }
 },
 "nbformat": 4,
 "nbformat_minor": 2
}
