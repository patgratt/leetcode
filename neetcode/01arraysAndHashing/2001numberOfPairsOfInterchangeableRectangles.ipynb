{
 "cells": [
  {
   "cell_type": "code",
   "execution_count": 1,
   "metadata": {},
   "outputs": [],
   "source": [
    "# my solution\n",
    "\n",
    "from math import comb\n",
    "\n",
    "class Solution:\n",
    "    def interchangeableRectangles(self, rectangles: list[list[int]]) -> int:\n",
    "\n",
    "        res = 0\n",
    "        ratioCnt = {}\n",
    "\n",
    "        for i in range(len(rectangles)):\n",
    "            ratio = rectangles[i][0] / rectangles[i][1]\n",
    "            ratioCnt[ratio] = ratioCnt.get(ratio,0)\n",
    "            ratioCnt[ratio] += 1\n",
    "        \n",
    "        for n in ratioCnt.values():\n",
    "            res += comb(n,2)\n",
    "        \n",
    "        return res"
   ]
  },
  {
   "cell_type": "code",
   "execution_count": 2,
   "metadata": {},
   "outputs": [],
   "source": [
    "# neetcode\n",
    "\n",
    "class Solution:\n",
    "    def interchangeableRectangles(self, rectangles: list[list[int]]) -> int:\n",
    "\n",
    "        count = {}\n",
    "\n",
    "        for w, h in rectangles:\n",
    "            count[w / h] = 1 + count.get(w / h, 0)\n",
    "\n",
    "        res = 0\n",
    "        for c in count.values():\n",
    "            if c > 1:\n",
    "                res += (c * (c - 1)) // 2\n",
    "\n",
    "        return res"
   ]
  }
 ],
 "metadata": {
  "kernelspec": {
   "display_name": "Python 3",
   "language": "python",
   "name": "python3"
  },
  "language_info": {
   "codemirror_mode": {
    "name": "ipython",
    "version": 3
   },
   "file_extension": ".py",
   "mimetype": "text/x-python",
   "name": "python",
   "nbconvert_exporter": "python",
   "pygments_lexer": "ipython3",
   "version": "3.10.6"
  },
  "orig_nbformat": 4,
  "vscode": {
   "interpreter": {
    "hash": "767d51c1340bd893661ea55ea3124f6de3c7a262a8b4abca0554b478b1e2ff90"
   }
  }
 },
 "nbformat": 4,
 "nbformat_minor": 2
}
