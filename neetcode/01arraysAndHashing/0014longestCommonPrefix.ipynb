{
 "cells": [
  {
   "cell_type": "code",
   "execution_count": 17,
   "metadata": {},
   "outputs": [
    {
     "name": "stdout",
     "output_type": "stream",
     "text": [
      "\n",
      "a\n",
      "f\n"
     ]
    }
   ],
   "source": [
    "def longestCommonPrefix(strs):\n",
    "    # edge case\n",
    "    if len(strs) == 1:\n",
    "        return strs[0]\n",
    "\n",
    "    res = []\n",
    "    w = 0 # word\n",
    "    l = 0 # letter\n",
    "    # to keep j in bounds, even if there's empty string we check and break before using l to slice\n",
    "    minLen = 1\n",
    "    while w < len(strs) and l < minLen:\n",
    "        minLen = min(minLen, len(strs[w]))\n",
    "        # if at any point we have an empty string there's no common prefix\n",
    "        if strs[w] == \"\":\n",
    "            return \"\"\n",
    "        # if we reach last word and letters were all same\n",
    "        if w == len(strs) - 1:\n",
    "            res.append(strs[w][l])\n",
    "            w = 0\n",
    "            l += 1\n",
    "        # if the condition becomes invalid\n",
    "        if strs[w][l] != strs[w+1][l]:\n",
    "            return \"\".join(res)\n",
    "        w += 1\n",
    "    \n",
    "    return \"\".join(res)\n",
    "\n",
    "strs1 = [\"\"]\n",
    "print(longestCommonPrefix(strs1))\n",
    "strs2 = [\"abc\",\"abd\"]\n",
    "print(longestCommonPrefix(strs2))\n",
    "strs3 = [\"flower\",\"flow\",\"flight\"]\n",
    "print(longestCommonPrefix(strs3))"
   ]
  },
  {
   "cell_type": "code",
   "execution_count": 14,
   "metadata": {},
   "outputs": [
    {
     "data": {
      "text/plain": [
       "''"
      ]
     },
     "execution_count": 14,
     "metadata": {},
     "output_type": "execute_result"
    }
   ],
   "source": [
    "g = [\"\"]\n",
    "g[0]"
   ]
  },
  {
   "cell_type": "code",
   "execution_count": null,
   "metadata": {},
   "outputs": [],
   "source": [
    "# my working suboptimal solution next try\n",
    "\n",
    "class Solution:\n",
    "    def longestCommonPrefix(self, strs: List[str]) -> str:\n",
    "        # edge case, only one word, nothing to compare\n",
    "        if len(strs) == 1:\n",
    "            return strs[0]\n",
    "\n",
    "        res = \"\"\n",
    "\n",
    "        # one pass to get len of shortest word in strs\n",
    "        min_len = float(math.inf)\n",
    "        for x in strs:\n",
    "            min_len = min(min_len,len(x))\n",
    "\n",
    "        # tracks chars we need to check\n",
    "        for i in range(min_len):\n",
    "            for j in range(1, len(strs)):\n",
    "                if strs[j][i] != strs[j-1][i]:\n",
    "                    return res\n",
    "            res += strs[0][i]\n",
    "        \n",
    "        return res"
   ]
  }
 ],
 "metadata": {
  "kernelspec": {
   "display_name": "Python 3.10.6 64-bit",
   "language": "python",
   "name": "python3"
  },
  "language_info": {
   "codemirror_mode": {
    "name": "ipython",
    "version": 3
   },
   "file_extension": ".py",
   "mimetype": "text/x-python",
   "name": "python",
   "nbconvert_exporter": "python",
   "pygments_lexer": "ipython3",
   "version": "3.10.6"
  },
  "orig_nbformat": 4,
  "vscode": {
   "interpreter": {
    "hash": "767d51c1340bd893661ea55ea3124f6de3c7a262a8b4abca0554b478b1e2ff90"
   }
  }
 },
 "nbformat": 4,
 "nbformat_minor": 2
}
