{
 "cells": [
  {
   "cell_type": "code",
   "execution_count": 4,
   "metadata": {},
   "outputs": [],
   "source": [
    "# O(n * m) = O(n^2) = brute force\n",
    "\n",
    "def nextGreaterElement(nums1, nums2):\n",
    "    # create hashmap of element : index for nums1\n",
    "    nums1Idx = { e:i for i, e in enumerate(nums1)}\n",
    "    # default vals in res arr to -1\n",
    "    res = [-1] * len(nums1)\n",
    "\n",
    "    # scan thru nums2\n",
    "    for i in range(len(nums2)):\n",
    "        # if isn't present in nums2 skip\n",
    "        if nums2[i] not in nums1Idx:\n",
    "            continue\n",
    "        # scan for next greatest\n",
    "        for j in range(i + 1, len(nums2)):\n",
    "            # if we find\n",
    "            if nums2[j] > nums2[i]:\n",
    "                # pull the original index of this number\n",
    "                idx = nums1Idx[nums2[i]]\n",
    "                # insert into res at original idk the next greatest we just found\n",
    "                res[idx] = nums2[j]\n",
    "                break\n",
    "    return res"
   ]
  },
  {
   "cell_type": "code",
   "execution_count": 5,
   "metadata": {},
   "outputs": [],
   "source": [
    "# O(n + m) = O(n) = optimal\n",
    "\n",
    "def nextGreaterElement(nums1, nums2):\n",
    "    # create hashmap of element : index for nums1\n",
    "    nums1Idx = { e:i for i, e in enumerate(nums1)}\n",
    "    # default vals in res arr to -1\n",
    "    res = [-1] * len(nums1)\n",
    "\n",
    "    stack = []\n",
    "    for i in range(len(nums2)):\n",
    "        cur = nums2[i]\n",
    "        while stack and cur > stack[-1]:\n",
    "            val = stack.pop()\n",
    "            idx = nums1Idx[val]\n",
    "            res[idx] = cur\n",
    "        if cur in nums1Idx:\n",
    "            stack.append(cur)\n",
    "    \n",
    "    return res"
   ]
  }
 ],
 "metadata": {
  "kernelspec": {
   "display_name": "Python 3.9.14 64-bit",
   "language": "python",
   "name": "python3"
  },
  "language_info": {
   "codemirror_mode": {
    "name": "ipython",
    "version": 3
   },
   "file_extension": ".py",
   "mimetype": "text/x-python",
   "name": "python",
   "nbconvert_exporter": "python",
   "pygments_lexer": "ipython3",
   "version": "3.9.14"
  },
  "orig_nbformat": 4,
  "vscode": {
   "interpreter": {
    "hash": "397704579725e15f5c7cb49fe5f0341eb7531c82d19f2c29d197e8b64ab5776b"
   }
  }
 },
 "nbformat": 4,
 "nbformat_minor": 2
}
