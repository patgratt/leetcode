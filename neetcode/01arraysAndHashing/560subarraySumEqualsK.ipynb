{
 "cells": [
  {
   "cell_type": "code",
   "execution_count": 1,
   "metadata": {},
   "outputs": [],
   "source": [
    "# my brute force\n",
    "\n",
    "def subarraySum(self, nums: list[int], k: int) -> int:\n",
    "\n",
    "        res = 0\n",
    "\n",
    "        for i in range(len(nums)):\n",
    "            currSum = nums[i]\n",
    "            if currSum == k:\n",
    "                res += 1\n",
    "            for j in range(i+1, len(nums)):\n",
    "                currSum += nums[j]\n",
    "                if currSum == k:\n",
    "                    res += 1\n",
    "        \n",
    "        return res"
   ]
  },
  {
   "cell_type": "code",
   "execution_count": 2,
   "metadata": {},
   "outputs": [],
   "source": [
    "# neetcode\n",
    "\n",
    "def subarraySum(self, nums: list[int], k: int) -> int:\n",
    "\n",
    "    res = 0\n",
    "    curSum = 0\n",
    "    prefixSums  = { 0 : 1 }\n",
    "\n",
    "    for n in nums:\n",
    "        curSum += n\n",
    "        diff = curSum - k\n",
    "\n",
    "        res += prefixSums.get(diff, 0)\n",
    "        prefixSums[curSum] = 1 + prefixSums.get(curSum, 0)\n",
    "\n",
    "    return res"
   ]
  }
 ],
 "metadata": {
  "kernelspec": {
   "display_name": "Python 3",
   "language": "python",
   "name": "python3"
  },
  "language_info": {
   "codemirror_mode": {
    "name": "ipython",
    "version": 3
   },
   "file_extension": ".py",
   "mimetype": "text/x-python",
   "name": "python",
   "nbconvert_exporter": "python",
   "pygments_lexer": "ipython3",
   "version": "3.10.6"
  },
  "orig_nbformat": 4,
  "vscode": {
   "interpreter": {
    "hash": "767d51c1340bd893661ea55ea3124f6de3c7a262a8b4abca0554b478b1e2ff90"
   }
  }
 },
 "nbformat": 4,
 "nbformat_minor": 2
}
