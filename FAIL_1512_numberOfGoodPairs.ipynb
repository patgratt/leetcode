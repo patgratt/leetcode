{
 "cells": [
  {
   "cell_type": "code",
   "execution_count": 1,
   "id": "bfe8ee16",
   "metadata": {},
   "outputs": [],
   "source": [
    "ex_nums = [1,2,3,1,1,3]"
   ]
  },
  {
   "cell_type": "code",
   "execution_count": 29,
   "id": "408597a9",
   "metadata": {},
   "outputs": [],
   "source": [
    "def numIdenticalPairs(nums):\n",
    "    result = []\n",
    "    for i, a in enumerate(nums):\n",
    "        while nums[i] == \n",
    "                result.append(i)\n",
    "    return (result)    "
   ]
  },
  {
   "cell_type": "code",
   "execution_count": 30,
   "id": "11cca0bd",
   "metadata": {},
   "outputs": [
    {
     "data": {
      "text/plain": [
       "[0, 0, 1, 1, 1, 2, 3, 3, 4, 4, 5]"
      ]
     },
     "execution_count": 30,
     "metadata": {},
     "output_type": "execute_result"
    }
   ],
   "source": [
    "numIdenticalPairs(ex_nums)\n",
    "#fail"
   ]
  },
  {
   "cell_type": "code",
   "execution_count": 31,
   "id": "0e448941",
   "metadata": {},
   "outputs": [
    {
     "data": {
      "text/plain": [
       "[1, 2, 3, 1, 1, 3]"
      ]
     },
     "execution_count": 31,
     "metadata": {},
     "output_type": "execute_result"
    }
   ],
   "source": [
    "ex_nums"
   ]
  },
  {
   "cell_type": "code",
   "execution_count": 43,
   "id": "58d83030",
   "metadata": {},
   "outputs": [
    {
     "name": "stdout",
     "output_type": "stream",
     "text": [
      "Counter({1: 3, 3: 2, 2: 1})\n"
     ]
    },
    {
     "data": {
      "text/plain": [
       "4.0"
      ]
     },
     "execution_count": 43,
     "metadata": {},
     "output_type": "execute_result"
    }
   ],
   "source": [
    "# one liner solution with collections module\n",
    "\n",
    "import collections\n",
    "print(collections.Counter(ex_nums))\n",
    "\n",
    "# dict subclass for counting hashable objects, collection where elements are stored as dictionary keys and counts are values\n",
    "def numberOfGoodPairs(A):\n",
    "    return sum(k * (k - 1) / 2 for k in collections.Counter(A).values())\n",
    "numberOfGoodPairs(ex_nums)"
   ]
  },
  {
   "cell_type": "markdown",
   "id": "1e48dc03",
   "metadata": {},
   "source": [
    "https://leetcode.com/problems/number-of-good-pairs/discuss/736565/Python-Simple-O(n)-Solution\n",
    "good solution explanation here"
   ]
  },
  {
   "cell_type": "code",
   "execution_count": null,
   "id": "9ad1c805",
   "metadata": {},
   "outputs": [],
   "source": []
  }
 ],
 "metadata": {
  "kernelspec": {
   "display_name": "Python 3 (ipykernel)",
   "language": "python",
   "name": "python3"
  },
  "language_info": {
   "codemirror_mode": {
    "name": "ipython",
    "version": 3
   },
   "file_extension": ".py",
   "mimetype": "text/x-python",
   "name": "python",
   "nbconvert_exporter": "python",
   "pygments_lexer": "ipython3",
   "version": "3.9.7"
  }
 },
 "nbformat": 4,
 "nbformat_minor": 5
}
