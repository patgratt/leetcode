{
 "cells": [
  {
   "cell_type": "code",
   "execution_count": 8,
   "metadata": {},
   "outputs": [
    {
     "name": "stdout",
     "output_type": "stream",
     "text": [
      "[0]\n"
     ]
    }
   ],
   "source": [
    "# solution i came up with\n",
    "def sumZero(n):\n",
    "    # edge case \n",
    "    if n == 1:\n",
    "        return [0]\n",
    "    \n",
    "    res = []\n",
    "    \n",
    "    for i in range(-(n//2), 0):\n",
    "        res.append(i)\n",
    "    \n",
    "    # if odd append 0\n",
    "    if n % 2 != 0:\n",
    "        res.append(0)\n",
    "    \n",
    "    for i in range(1, (n//2)+1):\n",
    "        res.append(i)\n",
    "    \n",
    "    return res"
   ]
  },
  {
   "cell_type": "code",
   "execution_count": 3,
   "metadata": {},
   "outputs": [
    {
     "name": "stdout",
     "output_type": "stream",
     "text": [
      "[0]\n",
      "[-1, 1]\n",
      "[-1, 0, 1]\n",
      "[-2, -1, 1, 2]\n",
      "[-2, -1, 0, 1, 2]\n"
     ]
    }
   ],
   "source": [
    "print(sumZero(1))\n",
    "print(sumZero(2))\n",
    "print(sumZero(3))\n",
    "print(sumZero(4))\n",
    "print(sumZero(5))"
   ]
  },
  {
   "cell_type": "code",
   "execution_count": 6,
   "metadata": {},
   "outputs": [],
   "source": [
    "# much easier prob better solution, different output but also works\n",
    "def sumZero(n):\n",
    "    return list(range(1 - n, n, 2))"
   ]
  },
  {
   "cell_type": "code",
   "execution_count": 7,
   "metadata": {},
   "outputs": [
    {
     "name": "stdout",
     "output_type": "stream",
     "text": [
      "[0]\n",
      "[-1, 1]\n",
      "[-2, 0, 2]\n",
      "[-3, -1, 1, 3]\n",
      "[-4, -2, 0, 2, 4]\n"
     ]
    }
   ],
   "source": [
    "print(sumZero(1))\n",
    "print(sumZero(2))\n",
    "print(sumZero(3))\n",
    "print(sumZero(4))\n",
    "print(sumZero(5))"
   ]
  }
 ],
 "metadata": {
  "kernelspec": {
   "display_name": "Python 3.9.12 ('base')",
   "language": "python",
   "name": "python3"
  },
  "language_info": {
   "codemirror_mode": {
    "name": "ipython",
    "version": 3
   },
   "file_extension": ".py",
   "mimetype": "text/x-python",
   "name": "python",
   "nbconvert_exporter": "python",
   "pygments_lexer": "ipython3",
   "version": "3.9.12"
  },
  "orig_nbformat": 4,
  "vscode": {
   "interpreter": {
    "hash": "40203b3ec892d21f304b904bd7441b754322a8b95cad2515f623282baa87ac4b"
   }
  }
 },
 "nbformat": 4,
 "nbformat_minor": 2
}
