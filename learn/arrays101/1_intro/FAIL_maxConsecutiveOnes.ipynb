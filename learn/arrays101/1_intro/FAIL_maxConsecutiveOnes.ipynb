{
 "cells": [
  {
   "cell_type": "code",
   "execution_count": 1,
   "metadata": {},
   "outputs": [],
   "source": [
    "ex_nums = [1,1,0,1,1,1]\n",
    "# ans = 3\n"
   ]
  },
  {
   "cell_type": "code",
   "execution_count": 7,
   "metadata": {},
   "outputs": [],
   "source": [
    "def findMaxConsecutiveOnes(nums):\n",
    "    window_list = []\n",
    "    for a in nums:\n",
    "        window = 0\n",
    "        while a == 1:\n",
    "            window += 1\n",
    "        window_list.append(window)\n",
    "    return window_list.max()"
   ]
  },
  {
   "cell_type": "code",
   "execution_count": 10,
   "metadata": {},
   "outputs": [],
   "source": [
    "# findMaxConsecutiveOnes(ex_nums)\n",
    "# no bueno"
   ]
  },
  {
   "cell_type": "code",
   "execution_count": 11,
   "metadata": {},
   "outputs": [],
   "source": [
    "# this is pretty much what I was trying to do\n",
    "\n",
    "def findMaxConsecutiveOnes(nums):\n",
    "    # counter of the window of consecutive ones\n",
    "    count = 0\n",
    "    \n",
    "    ans = 0\n",
    "    for value in nums:\n",
    "        if value == 1:\n",
    "            count += 1\n",
    "            ans = max(ans, count)\n",
    "        else:\n",
    "            count = 0\n",
    "    return ans\n"
   ]
  },
  {
   "cell_type": "code",
   "execution_count": null,
   "metadata": {},
   "outputs": [],
   "source": []
  }
 ],
 "metadata": {
  "kernelspec": {
   "display_name": "Python 3.9.12 ('base')",
   "language": "python",
   "name": "python3"
  },
  "language_info": {
   "codemirror_mode": {
    "name": "ipython",
    "version": 3
   },
   "file_extension": ".py",
   "mimetype": "text/x-python",
   "name": "python",
   "nbconvert_exporter": "python",
   "pygments_lexer": "ipython3",
   "version": "3.9.12"
  },
  "orig_nbformat": 4,
  "vscode": {
   "interpreter": {
    "hash": "40203b3ec892d21f304b904bd7441b754322a8b95cad2515f623282baa87ac4b"
   }
  }
 },
 "nbformat": 4,
 "nbformat_minor": 2
}
