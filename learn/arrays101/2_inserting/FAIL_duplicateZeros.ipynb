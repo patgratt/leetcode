{
 "cells": [
  {
   "cell_type": "code",
   "execution_count": 13,
   "metadata": {},
   "outputs": [],
   "source": [
    "ex = [1,0,2,3,0,4,5,0]"
   ]
  },
  {
   "cell_type": "code",
   "execution_count": 12,
   "metadata": {},
   "outputs": [
    {
     "ename": "IndentationError",
     "evalue": "expected an indented block (3301747379.py, line 5)",
     "output_type": "error",
     "traceback": [
      "\u001b[0;36m  Input \u001b[0;32mIn [12]\u001b[0;36m\u001b[0m\n\u001b[0;31m    def duplicateZeros(self, arr: List[int]) -> None:\u001b[0m\n\u001b[0m                                                     ^\u001b[0m\n\u001b[0;31mIndentationError\u001b[0m\u001b[0;31m:\u001b[0m expected an indented block\n"
     ]
    }
   ],
   "source": [
    "# random note this is needed to do boilerplate\n",
    "from typing import List\n",
    "# boilerplate\n",
    "class Solution:\n",
    "    def duplicateZeros(self, arr: List[int]) -> None:"
   ]
  },
  {
   "cell_type": "code",
   "execution_count": 15,
   "metadata": {},
   "outputs": [],
   "source": [
    "def duplicateZeros(arr):\n",
    "    for i, num in enumerate(arr):\n",
    "        if num == 0:\n",
    "            arr.insert(i,0)\n",
    "        else:\n",
    "            pass"
   ]
  },
  {
   "cell_type": "code",
   "execution_count": 16,
   "metadata": {},
   "outputs": [
    {
     "ename": "KeyboardInterrupt",
     "evalue": "",
     "output_type": "error",
     "traceback": [
      "\u001b[0;31m---------------------------------------------------------------------------\u001b[0m",
      "\u001b[0;31mKeyboardInterrupt\u001b[0m                         Traceback (most recent call last)",
      "\u001b[1;32m/Users/patrickburke/repos/leetcode/learn/arrays101/2_inserting/duplicateZeros.ipynb Cell 4'\u001b[0m in \u001b[0;36m<cell line: 1>\u001b[0;34m()\u001b[0m\n\u001b[0;32m----> <a href='vscode-notebook-cell:/Users/patrickburke/repos/leetcode/learn/arrays101/2_inserting/duplicateZeros.ipynb#ch0000002?line=0'>1</a>\u001b[0m duplicateZeros(ex)\n",
      "\u001b[1;32m/Users/patrickburke/repos/leetcode/learn/arrays101/2_inserting/duplicateZeros.ipynb Cell 3'\u001b[0m in \u001b[0;36mduplicateZeros\u001b[0;34m(arr)\u001b[0m\n\u001b[1;32m      <a href='vscode-notebook-cell:/Users/patrickburke/repos/leetcode/learn/arrays101/2_inserting/duplicateZeros.ipynb#ch0000001?line=1'>2</a>\u001b[0m \u001b[39mfor\u001b[39;00m i, num \u001b[39min\u001b[39;00m \u001b[39menumerate\u001b[39m(arr):\n\u001b[1;32m      <a href='vscode-notebook-cell:/Users/patrickburke/repos/leetcode/learn/arrays101/2_inserting/duplicateZeros.ipynb#ch0000001?line=2'>3</a>\u001b[0m     \u001b[39mif\u001b[39;00m num \u001b[39m==\u001b[39m \u001b[39m0\u001b[39m:\n\u001b[0;32m----> <a href='vscode-notebook-cell:/Users/patrickburke/repos/leetcode/learn/arrays101/2_inserting/duplicateZeros.ipynb#ch0000001?line=3'>4</a>\u001b[0m         arr\u001b[39m.\u001b[39;49minsert(i,\u001b[39m0\u001b[39;49m)\n\u001b[1;32m      <a href='vscode-notebook-cell:/Users/patrickburke/repos/leetcode/learn/arrays101/2_inserting/duplicateZeros.ipynb#ch0000001?line=4'>5</a>\u001b[0m     \u001b[39melse\u001b[39;00m:\n\u001b[1;32m      <a href='vscode-notebook-cell:/Users/patrickburke/repos/leetcode/learn/arrays101/2_inserting/duplicateZeros.ipynb#ch0000001?line=5'>6</a>\u001b[0m         \u001b[39mpass\u001b[39;00m\n",
      "\u001b[0;31mKeyboardInterrupt\u001b[0m: "
     ]
    }
   ],
   "source": [
    "duplicateZeros(ex)"
   ]
  },
  {
   "cell_type": "markdown",
   "metadata": {},
   "source": [
    "previous solution is somehow and infinite loop, idk why"
   ]
  },
  {
   "cell_type": "markdown",
   "metadata": {},
   "source": [
    "- I missed the part where it says \"Note that elements beyond the length of the original array are not written\"\n",
    "- that means any time a zero is added the element on the end would get deleted"
   ]
  },
  {
   "cell_type": "markdown",
   "metadata": {},
   "source": [
    "<h1> I do not understand this at all"
   ]
  },
  {
   "cell_type": "code",
   "execution_count": 19,
   "metadata": {},
   "outputs": [],
   "source": [
    "# solution from leetcode\n",
    "\n",
    "def duplicateZeros(arr):\n",
    "    # we'll use this to count the number of zeros which will be duplicated (but need to make sure they aren't ones that will get trimmed off)\n",
    "    possible_dups = 0\n",
    "    # idk\n",
    "    length_ = len(arr) - 1\n",
    "    # find the number of zeros to be duplicated\n",
    "    for left in range(length_ + 1):\n",
    "        # stop when left points beyond the last element in the original list, which would be part of the modified list\n",
    "        if left > length_ - possible_dups:\n",
    "            break\n",
    "        # count the zeros\n",
    "        if arr[left] == 0:\n",
    "            # edge case: this 0 can't be duplicated, we have no more space, as left is pointing to the last element which could be included\n",
    "            if left == length_ - possible_dups:\n",
    "                # for this zero we just copy it without duplication\n",
    "                arr[length_] == 0\n",
    "                length_ -= 1\n",
    "                break\n",
    "            possible_dups += 1\n",
    "\n",
    "    # Start backwards from the last element which would be part of new list.\n",
    "    last = length_ - possible_dups\n",
    "\n",
    "    # Copy zero twice, and non zero once.\n",
    "    for i in range(last, -1, -1):\n",
    "        if arr[i] == 0:\n",
    "            arr[i + possible_dups] = 0\n",
    "            possible_dups -= 1\n",
    "            arr[i + possible_dups] = 0\n",
    "        else:\n",
    "            arr[i + possible_dups] = arr[i]"
   ]
  },
  {
   "cell_type": "code",
   "execution_count": null,
   "metadata": {},
   "outputs": [],
   "source": []
  }
 ],
 "metadata": {
  "kernelspec": {
   "display_name": "Python 3.9.12 ('base')",
   "language": "python",
   "name": "python3"
  },
  "language_info": {
   "codemirror_mode": {
    "name": "ipython",
    "version": 3
   },
   "file_extension": ".py",
   "mimetype": "text/x-python",
   "name": "python",
   "nbconvert_exporter": "python",
   "pygments_lexer": "ipython3",
   "version": "3.9.12"
  },
  "orig_nbformat": 4,
  "vscode": {
   "interpreter": {
    "hash": "40203b3ec892d21f304b904bd7441b754322a8b95cad2515f623282baa87ac4b"
   }
  }
 },
 "nbformat": 4,
 "nbformat_minor": 2
}
