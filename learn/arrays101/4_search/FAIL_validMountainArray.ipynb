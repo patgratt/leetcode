{
 "cells": [
  {
   "cell_type": "code",
   "execution_count": 25,
   "metadata": {},
   "outputs": [],
   "source": [
    "import collections\n",
    "\n",
    "def ValidMountainArray(arr):\n",
    "    i = 0\n",
    "    inc = []\n",
    "    dec = []\n",
    "    while arr[i] <= max(arr):\n",
    "        inc.append(arr[i])\n",
    "        i += 1\n",
    "    while arr[i] >= max(arr):\n",
    "        dec.append(arr[i])\n",
    "    count1 = collections.Counter(inc)\n",
    "    count2 = collections.Counter(dec)\n",
    "    print(count1)\n",
    "    print(count2)"
   ]
  },
  {
   "cell_type": "code",
   "execution_count": 27,
   "metadata": {},
   "outputs": [],
   "source": [
    "ex = [3,5,5] #false\n",
    "ex2 = [0,3,2,1] #true\n",
    "ex3 = [0,2,3,4,5,2,1,0] #true\n",
    "ex4 = [0,2,3,3,5,2,1,0] #false\n",
    "\n",
    "#ValidMountainArray(ex)\n",
    "#Fail"
   ]
  },
  {
   "cell_type": "code",
   "execution_count": 29,
   "metadata": {},
   "outputs": [],
   "source": [
    "#discussion solution\n",
    "\n",
    "def validMountainArray(arr):\n",
    "    # automatically can only be true if len >= 3\n",
    "    if len(arr) < 3:\n",
    "        return False\n",
    "    # we use i to loop forwards\n",
    "    i = 0\n",
    "    # j to loop backwards\n",
    "    j = len(arr) - 1\n",
    "    # loop forwards while i is strictly increasing\n",
    "    while i + 1 < len(arr) - 1 and arr[i] < arr[i+1]:\n",
    "        i += 1\n",
    "    # loop backwards while j is stricly decreasing\n",
    "    while j - 1 > 0 and arr[j] < arr[j -1]:\n",
    "        j -= 1\n",
    "    # if they end up on the same value then its true\n",
    "    return i == j"
   ]
  },
  {
   "cell_type": "code",
   "execution_count": 31,
   "metadata": {},
   "outputs": [
    {
     "name": "stdout",
     "output_type": "stream",
     "text": [
      "False\n",
      "True\n",
      "True\n",
      "False\n"
     ]
    }
   ],
   "source": [
    "print(validMountainArray(ex))\n",
    "print(validMountainArray(ex2))\n",
    "print(validMountainArray(ex3))\n",
    "print(validMountainArray(ex4))"
   ]
  },
  {
   "cell_type": "code",
   "execution_count": null,
   "metadata": {},
   "outputs": [],
   "source": []
  }
 ],
 "metadata": {
  "kernelspec": {
   "display_name": "Python 3.9.12 ('base')",
   "language": "python",
   "name": "python3"
  },
  "language_info": {
   "codemirror_mode": {
    "name": "ipython",
    "version": 3
   },
   "file_extension": ".py",
   "mimetype": "text/x-python",
   "name": "python",
   "nbconvert_exporter": "python",
   "pygments_lexer": "ipython3",
   "version": "3.9.12"
  },
  "orig_nbformat": 4,
  "vscode": {
   "interpreter": {
    "hash": "40203b3ec892d21f304b904bd7441b754322a8b95cad2515f623282baa87ac4b"
   }
  }
 },
 "nbformat": 4,
 "nbformat_minor": 2
}
